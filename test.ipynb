{
 "cells": [
  {
   "cell_type": "markdown",
   "metadata": {},
   "source": [
    "# MyTrain"
   ]
  },
  {
   "cell_type": "markdown",
   "metadata": {},
   "source": [
    "## DataSetInitialization"
   ]
  },
  {
   "cell_type": "code",
   "execution_count": 1,
   "metadata": {},
   "outputs": [],
   "source": [
    "import sys\n",
    "import logging\n",
    "from logging import getLogger\n",
    "from recbole.utils import init_logger, init_seed\n",
    "from mamba4poi import Mamba4POI\n",
    "from recbole.config import Config\n",
    "from utils import *\n",
    "from recbole.data.transform import construct_transform\n",
    "from recbole.utils import (\n",
    "    init_logger,\n",
    "    get_model,\n",
    "    get_trainer,\n",
    "    init_seed,\n",
    "    set_color,\n",
    "    get_flops,\n",
    "    get_environment,\n",
    ")\n",
    "import torch\n",
    "\n",
    "config = Config(model=Mamba4POI, config_file_list=['config.yaml'])\n",
    "dataset = create_dataset(config)"
   ]
  },
  {
   "cell_type": "markdown",
   "metadata": {},
   "source": [
    "# HyperGraphModel"
   ]
  },
  {
   "cell_type": "code",
   "execution_count": null,
   "metadata": {},
   "outputs": [
    {
     "name": "stderr",
     "output_type": "stream",
     "text": [
      "C:\\Users\\jec\\AppData\\Local\\Temp\\ipykernel_26340\\3232052416.py:5: DeprecationWarning:\n",
      "\n",
      "an integer is required (got type float).  Implicit conversion to integers using __int__ is deprecated, and may be removed in a future version of Python.\n",
      "\n"
     ]
    },
    {
     "ename": "KeyError",
     "evalue": "'latitude'",
     "output_type": "error",
     "traceback": [
      "\u001b[1;31m---------------------------------------------------------------------------\u001b[0m",
      "\u001b[1;31mKeyError\u001b[0m                                  Traceback (most recent call last)",
      "File \u001b[1;32md:\\CODEING\\Anaconda\\envs\\Pytorch\\lib\\site-packages\\pandas\\core\\indexes\\base.py:3653\u001b[0m, in \u001b[0;36mIndex.get_loc\u001b[1;34m(self, key)\u001b[0m\n\u001b[0;32m   3652\u001b[0m \u001b[38;5;28;01mtry\u001b[39;00m:\n\u001b[1;32m-> 3653\u001b[0m     \u001b[38;5;28;01mreturn\u001b[39;00m \u001b[38;5;28;43mself\u001b[39;49m\u001b[38;5;241;43m.\u001b[39;49m\u001b[43m_engine\u001b[49m\u001b[38;5;241;43m.\u001b[39;49m\u001b[43mget_loc\u001b[49m\u001b[43m(\u001b[49m\u001b[43mcasted_key\u001b[49m\u001b[43m)\u001b[49m\n\u001b[0;32m   3654\u001b[0m \u001b[38;5;28;01mexcept\u001b[39;00m \u001b[38;5;167;01mKeyError\u001b[39;00m \u001b[38;5;28;01mas\u001b[39;00m err:\n",
      "File \u001b[1;32md:\\CODEING\\Anaconda\\envs\\Pytorch\\lib\\site-packages\\pandas\\_libs\\index.pyx:147\u001b[0m, in \u001b[0;36mpandas._libs.index.IndexEngine.get_loc\u001b[1;34m()\u001b[0m\n",
      "File \u001b[1;32md:\\CODEING\\Anaconda\\envs\\Pytorch\\lib\\site-packages\\pandas\\_libs\\index.pyx:176\u001b[0m, in \u001b[0;36mpandas._libs.index.IndexEngine.get_loc\u001b[1;34m()\u001b[0m\n",
      "File \u001b[1;32mpandas\\_libs\\hashtable_class_helper.pxi:7080\u001b[0m, in \u001b[0;36mpandas._libs.hashtable.PyObjectHashTable.get_item\u001b[1;34m()\u001b[0m\n",
      "File \u001b[1;32mpandas\\_libs\\hashtable_class_helper.pxi:7088\u001b[0m, in \u001b[0;36mpandas._libs.hashtable.PyObjectHashTable.get_item\u001b[1;34m()\u001b[0m\n",
      "\u001b[1;31mKeyError\u001b[0m: 'latitude'",
      "\nThe above exception was the direct cause of the following exception:\n",
      "\u001b[1;31mKeyError\u001b[0m                                  Traceback (most recent call last)",
      "Cell \u001b[1;32mIn[37], line 12\u001b[0m\n\u001b[0;32m     10\u001b[0m     item_longtitudes\u001b[38;5;241m=\u001b[39mlongtitudes[item_ids]\n\u001b[0;32m     11\u001b[0m     \u001b[38;5;28;01mreturn\u001b[39;00m torch\u001b[38;5;241m.\u001b[39mstack((user_ids,item_ids,categories,item_longtitudes,item_latitudes),dim\u001b[38;5;241m=\u001b[39m\u001b[38;5;241m1\u001b[39m)\n\u001b[1;32m---> 12\u001b[0m HyperEdge\u001b[38;5;241m=\u001b[39m\u001b[43mHyperEdgeList\u001b[49m\u001b[43m(\u001b[49m\u001b[43mdataset\u001b[49m\u001b[43m,\u001b[49m\u001b[43mdevice\u001b[49m\u001b[43m)\u001b[49m\n",
      "Cell \u001b[1;32mIn[37], line 6\u001b[0m, in \u001b[0;36mHyperEdgeList\u001b[1;34m(dataset, device)\u001b[0m\n\u001b[0;32m      4\u001b[0m item_ids \u001b[38;5;241m=\u001b[39m torch\u001b[38;5;241m.\u001b[39mtensor(dataset\u001b[38;5;241m.\u001b[39minter_feat[dataset\u001b[38;5;241m.\u001b[39miid_field], dtype\u001b[38;5;241m=\u001b[39mtorch\u001b[38;5;241m.\u001b[39mint32)\u001b[38;5;241m.\u001b[39mto(device)\n\u001b[0;32m      5\u001b[0m category_ids\u001b[38;5;241m=\u001b[39mtorch\u001b[38;5;241m.\u001b[39mtensor(dataset\u001b[38;5;241m.\u001b[39mitem_feat[\u001b[38;5;124m\"\u001b[39m\u001b[38;5;124mvenue_category_id\u001b[39m\u001b[38;5;124m\"\u001b[39m],dtype\u001b[38;5;241m=\u001b[39mtorch\u001b[38;5;241m.\u001b[39mint32)\u001b[38;5;241m.\u001b[39mto(device)\n\u001b[1;32m----> 6\u001b[0m latitudes\u001b[38;5;241m=\u001b[39mtorch\u001b[38;5;241m.\u001b[39mtensor(\u001b[43mdataset\u001b[49m\u001b[38;5;241;43m.\u001b[39;49m\u001b[43mitem_feat\u001b[49m\u001b[43m[\u001b[49m\u001b[38;5;124;43m\"\u001b[39;49m\u001b[38;5;124;43mlatitude\u001b[39;49m\u001b[38;5;124;43m\"\u001b[39;49m\u001b[43m]\u001b[49m,dtype\u001b[38;5;241m=\u001b[39mtorch\u001b[38;5;241m.\u001b[39mfloat32)\u001b[38;5;241m.\u001b[39mto(device)\n\u001b[0;32m      7\u001b[0m longtitudes\u001b[38;5;241m=\u001b[39mtorch\u001b[38;5;241m.\u001b[39mtensor(dataset\u001b[38;5;241m.\u001b[39mitem_feat[\u001b[38;5;124m\"\u001b[39m\u001b[38;5;124mlongtitude\u001b[39m\u001b[38;5;124m\"\u001b[39m],dtype\u001b[38;5;241m=\u001b[39mtorch\u001b[38;5;241m.\u001b[39mfloat32)\u001b[38;5;241m.\u001b[39mto(device)\n\u001b[0;32m      8\u001b[0m categories\u001b[38;5;241m=\u001b[39mcategory_ids[item_ids]\u001b[38;5;66;03m#broadcast\u001b[39;00m\n",
      "File \u001b[1;32md:\\CODEING\\Anaconda\\envs\\Pytorch\\lib\\site-packages\\pandas\\core\\frame.py:3761\u001b[0m, in \u001b[0;36mDataFrame.__getitem__\u001b[1;34m(self, key)\u001b[0m\n\u001b[0;32m   3759\u001b[0m \u001b[38;5;28;01mif\u001b[39;00m \u001b[38;5;28mself\u001b[39m\u001b[38;5;241m.\u001b[39mcolumns\u001b[38;5;241m.\u001b[39mnlevels \u001b[38;5;241m>\u001b[39m \u001b[38;5;241m1\u001b[39m:\n\u001b[0;32m   3760\u001b[0m     \u001b[38;5;28;01mreturn\u001b[39;00m \u001b[38;5;28mself\u001b[39m\u001b[38;5;241m.\u001b[39m_getitem_multilevel(key)\n\u001b[1;32m-> 3761\u001b[0m indexer \u001b[38;5;241m=\u001b[39m \u001b[38;5;28;43mself\u001b[39;49m\u001b[38;5;241;43m.\u001b[39;49m\u001b[43mcolumns\u001b[49m\u001b[38;5;241;43m.\u001b[39;49m\u001b[43mget_loc\u001b[49m\u001b[43m(\u001b[49m\u001b[43mkey\u001b[49m\u001b[43m)\u001b[49m\n\u001b[0;32m   3762\u001b[0m \u001b[38;5;28;01mif\u001b[39;00m is_integer(indexer):\n\u001b[0;32m   3763\u001b[0m     indexer \u001b[38;5;241m=\u001b[39m [indexer]\n",
      "File \u001b[1;32md:\\CODEING\\Anaconda\\envs\\Pytorch\\lib\\site-packages\\pandas\\core\\indexes\\base.py:3655\u001b[0m, in \u001b[0;36mIndex.get_loc\u001b[1;34m(self, key)\u001b[0m\n\u001b[0;32m   3653\u001b[0m     \u001b[38;5;28;01mreturn\u001b[39;00m \u001b[38;5;28mself\u001b[39m\u001b[38;5;241m.\u001b[39m_engine\u001b[38;5;241m.\u001b[39mget_loc(casted_key)\n\u001b[0;32m   3654\u001b[0m \u001b[38;5;28;01mexcept\u001b[39;00m \u001b[38;5;167;01mKeyError\u001b[39;00m \u001b[38;5;28;01mas\u001b[39;00m err:\n\u001b[1;32m-> 3655\u001b[0m     \u001b[38;5;28;01mraise\u001b[39;00m \u001b[38;5;167;01mKeyError\u001b[39;00m(key) \u001b[38;5;28;01mfrom\u001b[39;00m \u001b[38;5;21;01merr\u001b[39;00m\n\u001b[0;32m   3656\u001b[0m \u001b[38;5;28;01mexcept\u001b[39;00m \u001b[38;5;167;01mTypeError\u001b[39;00m:\n\u001b[0;32m   3657\u001b[0m     \u001b[38;5;66;03m# If we have a listlike key, _check_indexing_error will raise\u001b[39;00m\n\u001b[0;32m   3658\u001b[0m     \u001b[38;5;66;03m#  InvalidIndexError. Otherwise we fall through and re-raise\u001b[39;00m\n\u001b[0;32m   3659\u001b[0m     \u001b[38;5;66;03m#  the TypeError.\u001b[39;00m\n\u001b[0;32m   3660\u001b[0m     \u001b[38;5;28mself\u001b[39m\u001b[38;5;241m.\u001b[39m_check_indexing_error(key)\n",
      "\u001b[1;31mKeyError\u001b[0m: 'latitude'"
     ]
    }
   ],
   "source": [
    "device = torch.device('cuda' if torch.cuda.is_available() else 'cpu')\n",
    "def HyperEdgeList(dataset,device):\n",
    "    user_ids = torch.tensor(dataset.inter_feat[dataset.uid_field] ,dtype=torch.int32).to(device)\n",
    "    item_ids = torch.tensor(dataset.inter_feat[dataset.iid_field], dtype=torch.int32).to(device)\n",
    "    category_ids=torch.tensor(dataset.item_feat[\"venue_category_id\"],dtype=torch.int32).to(device)\n",
    "    Xs=torch.tensor(dataset.item_feat[\"x\"],dtype=torch.float32).to(device)\n",
    "    Ys=torch.tensor(dataset.item_feat[\"y\"],dtype=torch.float32).to(device)\n",
    "    categories=category_ids[item_ids]#broadcast\n",
    "    item_Xs=Xs[item_ids]\n",
    "    item_Ys=Ys[item_ids]\n",
    "    return torch.stack((user_ids,item_ids,categories,item_Xs,item_Ys),dim=1)\n",
    "HyperEdge=HyperEdgeList(dataset,device)\n"
   ]
  },
  {
   "cell_type": "code",
   "execution_count": 36,
   "metadata": {},
   "outputs": [
    {
     "ename": "IndexError",
     "evalue": "index 398 is out of bounds for axis 0 with size 398",
     "output_type": "error",
     "traceback": [
      "\u001b[1;31m---------------------------------------------------------------------------\u001b[0m",
      "\u001b[1;31mIndexError\u001b[0m                                Traceback (most recent call last)",
      "Cell \u001b[1;32mIn[36], line 93\u001b[0m\n\u001b[0;32m     90\u001b[0m     fig\u001b[38;5;241m.\u001b[39mshow()\n\u001b[0;32m     92\u001b[0m \u001b[38;5;66;03m# 示例调用\u001b[39;00m\n\u001b[1;32m---> 93\u001b[0m \u001b[43mvisualize_hypergraph_3D\u001b[49m\u001b[43m(\u001b[49m\u001b[43mHyperEdge\u001b[49m\u001b[43m)\u001b[49m\n",
      "Cell \u001b[1;32mIn[36], line 32\u001b[0m, in \u001b[0;36mvisualize_hypergraph_3D\u001b[1;34m(HyperEdge)\u001b[0m\n\u001b[0;32m     30\u001b[0m user_pos \u001b[38;5;241m=\u001b[39m user_positions[\u001b[38;5;28mint\u001b[39m(user)]\n\u001b[0;32m     31\u001b[0m poi_pos \u001b[38;5;241m=\u001b[39m poi_positions[\u001b[38;5;28mint\u001b[39m(poi)]\n\u001b[1;32m---> 32\u001b[0m category_pos \u001b[38;5;241m=\u001b[39m \u001b[43mcategory_positions\u001b[49m\u001b[43m[\u001b[49m\u001b[38;5;28;43mint\u001b[39;49m\u001b[43m(\u001b[49m\u001b[43mcategory\u001b[49m\u001b[43m)\u001b[49m\u001b[43m]\u001b[49m\n\u001b[0;32m     34\u001b[0m \u001b[38;5;66;03m# 添加用户-地点边\u001b[39;00m\n\u001b[0;32m     35\u001b[0m edges_x\u001b[38;5;241m.\u001b[39mextend([user_pos[\u001b[38;5;241m0\u001b[39m], poi_pos[\u001b[38;5;241m0\u001b[39m], \u001b[38;5;28;01mNone\u001b[39;00m])\n",
      "\u001b[1;31mIndexError\u001b[0m: index 398 is out of bounds for axis 0 with size 398"
     ]
    }
   ],
   "source": [
    "import plotly.graph_objects as go\n",
    "import numpy as np\n",
    "\n",
    "def visualize_hypergraph_3D(HyperEdge):\n",
    "    \"\"\"\n",
    "    动态可视化超图的三维结构\n",
    "    :param HyperEdge: 超边张量，形状 [num_edges, 3]，每行 [user, poi, category]\n",
    "    \"\"\"\n",
    "    # 分解超边张量\n",
    "    users = HyperEdge[:, 0].cpu().numpy()\n",
    "    pois = HyperEdge[:, 1].cpu().numpy()\n",
    "    categories = HyperEdge[:, 2].cpu().numpy()\n",
    "    \n",
    "    # 为每种节点分配独立的位置\n",
    "    num_users = len(np.unique(users))\n",
    "    num_pois = len(np.unique(pois))\n",
    "    num_categories = len(np.unique(categories))\n",
    "    \n",
    "    user_positions = np.random.rand(num_users, 3) * 10\n",
    "    poi_positions = np.random.rand(num_pois, 3) * 10 + 10\n",
    "    category_positions = np.random.rand(num_categories, 3) * 10 + 20\n",
    "    \n",
    "    # 创建节点和边\n",
    "    edges_x = []\n",
    "    edges_y = []\n",
    "    edges_z = []\n",
    "    \n",
    "    for edge in HyperEdge.cpu().numpy():\n",
    "        user, poi, category = edge\n",
    "        user_pos = user_positions[int(user)]\n",
    "        poi_pos = poi_positions[int(poi)]\n",
    "        category_pos = category_positions[int(category)]\n",
    "        \n",
    "        # 添加用户-地点边\n",
    "        edges_x.extend([user_pos[0], poi_pos[0], None])\n",
    "        edges_y.extend([user_pos[1], poi_pos[1], None])\n",
    "        edges_z.extend([user_pos[2], poi_pos[2], None])\n",
    "        \n",
    "        # 添加地点-类目边\n",
    "        edges_x.extend([poi_pos[0], category_pos[0], None])\n",
    "        edges_y.extend([poi_pos[1], category_pos[1], None])\n",
    "        edges_z.extend([poi_pos[2], category_pos[2], None])\n",
    "    \n",
    "    # 创建 Plotly 图形\n",
    "    fig = go.Figure()\n",
    "\n",
    "    # 绘制边\n",
    "    fig.add_trace(go.Scatter3d(\n",
    "        x=edges_x, y=edges_y, z=edges_z,\n",
    "        mode='lines',\n",
    "        line=dict(color='blue', width=2),\n",
    "        hoverinfo='none'\n",
    "    ))\n",
    "\n",
    "    # 绘制用户节点\n",
    "    fig.add_trace(go.Scatter3d(\n",
    "        x=user_positions[:, 0], y=user_positions[:, 1], z=user_positions[:, 2],\n",
    "        mode='markers',\n",
    "        marker=dict(size=8, color='red'),\n",
    "        name='Users'\n",
    "    ))\n",
    "\n",
    "    # 绘制地点节点\n",
    "    fig.add_trace(go.Scatter3d(\n",
    "        x=poi_positions[:, 0], y=poi_positions[:, 1], z=poi_positions[:, 2],\n",
    "        mode='markers',\n",
    "        marker=dict(size=8, color='green'),\n",
    "        name='POIs'\n",
    "    ))\n",
    "\n",
    "    # 绘制类目节点\n",
    "    fig.add_trace(go.Scatter3d(\n",
    "        x=category_positions[:, 0], y=category_positions[:, 1], z=category_positions[:, 2],\n",
    "        mode='markers',\n",
    "        marker=dict(size=8, color='blue'),\n",
    "        name='Categories'\n",
    "    ))\n",
    "\n",
    "    # 设置图形布局\n",
    "    fig.update_layout(\n",
    "        scene=dict(\n",
    "            xaxis_title='X Axis',\n",
    "            yaxis_title='Y Axis',\n",
    "            zaxis_title='Z Axis',\n",
    "        ),\n",
    "        title=\"Hypergraph Visualization\",\n",
    "        showlegend=True\n",
    "    )\n",
    "    \n",
    "    fig.show()\n",
    "\n",
    "# 示例调用\n",
    "visualize_hypergraph_3D(HyperEdge)\n"
   ]
  },
  {
   "cell_type": "markdown",
   "metadata": {},
   "source": [
    "### Venue Category Analysis"
   ]
  },
  {
   "cell_type": "markdown",
   "metadata": {},
   "source": [
    "# 负采样优化\n",
    "空间融合基本方法：基于流行度采样之上，候选负样本缩小到用户活动范围内，目的是排除活动范围外流行的伪负样本\n",
    "活动范围：用户交互过的地点位置取最大外切矩形\n",
    "分层采样：依据交互次数排行 找到频繁访问区域作为生活区 最少访问区域作为危险区 其余部分作为探索区\n",
    "假设1：用户熟知生活区所有地点，因此没有访问的地点作为负样本\n",
    "假设2：危险区可能是用户真的不感兴趣的区域 也有可能是不方便涉足的区域，可以根据危险区和生活区的距离进行从分段处理控制采样比例 危险区采样比例根据其与生活区距离\n",
    "探索区域：融合类目分布进行采样\n"
   ]
  },
  {
   "cell_type": "markdown",
   "metadata": {},
   "source": [
    "物品的特征可以这样观察 冷门-流行 丰富-稀有 再加上用户访问次数特征 构建出一个三维空间\n",
    "丰富稀有可以转化成 日常化程度 \n",
    "#### 假设1：相比更日常的地点人们对稀有的地点更感兴趣\n",
    "#### 假设2：用户更多访问的地方可能不是因为感兴趣而是因为日常生活需要\n",
    "#### 假设3：用户的频繁访问点是集中的，用户频繁访问区内的地点用户都熟知，未访问的地点大概率是不感兴趣\n",
    "#### 假设4：用户频繁访问区外的用户的偶尔访问点是集中的，用户偶尔访问区根据与频繁访问区的距离可以感知用户是对这块区域没兴趣还是不方便探索，这个距离是根据整体区域大小裁定的\n",
    "#### 假设5：除了偶尔访问区和频繁访问区，剩下的探索区是很未知的，\n",
    "#### 假设6：根据频繁访问区每个类目 用户访问占区域内总数比例 粗略推断用户对类目的兴趣 把这个权重作用在探索区\n",
    "#### 策略1：根据全体交互item划分出总区域\n",
    "#### 策略2：根据分位数划分出频繁访问item，在划分出频繁访问去地理包络，记录包络中心点位置，包络中未访问的项目直接划分成候选负样本\n",
    "#### 策略3：在频繁访问区地理包络外根据分位数划分出偶尔访问item，得到偶尔访问区地理包络，以中心位置到频繁访问区中心位置距离和总区域斜边两者倒数比来度量相近程度作为偶尔访问区采样权重\n",
    "\n"
   ]
  },
  {
   "cell_type": "code",
   "execution_count": 3,
   "metadata": {},
   "outputs": [
    {
     "name": "stderr",
     "output_type": "stream",
     "text": [
      "C:\\Users\\jec\\AppData\\Local\\Temp\\ipykernel_26340\\2849083465.py:58: DeprecationWarning: an integer is required (got type float).  Implicit conversion to integers using __int__ is deprecated, and may be removed in a future version of Python.\n",
      "  category_ids=torch.tensor(dataset.item_feat[\"venue_category_id\"],dtype=torch.int32).to(device)\n"
     ]
    }
   ],
   "source": [
    "device = torch.device('cuda' if torch.cuda.is_available() else 'cpu')\n",
    "torch.cuda.empty_cache()\n",
    "\n",
    "POI_interaction_matrix,category_interaction_matrix,category_ids_counts=counting4all(dataset,device)\n",
    "\n",
    "reciprocalrarity=reciprocal_rarity(category_ids_counts)\n",
    "exprarity=exp_rarity(category_ids_counts,device)"
   ]
  },
  {
   "cell_type": "markdown",
   "metadata": {},
   "source": [
    "#### 现象1：活跃用户和非活跃用户的交互分布特征相似 大多数访问的地点去的次数很少 只有少数地点去了很多次 这些地点反映用户兴趣"
   ]
  },
  {
   "cell_type": "code",
   "execution_count": null,
   "metadata": {},
   "outputs": [
    {
     "name": "stdout",
     "output_type": "stream",
     "text": [
      "2697 100 109\n"
     ]
    },
    {
     "data": {
      "application/vnd.plotly.v1+json": {
       "config": {
        "plotlyServerURL": "https://plot.ly"
       },
       "data": [
        {
         "alignmentgroup": "True",
         "bingroup": "x",
         "hovertemplate": "User Type=Active User<br>Number of Interactions=%{x}<br>count=%{y}<extra></extra>",
         "legendgroup": "Active User",
         "marker": {
          "color": "#636efa",
          "pattern": {
           "shape": ""
          }
         },
         "name": "Active User",
         "nbinsx": 100,
         "offsetgroup": "Active User",
         "orientation": "v",
         "showlegend": true,
         "type": "histogram",
         "x": [
          369,
          2,
          15,
          1,
          72,
          11,
          7,
          1,
          1,
          3,
          338,
          95,
          119,
          72,
          4,
          89,
          5,
          4,
          1,
          1,
          270,
          31,
          1,
          219,
          13,
          26,
          27,
          1,
          3,
          15,
          1,
          6,
          291,
          86,
          9,
          1,
          55,
          58,
          46,
          1,
          4,
          2,
          4,
          1,
          1,
          1,
          33,
          1,
          1,
          1,
          2,
          82,
          1,
          2,
          130,
          57,
          1,
          1,
          1,
          1
         ],
         "xaxis": "x",
         "yaxis": "y"
        },
        {
         "alignmentgroup": "True",
         "bingroup": "x",
         "hovertemplate": "User Type=Inactive User<br>Number of Interactions=%{x}<br>count=%{y}<extra></extra>",
         "legendgroup": "Inactive User",
         "marker": {
          "color": "#EF553B",
          "pattern": {
           "shape": ""
          }
         },
         "name": "Inactive User",
         "nbinsx": 100,
         "offsetgroup": "Inactive User",
         "orientation": "v",
         "showlegend": true,
         "type": "histogram",
         "x": [
          1,
          1,
          4,
          1,
          1,
          4,
          1,
          5,
          3,
          3,
          1,
          1,
          1,
          1,
          2,
          1,
          1,
          1,
          1,
          1,
          1,
          1,
          1,
          1,
          2,
          7,
          5,
          1,
          1,
          2,
          2,
          2,
          3,
          1,
          1,
          1,
          1,
          1,
          3,
          1,
          1,
          1,
          3,
          2,
          1,
          1,
          1,
          1,
          1,
          1,
          3,
          1,
          1,
          1,
          8
         ],
         "xaxis": "x",
         "yaxis": "y"
        },
        {
         "alignmentgroup": "True",
         "bingroup": "x",
         "hovertemplate": "User Type=Ordinary User<br>Number of Interactions=%{x}<br>count=%{y}<extra></extra>",
         "legendgroup": "Ordinary User",
         "marker": {
          "color": "#00cc96",
          "pattern": {
           "shape": ""
          }
         },
         "name": "Ordinary User",
         "nbinsx": 100,
         "offsetgroup": "Ordinary User",
         "orientation": "v",
         "showlegend": true,
         "type": "histogram",
         "x": [
          33,
          18,
          34,
          1,
          1,
          8,
          1,
          1,
          4,
          1,
          1,
          1,
          2,
          1,
          1,
          1
         ],
         "xaxis": "x",
         "yaxis": "y"
        }
       ],
       "layout": {
        "barmode": "relative",
        "legend": {
         "title": {
          "text": "User Type"
         },
         "tracegroupgap": 0
        },
        "template": {
         "data": {
          "bar": [
           {
            "error_x": {
             "color": "#2a3f5f"
            },
            "error_y": {
             "color": "#2a3f5f"
            },
            "marker": {
             "line": {
              "color": "#E5ECF6",
              "width": 0.5
             },
             "pattern": {
              "fillmode": "overlay",
              "size": 10,
              "solidity": 0.2
             }
            },
            "type": "bar"
           }
          ],
          "barpolar": [
           {
            "marker": {
             "line": {
              "color": "#E5ECF6",
              "width": 0.5
             },
             "pattern": {
              "fillmode": "overlay",
              "size": 10,
              "solidity": 0.2
             }
            },
            "type": "barpolar"
           }
          ],
          "carpet": [
           {
            "aaxis": {
             "endlinecolor": "#2a3f5f",
             "gridcolor": "white",
             "linecolor": "white",
             "minorgridcolor": "white",
             "startlinecolor": "#2a3f5f"
            },
            "baxis": {
             "endlinecolor": "#2a3f5f",
             "gridcolor": "white",
             "linecolor": "white",
             "minorgridcolor": "white",
             "startlinecolor": "#2a3f5f"
            },
            "type": "carpet"
           }
          ],
          "choropleth": [
           {
            "colorbar": {
             "outlinewidth": 0,
             "ticks": ""
            },
            "type": "choropleth"
           }
          ],
          "contour": [
           {
            "colorbar": {
             "outlinewidth": 0,
             "ticks": ""
            },
            "colorscale": [
             [
              0,
              "#0d0887"
             ],
             [
              0.1111111111111111,
              "#46039f"
             ],
             [
              0.2222222222222222,
              "#7201a8"
             ],
             [
              0.3333333333333333,
              "#9c179e"
             ],
             [
              0.4444444444444444,
              "#bd3786"
             ],
             [
              0.5555555555555556,
              "#d8576b"
             ],
             [
              0.6666666666666666,
              "#ed7953"
             ],
             [
              0.7777777777777778,
              "#fb9f3a"
             ],
             [
              0.8888888888888888,
              "#fdca26"
             ],
             [
              1,
              "#f0f921"
             ]
            ],
            "type": "contour"
           }
          ],
          "contourcarpet": [
           {
            "colorbar": {
             "outlinewidth": 0,
             "ticks": ""
            },
            "type": "contourcarpet"
           }
          ],
          "heatmap": [
           {
            "colorbar": {
             "outlinewidth": 0,
             "ticks": ""
            },
            "colorscale": [
             [
              0,
              "#0d0887"
             ],
             [
              0.1111111111111111,
              "#46039f"
             ],
             [
              0.2222222222222222,
              "#7201a8"
             ],
             [
              0.3333333333333333,
              "#9c179e"
             ],
             [
              0.4444444444444444,
              "#bd3786"
             ],
             [
              0.5555555555555556,
              "#d8576b"
             ],
             [
              0.6666666666666666,
              "#ed7953"
             ],
             [
              0.7777777777777778,
              "#fb9f3a"
             ],
             [
              0.8888888888888888,
              "#fdca26"
             ],
             [
              1,
              "#f0f921"
             ]
            ],
            "type": "heatmap"
           }
          ],
          "heatmapgl": [
           {
            "colorbar": {
             "outlinewidth": 0,
             "ticks": ""
            },
            "colorscale": [
             [
              0,
              "#0d0887"
             ],
             [
              0.1111111111111111,
              "#46039f"
             ],
             [
              0.2222222222222222,
              "#7201a8"
             ],
             [
              0.3333333333333333,
              "#9c179e"
             ],
             [
              0.4444444444444444,
              "#bd3786"
             ],
             [
              0.5555555555555556,
              "#d8576b"
             ],
             [
              0.6666666666666666,
              "#ed7953"
             ],
             [
              0.7777777777777778,
              "#fb9f3a"
             ],
             [
              0.8888888888888888,
              "#fdca26"
             ],
             [
              1,
              "#f0f921"
             ]
            ],
            "type": "heatmapgl"
           }
          ],
          "histogram": [
           {
            "marker": {
             "pattern": {
              "fillmode": "overlay",
              "size": 10,
              "solidity": 0.2
             }
            },
            "type": "histogram"
           }
          ],
          "histogram2d": [
           {
            "colorbar": {
             "outlinewidth": 0,
             "ticks": ""
            },
            "colorscale": [
             [
              0,
              "#0d0887"
             ],
             [
              0.1111111111111111,
              "#46039f"
             ],
             [
              0.2222222222222222,
              "#7201a8"
             ],
             [
              0.3333333333333333,
              "#9c179e"
             ],
             [
              0.4444444444444444,
              "#bd3786"
             ],
             [
              0.5555555555555556,
              "#d8576b"
             ],
             [
              0.6666666666666666,
              "#ed7953"
             ],
             [
              0.7777777777777778,
              "#fb9f3a"
             ],
             [
              0.8888888888888888,
              "#fdca26"
             ],
             [
              1,
              "#f0f921"
             ]
            ],
            "type": "histogram2d"
           }
          ],
          "histogram2dcontour": [
           {
            "colorbar": {
             "outlinewidth": 0,
             "ticks": ""
            },
            "colorscale": [
             [
              0,
              "#0d0887"
             ],
             [
              0.1111111111111111,
              "#46039f"
             ],
             [
              0.2222222222222222,
              "#7201a8"
             ],
             [
              0.3333333333333333,
              "#9c179e"
             ],
             [
              0.4444444444444444,
              "#bd3786"
             ],
             [
              0.5555555555555556,
              "#d8576b"
             ],
             [
              0.6666666666666666,
              "#ed7953"
             ],
             [
              0.7777777777777778,
              "#fb9f3a"
             ],
             [
              0.8888888888888888,
              "#fdca26"
             ],
             [
              1,
              "#f0f921"
             ]
            ],
            "type": "histogram2dcontour"
           }
          ],
          "mesh3d": [
           {
            "colorbar": {
             "outlinewidth": 0,
             "ticks": ""
            },
            "type": "mesh3d"
           }
          ],
          "parcoords": [
           {
            "line": {
             "colorbar": {
              "outlinewidth": 0,
              "ticks": ""
             }
            },
            "type": "parcoords"
           }
          ],
          "pie": [
           {
            "automargin": true,
            "type": "pie"
           }
          ],
          "scatter": [
           {
            "fillpattern": {
             "fillmode": "overlay",
             "size": 10,
             "solidity": 0.2
            },
            "type": "scatter"
           }
          ],
          "scatter3d": [
           {
            "line": {
             "colorbar": {
              "outlinewidth": 0,
              "ticks": ""
             }
            },
            "marker": {
             "colorbar": {
              "outlinewidth": 0,
              "ticks": ""
             }
            },
            "type": "scatter3d"
           }
          ],
          "scattercarpet": [
           {
            "marker": {
             "colorbar": {
              "outlinewidth": 0,
              "ticks": ""
             }
            },
            "type": "scattercarpet"
           }
          ],
          "scattergeo": [
           {
            "marker": {
             "colorbar": {
              "outlinewidth": 0,
              "ticks": ""
             }
            },
            "type": "scattergeo"
           }
          ],
          "scattergl": [
           {
            "marker": {
             "colorbar": {
              "outlinewidth": 0,
              "ticks": ""
             }
            },
            "type": "scattergl"
           }
          ],
          "scattermapbox": [
           {
            "marker": {
             "colorbar": {
              "outlinewidth": 0,
              "ticks": ""
             }
            },
            "type": "scattermapbox"
           }
          ],
          "scatterpolar": [
           {
            "marker": {
             "colorbar": {
              "outlinewidth": 0,
              "ticks": ""
             }
            },
            "type": "scatterpolar"
           }
          ],
          "scatterpolargl": [
           {
            "marker": {
             "colorbar": {
              "outlinewidth": 0,
              "ticks": ""
             }
            },
            "type": "scatterpolargl"
           }
          ],
          "scatterternary": [
           {
            "marker": {
             "colorbar": {
              "outlinewidth": 0,
              "ticks": ""
             }
            },
            "type": "scatterternary"
           }
          ],
          "surface": [
           {
            "colorbar": {
             "outlinewidth": 0,
             "ticks": ""
            },
            "colorscale": [
             [
              0,
              "#0d0887"
             ],
             [
              0.1111111111111111,
              "#46039f"
             ],
             [
              0.2222222222222222,
              "#7201a8"
             ],
             [
              0.3333333333333333,
              "#9c179e"
             ],
             [
              0.4444444444444444,
              "#bd3786"
             ],
             [
              0.5555555555555556,
              "#d8576b"
             ],
             [
              0.6666666666666666,
              "#ed7953"
             ],
             [
              0.7777777777777778,
              "#fb9f3a"
             ],
             [
              0.8888888888888888,
              "#fdca26"
             ],
             [
              1,
              "#f0f921"
             ]
            ],
            "type": "surface"
           }
          ],
          "table": [
           {
            "cells": {
             "fill": {
              "color": "#EBF0F8"
             },
             "line": {
              "color": "white"
             }
            },
            "header": {
             "fill": {
              "color": "#C8D4E3"
             },
             "line": {
              "color": "white"
             }
            },
            "type": "table"
           }
          ]
         },
         "layout": {
          "annotationdefaults": {
           "arrowcolor": "#2a3f5f",
           "arrowhead": 0,
           "arrowwidth": 1
          },
          "autotypenumbers": "strict",
          "coloraxis": {
           "colorbar": {
            "outlinewidth": 0,
            "ticks": ""
           }
          },
          "colorscale": {
           "diverging": [
            [
             0,
             "#8e0152"
            ],
            [
             0.1,
             "#c51b7d"
            ],
            [
             0.2,
             "#de77ae"
            ],
            [
             0.3,
             "#f1b6da"
            ],
            [
             0.4,
             "#fde0ef"
            ],
            [
             0.5,
             "#f7f7f7"
            ],
            [
             0.6,
             "#e6f5d0"
            ],
            [
             0.7,
             "#b8e186"
            ],
            [
             0.8,
             "#7fbc41"
            ],
            [
             0.9,
             "#4d9221"
            ],
            [
             1,
             "#276419"
            ]
           ],
           "sequential": [
            [
             0,
             "#0d0887"
            ],
            [
             0.1111111111111111,
             "#46039f"
            ],
            [
             0.2222222222222222,
             "#7201a8"
            ],
            [
             0.3333333333333333,
             "#9c179e"
            ],
            [
             0.4444444444444444,
             "#bd3786"
            ],
            [
             0.5555555555555556,
             "#d8576b"
            ],
            [
             0.6666666666666666,
             "#ed7953"
            ],
            [
             0.7777777777777778,
             "#fb9f3a"
            ],
            [
             0.8888888888888888,
             "#fdca26"
            ],
            [
             1,
             "#f0f921"
            ]
           ],
           "sequentialminus": [
            [
             0,
             "#0d0887"
            ],
            [
             0.1111111111111111,
             "#46039f"
            ],
            [
             0.2222222222222222,
             "#7201a8"
            ],
            [
             0.3333333333333333,
             "#9c179e"
            ],
            [
             0.4444444444444444,
             "#bd3786"
            ],
            [
             0.5555555555555556,
             "#d8576b"
            ],
            [
             0.6666666666666666,
             "#ed7953"
            ],
            [
             0.7777777777777778,
             "#fb9f3a"
            ],
            [
             0.8888888888888888,
             "#fdca26"
            ],
            [
             1,
             "#f0f921"
            ]
           ]
          },
          "colorway": [
           "#636efa",
           "#EF553B",
           "#00cc96",
           "#ab63fa",
           "#FFA15A",
           "#19d3f3",
           "#FF6692",
           "#B6E880",
           "#FF97FF",
           "#FECB52"
          ],
          "font": {
           "color": "#2a3f5f"
          },
          "geo": {
           "bgcolor": "white",
           "lakecolor": "white",
           "landcolor": "#E5ECF6",
           "showlakes": true,
           "showland": true,
           "subunitcolor": "white"
          },
          "hoverlabel": {
           "align": "left"
          },
          "hovermode": "closest",
          "mapbox": {
           "style": "light"
          },
          "paper_bgcolor": "white",
          "plot_bgcolor": "#E5ECF6",
          "polar": {
           "angularaxis": {
            "gridcolor": "white",
            "linecolor": "white",
            "ticks": ""
           },
           "bgcolor": "#E5ECF6",
           "radialaxis": {
            "gridcolor": "white",
            "linecolor": "white",
            "ticks": ""
           }
          },
          "scene": {
           "xaxis": {
            "backgroundcolor": "#E5ECF6",
            "gridcolor": "white",
            "gridwidth": 2,
            "linecolor": "white",
            "showbackground": true,
            "ticks": "",
            "zerolinecolor": "white"
           },
           "yaxis": {
            "backgroundcolor": "#E5ECF6",
            "gridcolor": "white",
            "gridwidth": 2,
            "linecolor": "white",
            "showbackground": true,
            "ticks": "",
            "zerolinecolor": "white"
           },
           "zaxis": {
            "backgroundcolor": "#E5ECF6",
            "gridcolor": "white",
            "gridwidth": 2,
            "linecolor": "white",
            "showbackground": true,
            "ticks": "",
            "zerolinecolor": "white"
           }
          },
          "shapedefaults": {
           "line": {
            "color": "#2a3f5f"
           }
          },
          "ternary": {
           "aaxis": {
            "gridcolor": "white",
            "linecolor": "white",
            "ticks": ""
           },
           "baxis": {
            "gridcolor": "white",
            "linecolor": "white",
            "ticks": ""
           },
           "bgcolor": "#E5ECF6",
           "caxis": {
            "gridcolor": "white",
            "linecolor": "white",
            "ticks": ""
           }
          },
          "title": {
           "x": 0.05
          },
          "xaxis": {
           "automargin": true,
           "gridcolor": "white",
           "linecolor": "white",
           "ticks": "",
           "title": {
            "standoff": 15
           },
           "zerolinecolor": "white",
           "zerolinewidth": 2
          },
          "yaxis": {
           "automargin": true,
           "gridcolor": "white",
           "linecolor": "white",
           "ticks": "",
           "title": {
            "standoff": 15
           },
           "zerolinecolor": "white",
           "zerolinewidth": 2
          }
         }
        },
        "title": {
         "text": "Users' Activeness reflected on the distribution of category interaction quantity.<br>Active users have interest patterns different from others,<br>whose interests largely lay in low-access categories.<br>"
        },
        "xaxis": {
         "anchor": "y",
         "domain": [
          0,
          1
         ],
         "title": {
          "text": "Number of Interactions"
         }
        },
        "yaxis": {
         "anchor": "x",
         "domain": [
          0,
          1
         ],
         "title": {
          "text": "count"
         }
        }
       }
      }
     },
     "metadata": {},
     "output_type": "display_data"
    }
   ],
   "source": [
    "import torch\n",
    "import plotly.express as px\n",
    "import numpy as np\n",
    "\n",
    "# 假设 interaction_matrix 是给定的张量\n",
    "# Step 1: Identify the most active user (column with max interactions excluding the first row and column)\n",
    "active_user_idx = category_interaction_matrix[1:, 1:].sum(1).argmax()\n",
    "active_user = category_interaction_matrix[active_user_idx+1,:].cpu().numpy()\n",
    "\n",
    "# Step 2: Identify the least active user (column with min interactions excluding the first row and column)\n",
    "inactive_user_idx = category_interaction_matrix[1:, 1:].sum(1).argmin()\n",
    "inactive_user = category_interaction_matrix[inactive_user_idx+1,:].cpu().numpy()\n",
    "\n",
    "# 计算均值\n",
    "mean_interaction = category_interaction_matrix[1:,1:].mean(dtype=torch.float32)\n",
    "ordinary_user_idx = (abs(category_interaction_matrix[1:,1:] - mean_interaction)).argmin()\n",
    "ordinary_user=category_interaction_matrix[ordinary_user_idx+1,:].cpu().numpy()\n",
    "\n",
    "# Step 3: Filter out zeros\n",
    "active_user = active_user[active_user > 0]\n",
    "inactive_user = inactive_user[inactive_user > 0]\n",
    "ordinary_user=ordinary_user[ordinary_user>0]\n",
    "\n",
    "# Step 4: Create DataFrames for Plotly\n",
    "active_df = pd.DataFrame({\"Interactions\": active_user, \"User Type\": \"Active User\"})\n",
    "inactive_df = pd.DataFrame({\"Interactions\": inactive_user, \"User Type\": \"Inactive User\"})\n",
    "ordinary_df= pd.DataFrame({\"Interactions\": ordinary_user, \"User Type\": \"Ordinary User\"})\n",
    "\n",
    "# Combine both for easier plotting\n",
    "combined_df = pd.concat([active_df, inactive_df,ordinary_df])\n",
    "print(active_user.sum(),inactive_user.sum(),ordinary_user.sum())\n",
    "# Step 5: Plot histograms using Plotly\n",
    "\n",
    "fig = px.histogram(\n",
    "    combined_df,\n",
    "    x=\"Interactions\",\n",
    "    color=\"User Type\",\n",
    "    title=\"Users' Activeness reflected on the distribution of category interaction quantity.<br>\"\n",
    "          \"Active users have interest patterns different from others,<br>\"\n",
    "          \"whose interests largely lay in low-access categories.<br>\"\n",
    "          \"How to distinguish different activeness with the distribution of categories interaction\"\n",
    "          ,\n",
    "    labels={\"Interactions\": \"Number of Interactions\", \"User Type\": \"User Type\"},\n",
    "    nbins=100,  # Adjust the number of bins as needed\n",
    ")\n",
    "\n",
    "fig.show()\n"
   ]
  },
  {
   "cell_type": "markdown",
   "metadata": {},
   "source": [
    "问题：如何区分大量的少交互地点进行兴趣度量 实际上访问次数极多的地点不具有参考价值 它们可能是日常所需，不能很好地反映兴趣\n",
    "方案：把地点访问次数转化成类目访问次数 \n",
    "首先把userid-itemid交互序列转化成userid-categoryid交互序列进行归并 这样地分布更加平滑，访问总次数是一样的，只不过把大量只访问一次的地点归并成访问多次的类目。 \n",
    "这样我们就可以区分访问次数极少的地点 \n",
    "\n",
    "基于类目的兴趣度量：\n",
    "假设：偶尔访问类目和频繁访问类目不能反映兴趣\n",
    "定义用户兴趣类目：排除极端访问次数类目后的类目\n",
    "\n",
    "问题：用户对访问次数相同的类目兴趣度一致吗？应该怎么区分？\n",
    "方案：基于类目稀有度的加权，同样的访问次数，用户很可能对更稀有的类目感兴趣，引入类目稀有度矩阵\n",
    "\n",
    "后续模型修改：\n",
    "引入兴趣广度概念：不同用户以同样次数访问同个地点，反映的兴趣度是不同的，应该依赖用户访问总类目数量进行加权度量，得到更合理的用户-地点相似度"
   ]
  },
  {
   "cell_type": "markdown",
   "metadata": {},
   "source": [
    "问题：如何把类目数量权重映射到稀有度上？\n",
    "直接映射：倒数加权，这样的得到的稀有度是突变的 我希望稀有度"
   ]
  },
  {
   "cell_type": "code",
   "execution_count": 27,
   "metadata": {},
   "outputs": [
    {
     "data": {
      "application/vnd.plotly.v1+json": {
       "config": {
        "plotlyServerURL": "https://plot.ly"
       },
       "data": [
        {
         "histnorm": "probability",
         "marker": {
          "color": "skyblue"
         },
         "name": "Reciprocal Rarity",
         "nbinsx": 1000,
         "opacity": 0.7,
         "showlegend": true,
         "type": "histogram",
         "x": [
          0.0003439762166278866,
          0.0002790029312648414,
          0.000019803047171794733,
          0.0001630536611288034,
          0.00010730881971724669,
          0.0000370904930780439,
          0.00002947214062656775,
          0.00004011224251411457,
          0.00003753402662755714,
          0.0005342609322092707,
          0.00010333441898697829,
          0.0017935902724168372,
          0.00007363713728397573,
          0.00010166098710054948,
          0.00014106889783053775,
          0.000041299776009598227,
          0.00017559625044640366,
          0.00019928780804631525,
          0.0003439762166278866,
          0.000025492653618107333,
          0.0003303982080767858,
          0.00003671091200853176,
          0.00006768265178931463,
          0.00023467536274612822,
          0.00005978634241389458,
          0.0005978634241389458,
          0.00005012028705356431,
          0.0000680494954304491,
          0.00008599405415697165,
          0.00023914536965557832,
          0.000029822166049686134,
          0.0004255976917599275,
          0.00006139428805338807,
          0.0000680494954304491,
          0.00008936036944425523,
          0.00006994502455107444,
          0.0001719881083139433,
          0.000058806238439896305,
          0.0001136211032300259,
          0.0007846957441823663,
          0.0031387829767294652,
          0.00013721455635975805,
          0.00013646882507519414,
          0.0005978634241389458,
          0.00029197981178878744,
          0.00003571872519749036,
          0.0003487536640810517,
          0.00032192645915174,
          0.00007822512091537608,
          0.001046260992243155,
          0.00039234787209118315,
          0.000048757793813273247,
          0.00036391686686718436,
          0.00014946585603473644,
          0.00005530895113179675,
          0.00209252198448631,
          0.0022827512558032475,
          0.00009808696802279579,
          0.00003827784117962763,
          0.00004150456828733177,
          0.00064385291830348,
          0.00038631175098208806,
          0.00023914536965557832,
          0.0004405309441023811,
          0.00007363713728397573,
          0.00019928780804631525,
          0.000042415986172019805,
          0.000418504396897262,
          0.0025110263813835723,
          0.00007921218868717893,
          0.0003985756160926305,
          0.0005022052762767144,
          0.0011413756279016237,
          0.00010084443298729204,
          0.00008179239027308053,
          0.0003804585426338746,
          0.00017808697740309023,
          0.000270002836707911,
          0.00016852526049554177,
          0.00013796848249360288,
          0.0011957268482778915,
          0.00014684364803412703,
          0.00014431186099905587,
          0.00012130562228906146,
          0.0002437889690663662,
          0.001046260992243155,
          0.00005826047288592975,
          0.0017935902724168372,
          0.0005022052762767144,
          0.0006975073281621034,
          0.000027383057594150188,
          0.00022419878405210465,
          0.0035871805448336744,
          0.00019771861270736788,
          0.00031785144068146486,
          0.00019315587549104403,
          0.00014106889783053775,
          0.00022827512558032474,
          0.000306222729437021,
          0.0025110263813835723,
          0.0001916814031590513,
          0.0003587180544833675,
          0.00028534390697540593,
          0.0019315587549104403,
          0.000064385291830348,
          0.00064385291830348,
          0.00025886869911170845,
          0.00014431186099905587,
          0.0007846957441823663,
          0.00009770530666862149,
          0.0009657793774552201,
          0.0004405309441023811,
          0.0001902292713169373,
          0.0005124543635476677,
          0.0022827512558032475,
          0.00012618223022028,
          0.0007609170852677492,
          0.0002437889690663662,
          0.00008688672599943157,
          0.00023250244272070113,
          0.0013215928323071433,
          0.0005839596235775749,
          0.000117888562506271,
          0.00005567685989764018,
          0.0002790029312648414,
          0.0003747800569229212,
          0.00023688928126260116,
          0.0001136211032300259,
          0.00028862372199811175,
          0.0005458753003007766,
          0.0005124543635476677,
          0.0010044105525534289,
          0.0031387829767294652,
          0.00022026547205119054,
          0.0005124543635476677,
          0.00009584070157952565,
          0.001046260992243155,
          0.0010917506006015531,
          0.00041164366907927414,
          0.0031387829767294652,
          0.00019465320785919165,
          0.0008967951362084186,
          0.00019465320785919165,
          0.0001902292713169373,
          0.0001768328437594065,
          0.0006277565953458931,
          0.0003487536640810517,
          0.0005580058625296827,
          0.00012014480293701301,
          0.0002511026381383572,
          0.00043293558299716765,
          0.0005706878139508119,
          0.0005342609322092707,
          0.0001873900284614606,
          0.00031000325696093484,
          0.0005839596235775749,
          0.0007846957441823663,
          0.000353665687518813,
          0.0004405309441023811,
          0.00012618223022028,
          0.001674017587589048,
          0.00040500425506186647,
          0.00031785144068146486,
          0.0006277565953458931,
          0.0019315587549104403,
          0.00013356523305231766,
          0.0001620017020247466,
          0.0001806493799556527,
          0.0005124543635476677,
          0.00015500162848046742,
          0.0006607964161535716,
          0.00064385291830348,
          0.0005124543635476677,
          0.0008100085101237329,
          0.00013215928323071432,
          0.00007946286017036622,
          0.000612445458874042,
          0.00014684364803412703,
          0.0003303982080767858,
          0.001046260992243155,
          0.0035871805448336744,
          0.0013215928323071433,
          0.00009732660392959582,
          0.00023914536965557832,
          0.0006607964161535716,
          0.00016096322957587,
          0.0004923581139967788,
          0.0005231304961215775,
          0.0005580058625296827,
          0.00023250244272070113,
          0.000612445458874042,
          0.00028862372199811175,
          0.0008658711659943353,
          0.0009657793774552201,
          0.0019315587549104403,
          0.000353665687518813,
          0.00014186589725330917,
          0.00006750070917697775,
          0.0005978634241389458,
          0.00045655025116064947,
          0.0017935902724168372,
          0.0002954148683980673,
          0.0003747800569229212,
          0.0004483975681042093,
          0.0017935902724168372,
          0.0005706878139508119,
          0.0005022052762767144,
          0.00209252198448631,
          0.025110263813835722,
          0.0003804585426338746,
          0.0004405309441023811,
          0.0031387829767294652,
          0.0003439762166278866,
          0.0017935902724168372,
          0.0005124543635476677,
          0.0015693914883647326,
          0.0005580058625296827,
          0.00019617393604559158,
          0.0010044105525534289,
          0.0008658711659943353,
          0.00033932788937615844,
          0.0027900293126484135,
          0.000353665687518813,
          0.0006607964161535716,
          0.0022827512558032475,
          0.0005458753003007766,
          0.0009657793774552201,
          0.00020250212753093324,
          0.0006786557787523169,
          0.00837008793794524,
          0.00038631175098208806,
          0.000418504396897262,
          0.0014770743419903365,
          0.0017935902724168372,
          0.0002486164734043141,
          0.0007609170852677492,
          0.0062775659534589304,
          0.0005231304961215775,
          0.0004737785625252023,
          0.0027900293126484135,
          0.001674017587589048,
          0.0005706878139508119,
          0.0022827512558032475,
          0.0007609170852677492,
          0.0012555131906917861,
          0.0025110263813835723,
          0.0010917506006015531,
          0.0022827512558032475,
          0.0003747800569229212,
          0.0007385371709951683,
          0.00209252198448631,
          0.0008658711659943353,
          0.0062775659534589304,
          0.0003804585426338746,
          0.012555131906917861,
          0.0008967951362084186,
          0.00017559625044640366,
          0.001674017587589048,
          0.0004483975681042093,
          0.0031387829767294652,
          0.0005342609322092707,
          0.0007385371709951683,
          0.000837008793794524,
          0.00048288968872761006,
          0.00048288968872761006,
          0.0008658711659943353,
          0.00022221472401624532,
          0.0050220527627671445,
          0.0017935902724168372,
          0.00418504396897262,
          0.0009300097708828045,
          0.00021279884587996375,
          0.012555131906917861,
          0.0010044105525534289,
          0.0013950146563242068,
          0.0019315587549104403,
          0.0006786557787523169,
          0.0007609170852677492,
          0.00032192645915174,
          0.00418504396897262,
          0.0031387829767294652,
          0.000717436108966735,
          0.001674017587589048,
          0.0008967951362084186,
          0.001674017587589048,
          0.0022827512558032475,
          0.00040500425506186647,
          0.0013950146563242068,
          0.0025110263813835723,
          0.0035871805448336744,
          0.0009300097708828045,
          0.0011957268482778915,
          0.001046260992243155,
          0.00046500488544140225,
          0.0011957268482778915,
          0.0035871805448336744,
          0.0025110263813835723,
          0.0050220527627671445,
          0.0025110263813835723,
          0.0009657793774552201,
          0.0012555131906917861,
          0.025110263813835722,
          0.0008658711659943353,
          0.0010917506006015531,
          0.0031387829767294652,
          0.0007846957441823663,
          0.0006607964161535716,
          0.00418504396897262,
          0.0013215928323071433,
          0.0017935902724168372,
          0.025110263813835722,
          0.0031387829767294652,
          0.0050220527627671445,
          0.0008967951362084186,
          0.000612445458874042,
          0.0017935902724168372,
          0.0035871805448336744,
          0.0035871805448336744,
          0.0013950146563242068,
          0.0014770743419903365,
          0.00209252198448631,
          0.0062775659534589304,
          0.00837008793794524,
          0.0027900293126484135,
          0.025110263813835722,
          0.0050220527627671445,
          0.0022827512558032475,
          0.0017935902724168372,
          0.0035871805448336744,
          0.00837008793794524,
          0.0008658711659943353,
          0.001674017587589048,
          0.0027900293126484135,
          0.0050220527627671445,
          0.0009657793774552201,
          0.0062775659534589304,
          0.0050220527627671445,
          0.001046260992243155,
          0.00837008793794524,
          0.0027900293126484135,
          0.0050220527627671445,
          0.0031387829767294652,
          0.0012555131906917861,
          0.00418504396897262,
          0.0035871805448336744,
          0.012555131906917861,
          0.00418504396897262,
          0.0027900293126484135,
          0.001046260992243155,
          0.0062775659534589304,
          0.0025110263813835723,
          0.0017935902724168372,
          0.00837008793794524,
          0.025110263813835722,
          0.0062775659534589304,
          0.0035871805448336744,
          0.0005580058625296827,
          0.00837008793794524,
          0.012555131906917861,
          0.0035871805448336744,
          0.0022827512558032475,
          0.00837008793794524,
          0.0050220527627671445,
          0.0062775659534589304,
          0.0025110263813835723,
          0.00837008793794524,
          0.0050220527627671445,
          0.0025110263813835723,
          0.0062775659534589304,
          0.00418504396897262,
          0.012555131906917861,
          0.00837008793794524,
          0.00837008793794524,
          0.0031387829767294652,
          0.0031387829767294652,
          0.0027900293126484135,
          0.012555131906917861,
          0.00837008793794524,
          0.0017935902724168372,
          0.0031387829767294652,
          0.00837008793794524,
          0.00837008793794524,
          0.012555131906917861,
          0.0050220527627671445,
          0.012555131906917861,
          0.0062775659534589304,
          0.0050220527627671445,
          0.025110263813835722,
          0.025110263813835722,
          0.025110263813835722,
          0.025110263813835722,
          0.0050220527627671445,
          0.025110263813835722,
          0.025110263813835722,
          0.012555131906917861,
          0.025110263813835722,
          0.025110263813835722,
          0.00837008793794524
         ]
        },
        {
         "histnorm": "probability",
         "marker": {
          "color": "lightgreen"
         },
         "name": "Exp Rarity",
         "nbinsx": 500,
         "opacity": 0.7,
         "showlegend": true,
         "type": "histogram",
         "x": [
          0.0025437610671686173,
          0.0024928207073826847,
          0.0006136536766024658,
          0.002310027110039502,
          0.002100267529273914,
          0.0012397689451477787,
          0.0010067094035917166,
          0.0013173360320985204,
          0.0012516272198101373,
          0.002623690574494436,
          0.002077894968749767,
          0.0027287665284009732,
          0.001849179540500237,
          0.0020680282571680975,
          0.0022449896293518707,
          0.0013458560902163902,
          0.0023404623799926794,
          0.0023882893237231993,
          0.0025437610671686173,
          0.0008593543662579883,
          0.0025346965509100115,
          0.0012294851523316276,
          0.001784331973698147,
          0.0024429004592293312,
          0.0016832685215081378,
          0.0026393471657562024,
          0.0015286010814246655,
          0.0017885834967543552,
          0.0019602042912718162,
          0.0024487211516674725,
          0.0010187601124242766,
          0.002586492636312031,
          0.0017054460672317946,
          0.0017885834967543552,
          0.0019860305452187744,
          0.0018099935470282577,
          0.0023321223045154986,
          0.0016693059321104204,
          0.002133009391546141,
          0.002670941192879713,
          0.0027483185152417165,
          0.002231672364586667,
          0.0022290184064214626,
          0.0026393471657562024,
          0.002504714134302411,
          0.001201999963566326,
          0.0025467897704916087,
          0.0025286714920596744,
          0.0018937153277394658,
          0.0026964884969932225,
          0.0025711495777960038,
          0.0015033469894985695,
          0.0025558975342093535,
          0.0022718630411417214,
          0.0016165266059266776,
          0.0027352683531631362,
          0.0027385250726944706,
          0.0020459991172112786,
          0.001271139308377903,
          0.0013506691059626463,
          0.002648785930837377,
          0.002568091905207396,
          0.0024487211516674725,
          0.0025926554654492604,
          0.001849179540500237,
          0.0023882893237231993,
          0.0013717251958304307,
          0.002583416717391178,
          0.002741785669805896,
          0.0019027503797953687,
          0.0025742108909714775,
          0.0026143412349762685,
          0.0027029134129756497,
          0.0020631124845289133,
          0.0019255270527122497,
          0.0025650378688761807,
          0.0023460389934914024,
          0.0024839377135655763,
          0.0023238119483192437,
          0.00223432948266025,
          0.002706131609425503,
          0.0022637674146540198,
          0.002255700636370211,
          0.002168840916556412,
          0.002454555713054031,
          0.0026964884969932225,
          0.0016613793716146255,
          0.0027287665284009732,
          0.0026143412349762685,
          0.00265825845058615,
          0.0009317799856920591,
          0.0024284091886304614,
          0.0027515907728162124,
          0.0023854491129233777,
          0.0025256643354268455,
          0.0023769487303413623,
          0.0022449896293518707,
          0.0024341953527566205,
          0.0025166643056175435,
          0.002741785669805896,
          0.002374122006046496,
          0.00255285799971586,
          0.002498760344663558,
          0.0027320155066005783,
          0.0017444431624961164,
          0.002648785930837377,
          0.0024721429417531547,
          0.002255700636370211,
          0.002670941192879713,
          0.0020435659661137934,
          0.0026900788532519203,
          0.0025926554654492604,
          0.002371298643359787,
          0.002617453973860436,
          0.0027385250726944706,
          0.0021895856782219985,
          0.0026677648457150926,
          0.002454555713054031,
          0.001967214323167763,
          0.002439995303560681,
          0.002712579502026319,
          0.002636208390964473,
          0.002153411428007321,
          0.0016223075865717301,
          0.0024928207073826847,
          0.002561987464478034,
          0.002445809073892123,
          0.002133009391546141,
          0.00250173546833257,
          0.0026268144450749056,
          0.002617453973860436,
          0.0026932817683633704,
          0.0027483185152417165,
          0.0024226367784108043,
          0.002617453973860436,
          0.002031443545288288,
          0.0026964884969932225,
          0.0026996990436820045,
          0.0025803444564266916,
          0.0027483185152417165,
          0.00237977882024685,
          0.0026836844454491116,
          0.00237977882024685,
          0.002371298643359787,
          0.0023432490277950644,
          0.0026456359312404054,
          0.0025467897704916087,
          0.0026299420350602088,
          0.0021636855088392306,
          0.0024633336317207216,
          0.002589572217544561,
          0.0026330733488788166,
          0.002623690574494436,
          0.00236566198682477,
          0.002519660746456134,
          0.002636208390964473,
          0.002670941192879713,
          0.0025498220799095024,
          0.0025926554654492604,
          0.0021895856782219985,
          0.0027255214139639693,
          0.002577275849068444,
          0.0025256643354268455,
          0.0026456359312404054,
          0.0027320155066005783,
          0.0022184340977546846,
          0.0023072799705364934,
          0.002351628894372303,
          0.002617453973860436,
          0.0022881412517625484,
          0.002651939680949431,
          0.002648785930837377,
          0.002617453973860436,
          0.002674121321929882,
          0.002213160805379797,
          0.0019050158702427576,
          0.0026424896776983133,
          0.0022637674146540198,
          0.0025346965509100115,
          0.0026964884969932225,
          0.0027515907728162124,
          0.002712579502026319,
          0.0020411357085778027,
          0.0024487211516674725,
          0.002651939680949431,
          0.002304536097997503,
          0.0026112321978356504,
          0.0026205704188955944,
          0.0026299420350602088,
          0.002439995303560681,
          0.0026424896776983133,
          0.00250173546833257,
          0.002680492943703672,
          0.0026900788532519203,
          0.0027320155066005783,
          0.0025498220799095024,
          0.0022476626034917202,
          0.0017822100034277006,
          0.0026393471657562024,
          0.0025988329787431114,
          0.0027287665284009732,
          0.0025076963467906897,
          0.002561987464478034,
          0.0025957423843918155,
          0.0027287665284009732,
          0.0026330733488788166,
          0.0026143412349762685,
          0.0027352683531631362,
          0.002771306298502003,
          0.0025650378688761807,
          0.0025926554654492604,
          0.0027483185152417165,
          0.0025437610671686173,
          0.0027287665284009732,
          0.002617453973860436,
          0.0027222801586946886,
          0.0026299420350602088,
          0.0023826122797701876,
          0.0026932817683633704,
          0.002680492943703672,
          0.0025407359656520745,
          0.002745050149114211,
          0.0025498220799095024,
          0.002651939680949431,
          0.0027385250726944706,
          0.0026268144450749056,
          0.0026900788532519203,
          0.002393979894353766,
          0.002655097186042078,
          0.002764718810333137,
          0.002568091905207396,
          0.002583416717391178,
          0.002719042758003716,
          0.0027287665284009732,
          0.002460404176434514,
          0.0026677648457150926,
          0.002761430940582358,
          0.0026205704188955944,
          0.002605025211181486,
          0.002745050149114211,
          0.0027255214139639693,
          0.0026330733488788166,
          0.0027385250726944706,
          0.0026677648457150926,
          0.002709353637588329,
          0.002741785669805896,
          0.0026996990436820045,
          0.0027385250726944706,
          0.002561987464478034,
          0.0026645922759385063,
          0.0027352683531631362,
          0.002680492943703672,
          0.002761430940582358,
          0.0025650378688761807,
          0.002768010594752697,
          0.0026836844454491116,
          0.0023404623799926794,
          0.0027255214139639693,
          0.0025957423843918155,
          0.0027483185152417165,
          0.002623690574494436,
          0.0026645922759385063,
          0.00267730523736846,
          0.0026081268580363786,
          0.0026081268580363786,
          0.002680492943703672,
          0.002425521266327487,
          0.0027581469808449425,
          0.0027287665284009732,
          0.0027548669264710122,
          0.0026868797471237453,
          0.002411133088994729,
          0.002768010594752697,
          0.0026932817683633704,
          0.0027158092073070947,
          0.0027320155066005783,
          0.002655097186042078,
          0.0026677648457150926,
          0.0025286714920596744,
          0.0027548669264710122,
          0.0027483185152417165,
          0.002661423479057799,
          0.0027255214139639693,
          0.0026836844454491116,
          0.0027255214139639693,
          0.0027385250726944706,
          0.002577275849068444,
          0.0027158092073070947,
          0.002741785669805896,
          0.0027515907728162124,
          0.0026868797471237453,
          0.002706131609425503,
          0.0026964884969932225,
          0.0026019272528792353,
          0.002706131609425503,
          0.0027515907728162124,
          0.002741785669805896,
          0.0027581469808449425,
          0.002741785669805896,
          0.0026900788532519203,
          0.002709353637588329,
          0.002771306298502003,
          0.002680492943703672,
          0.0026996990436820045,
          0.0027483185152417165,
          0.002670941192879713,
          0.002651939680949431,
          0.0027548669264710122,
          0.002712579502026319,
          0.0027287665284009732,
          0.002771306298502003,
          0.0027483185152417165,
          0.0027581469808449425,
          0.0026836844454491116,
          0.0026424896776983133,
          0.0027287665284009732,
          0.0027515907728162124,
          0.0027515907728162124,
          0.0027158092073070947,
          0.002719042758003716,
          0.0027352683531631362,
          0.002761430940582358,
          0.002764718810333137,
          0.002745050149114211,
          0.002771306298502003,
          0.0027581469808449425,
          0.0027385250726944706,
          0.0027287665284009732,
          0.0027515907728162124,
          0.002764718810333137,
          0.002680492943703672,
          0.0027255214139639693,
          0.002745050149114211,
          0.0027581469808449425,
          0.0026900788532519203,
          0.002761430940582358,
          0.0027581469808449425,
          0.0026964884969932225,
          0.002764718810333137,
          0.002745050149114211,
          0.0027581469808449425,
          0.0027483185152417165,
          0.002709353637588329,
          0.0027548669264710122,
          0.0027515907728162124,
          0.002768010594752697,
          0.0027548669264710122,
          0.002745050149114211,
          0.0026964884969932225,
          0.002761430940582358,
          0.002741785669805896,
          0.0027287665284009732,
          0.002764718810333137,
          0.002771306298502003,
          0.002761430940582358,
          0.0027515907728162124,
          0.0026299420350602088,
          0.002764718810333137,
          0.002768010594752697,
          0.0027515907728162124,
          0.0027385250726944706,
          0.002764718810333137,
          0.0027581469808449425,
          0.002761430940582358,
          0.002741785669805896,
          0.002764718810333137,
          0.0027581469808449425,
          0.002741785669805896,
          0.002761430940582358,
          0.0027548669264710122,
          0.002768010594752697,
          0.002764718810333137,
          0.002764718810333137,
          0.0027483185152417165,
          0.0027483185152417165,
          0.002745050149114211,
          0.002768010594752697,
          0.002764718810333137,
          0.0027287665284009732,
          0.0027483185152417165,
          0.002764718810333137,
          0.002764718810333137,
          0.002768010594752697,
          0.0027581469808449425,
          0.002768010594752697,
          0.002761430940582358,
          0.0027581469808449425,
          0.002771306298502003,
          0.002771306298502003,
          0.002771306298502003,
          0.002771306298502003,
          0.0027581469808449425,
          0.002771306298502003,
          0.002771306298502003,
          0.002768010594752697,
          0.002771306298502003,
          0.002771306298502003,
          0.002764718810333137
         ]
        }
       ],
       "layout": {
        "annotations": [
         {
          "align": "center",
          "bgcolor": "white",
          "font": {
           "color": "black",
           "size": 12
          },
          "opacity": 0.8,
          "showarrow": false,
          "text": "Reciprocal Rarity\nVar: 2.3736e-05, Kurtosis: 1.2635e+01",
          "x": 0.5,
          "xref": "paper",
          "y": 1.15,
          "yref": "paper"
         },
         {
          "align": "center",
          "bgcolor": "white",
          "font": {
           "color": "black",
           "size": 12
          },
          "opacity": 0.8,
          "showarrow": false,
          "text": "Exp Rarity\nVar: 1.3660e-07, Kurtosis: 5.9623e+00",
          "x": 0.5,
          "xref": "paper",
          "y": 1.05,
          "yref": "paper"
         }
        ],
        "barmode": "overlay",
        "showlegend": true,
        "template": {
         "data": {
          "bar": [
           {
            "error_x": {
             "color": "#2a3f5f"
            },
            "error_y": {
             "color": "#2a3f5f"
            },
            "marker": {
             "line": {
              "color": "#E5ECF6",
              "width": 0.5
             },
             "pattern": {
              "fillmode": "overlay",
              "size": 10,
              "solidity": 0.2
             }
            },
            "type": "bar"
           }
          ],
          "barpolar": [
           {
            "marker": {
             "line": {
              "color": "#E5ECF6",
              "width": 0.5
             },
             "pattern": {
              "fillmode": "overlay",
              "size": 10,
              "solidity": 0.2
             }
            },
            "type": "barpolar"
           }
          ],
          "carpet": [
           {
            "aaxis": {
             "endlinecolor": "#2a3f5f",
             "gridcolor": "white",
             "linecolor": "white",
             "minorgridcolor": "white",
             "startlinecolor": "#2a3f5f"
            },
            "baxis": {
             "endlinecolor": "#2a3f5f",
             "gridcolor": "white",
             "linecolor": "white",
             "minorgridcolor": "white",
             "startlinecolor": "#2a3f5f"
            },
            "type": "carpet"
           }
          ],
          "choropleth": [
           {
            "colorbar": {
             "outlinewidth": 0,
             "ticks": ""
            },
            "type": "choropleth"
           }
          ],
          "contour": [
           {
            "colorbar": {
             "outlinewidth": 0,
             "ticks": ""
            },
            "colorscale": [
             [
              0,
              "#0d0887"
             ],
             [
              0.1111111111111111,
              "#46039f"
             ],
             [
              0.2222222222222222,
              "#7201a8"
             ],
             [
              0.3333333333333333,
              "#9c179e"
             ],
             [
              0.4444444444444444,
              "#bd3786"
             ],
             [
              0.5555555555555556,
              "#d8576b"
             ],
             [
              0.6666666666666666,
              "#ed7953"
             ],
             [
              0.7777777777777778,
              "#fb9f3a"
             ],
             [
              0.8888888888888888,
              "#fdca26"
             ],
             [
              1,
              "#f0f921"
             ]
            ],
            "type": "contour"
           }
          ],
          "contourcarpet": [
           {
            "colorbar": {
             "outlinewidth": 0,
             "ticks": ""
            },
            "type": "contourcarpet"
           }
          ],
          "heatmap": [
           {
            "colorbar": {
             "outlinewidth": 0,
             "ticks": ""
            },
            "colorscale": [
             [
              0,
              "#0d0887"
             ],
             [
              0.1111111111111111,
              "#46039f"
             ],
             [
              0.2222222222222222,
              "#7201a8"
             ],
             [
              0.3333333333333333,
              "#9c179e"
             ],
             [
              0.4444444444444444,
              "#bd3786"
             ],
             [
              0.5555555555555556,
              "#d8576b"
             ],
             [
              0.6666666666666666,
              "#ed7953"
             ],
             [
              0.7777777777777778,
              "#fb9f3a"
             ],
             [
              0.8888888888888888,
              "#fdca26"
             ],
             [
              1,
              "#f0f921"
             ]
            ],
            "type": "heatmap"
           }
          ],
          "heatmapgl": [
           {
            "colorbar": {
             "outlinewidth": 0,
             "ticks": ""
            },
            "colorscale": [
             [
              0,
              "#0d0887"
             ],
             [
              0.1111111111111111,
              "#46039f"
             ],
             [
              0.2222222222222222,
              "#7201a8"
             ],
             [
              0.3333333333333333,
              "#9c179e"
             ],
             [
              0.4444444444444444,
              "#bd3786"
             ],
             [
              0.5555555555555556,
              "#d8576b"
             ],
             [
              0.6666666666666666,
              "#ed7953"
             ],
             [
              0.7777777777777778,
              "#fb9f3a"
             ],
             [
              0.8888888888888888,
              "#fdca26"
             ],
             [
              1,
              "#f0f921"
             ]
            ],
            "type": "heatmapgl"
           }
          ],
          "histogram": [
           {
            "marker": {
             "pattern": {
              "fillmode": "overlay",
              "size": 10,
              "solidity": 0.2
             }
            },
            "type": "histogram"
           }
          ],
          "histogram2d": [
           {
            "colorbar": {
             "outlinewidth": 0,
             "ticks": ""
            },
            "colorscale": [
             [
              0,
              "#0d0887"
             ],
             [
              0.1111111111111111,
              "#46039f"
             ],
             [
              0.2222222222222222,
              "#7201a8"
             ],
             [
              0.3333333333333333,
              "#9c179e"
             ],
             [
              0.4444444444444444,
              "#bd3786"
             ],
             [
              0.5555555555555556,
              "#d8576b"
             ],
             [
              0.6666666666666666,
              "#ed7953"
             ],
             [
              0.7777777777777778,
              "#fb9f3a"
             ],
             [
              0.8888888888888888,
              "#fdca26"
             ],
             [
              1,
              "#f0f921"
             ]
            ],
            "type": "histogram2d"
           }
          ],
          "histogram2dcontour": [
           {
            "colorbar": {
             "outlinewidth": 0,
             "ticks": ""
            },
            "colorscale": [
             [
              0,
              "#0d0887"
             ],
             [
              0.1111111111111111,
              "#46039f"
             ],
             [
              0.2222222222222222,
              "#7201a8"
             ],
             [
              0.3333333333333333,
              "#9c179e"
             ],
             [
              0.4444444444444444,
              "#bd3786"
             ],
             [
              0.5555555555555556,
              "#d8576b"
             ],
             [
              0.6666666666666666,
              "#ed7953"
             ],
             [
              0.7777777777777778,
              "#fb9f3a"
             ],
             [
              0.8888888888888888,
              "#fdca26"
             ],
             [
              1,
              "#f0f921"
             ]
            ],
            "type": "histogram2dcontour"
           }
          ],
          "mesh3d": [
           {
            "colorbar": {
             "outlinewidth": 0,
             "ticks": ""
            },
            "type": "mesh3d"
           }
          ],
          "parcoords": [
           {
            "line": {
             "colorbar": {
              "outlinewidth": 0,
              "ticks": ""
             }
            },
            "type": "parcoords"
           }
          ],
          "pie": [
           {
            "automargin": true,
            "type": "pie"
           }
          ],
          "scatter": [
           {
            "fillpattern": {
             "fillmode": "overlay",
             "size": 10,
             "solidity": 0.2
            },
            "type": "scatter"
           }
          ],
          "scatter3d": [
           {
            "line": {
             "colorbar": {
              "outlinewidth": 0,
              "ticks": ""
             }
            },
            "marker": {
             "colorbar": {
              "outlinewidth": 0,
              "ticks": ""
             }
            },
            "type": "scatter3d"
           }
          ],
          "scattercarpet": [
           {
            "marker": {
             "colorbar": {
              "outlinewidth": 0,
              "ticks": ""
             }
            },
            "type": "scattercarpet"
           }
          ],
          "scattergeo": [
           {
            "marker": {
             "colorbar": {
              "outlinewidth": 0,
              "ticks": ""
             }
            },
            "type": "scattergeo"
           }
          ],
          "scattergl": [
           {
            "marker": {
             "colorbar": {
              "outlinewidth": 0,
              "ticks": ""
             }
            },
            "type": "scattergl"
           }
          ],
          "scattermapbox": [
           {
            "marker": {
             "colorbar": {
              "outlinewidth": 0,
              "ticks": ""
             }
            },
            "type": "scattermapbox"
           }
          ],
          "scatterpolar": [
           {
            "marker": {
             "colorbar": {
              "outlinewidth": 0,
              "ticks": ""
             }
            },
            "type": "scatterpolar"
           }
          ],
          "scatterpolargl": [
           {
            "marker": {
             "colorbar": {
              "outlinewidth": 0,
              "ticks": ""
             }
            },
            "type": "scatterpolargl"
           }
          ],
          "scatterternary": [
           {
            "marker": {
             "colorbar": {
              "outlinewidth": 0,
              "ticks": ""
             }
            },
            "type": "scatterternary"
           }
          ],
          "surface": [
           {
            "colorbar": {
             "outlinewidth": 0,
             "ticks": ""
            },
            "colorscale": [
             [
              0,
              "#0d0887"
             ],
             [
              0.1111111111111111,
              "#46039f"
             ],
             [
              0.2222222222222222,
              "#7201a8"
             ],
             [
              0.3333333333333333,
              "#9c179e"
             ],
             [
              0.4444444444444444,
              "#bd3786"
             ],
             [
              0.5555555555555556,
              "#d8576b"
             ],
             [
              0.6666666666666666,
              "#ed7953"
             ],
             [
              0.7777777777777778,
              "#fb9f3a"
             ],
             [
              0.8888888888888888,
              "#fdca26"
             ],
             [
              1,
              "#f0f921"
             ]
            ],
            "type": "surface"
           }
          ],
          "table": [
           {
            "cells": {
             "fill": {
              "color": "#EBF0F8"
             },
             "line": {
              "color": "white"
             }
            },
            "header": {
             "fill": {
              "color": "#C8D4E3"
             },
             "line": {
              "color": "white"
             }
            },
            "type": "table"
           }
          ]
         },
         "layout": {
          "annotationdefaults": {
           "arrowcolor": "#2a3f5f",
           "arrowhead": 0,
           "arrowwidth": 1
          },
          "autotypenumbers": "strict",
          "coloraxis": {
           "colorbar": {
            "outlinewidth": 0,
            "ticks": ""
           }
          },
          "colorscale": {
           "diverging": [
            [
             0,
             "#8e0152"
            ],
            [
             0.1,
             "#c51b7d"
            ],
            [
             0.2,
             "#de77ae"
            ],
            [
             0.3,
             "#f1b6da"
            ],
            [
             0.4,
             "#fde0ef"
            ],
            [
             0.5,
             "#f7f7f7"
            ],
            [
             0.6,
             "#e6f5d0"
            ],
            [
             0.7,
             "#b8e186"
            ],
            [
             0.8,
             "#7fbc41"
            ],
            [
             0.9,
             "#4d9221"
            ],
            [
             1,
             "#276419"
            ]
           ],
           "sequential": [
            [
             0,
             "#0d0887"
            ],
            [
             0.1111111111111111,
             "#46039f"
            ],
            [
             0.2222222222222222,
             "#7201a8"
            ],
            [
             0.3333333333333333,
             "#9c179e"
            ],
            [
             0.4444444444444444,
             "#bd3786"
            ],
            [
             0.5555555555555556,
             "#d8576b"
            ],
            [
             0.6666666666666666,
             "#ed7953"
            ],
            [
             0.7777777777777778,
             "#fb9f3a"
            ],
            [
             0.8888888888888888,
             "#fdca26"
            ],
            [
             1,
             "#f0f921"
            ]
           ],
           "sequentialminus": [
            [
             0,
             "#0d0887"
            ],
            [
             0.1111111111111111,
             "#46039f"
            ],
            [
             0.2222222222222222,
             "#7201a8"
            ],
            [
             0.3333333333333333,
             "#9c179e"
            ],
            [
             0.4444444444444444,
             "#bd3786"
            ],
            [
             0.5555555555555556,
             "#d8576b"
            ],
            [
             0.6666666666666666,
             "#ed7953"
            ],
            [
             0.7777777777777778,
             "#fb9f3a"
            ],
            [
             0.8888888888888888,
             "#fdca26"
            ],
            [
             1,
             "#f0f921"
            ]
           ]
          },
          "colorway": [
           "#636efa",
           "#EF553B",
           "#00cc96",
           "#ab63fa",
           "#FFA15A",
           "#19d3f3",
           "#FF6692",
           "#B6E880",
           "#FF97FF",
           "#FECB52"
          ],
          "font": {
           "color": "#2a3f5f"
          },
          "geo": {
           "bgcolor": "white",
           "lakecolor": "white",
           "landcolor": "#E5ECF6",
           "showlakes": true,
           "showland": true,
           "subunitcolor": "white"
          },
          "hoverlabel": {
           "align": "left"
          },
          "hovermode": "closest",
          "mapbox": {
           "style": "light"
          },
          "paper_bgcolor": "white",
          "plot_bgcolor": "#E5ECF6",
          "polar": {
           "angularaxis": {
            "gridcolor": "white",
            "linecolor": "white",
            "ticks": ""
           },
           "bgcolor": "#E5ECF6",
           "radialaxis": {
            "gridcolor": "white",
            "linecolor": "white",
            "ticks": ""
           }
          },
          "scene": {
           "xaxis": {
            "backgroundcolor": "#E5ECF6",
            "gridcolor": "white",
            "gridwidth": 2,
            "linecolor": "white",
            "showbackground": true,
            "ticks": "",
            "zerolinecolor": "white"
           },
           "yaxis": {
            "backgroundcolor": "#E5ECF6",
            "gridcolor": "white",
            "gridwidth": 2,
            "linecolor": "white",
            "showbackground": true,
            "ticks": "",
            "zerolinecolor": "white"
           },
           "zaxis": {
            "backgroundcolor": "#E5ECF6",
            "gridcolor": "white",
            "gridwidth": 2,
            "linecolor": "white",
            "showbackground": true,
            "ticks": "",
            "zerolinecolor": "white"
           }
          },
          "shapedefaults": {
           "line": {
            "color": "#2a3f5f"
           }
          },
          "ternary": {
           "aaxis": {
            "gridcolor": "white",
            "linecolor": "white",
            "ticks": ""
           },
           "baxis": {
            "gridcolor": "white",
            "linecolor": "white",
            "ticks": ""
           },
           "bgcolor": "#E5ECF6",
           "caxis": {
            "gridcolor": "white",
            "linecolor": "white",
            "ticks": ""
           }
          },
          "title": {
           "x": 0.05
          },
          "xaxis": {
           "automargin": true,
           "gridcolor": "white",
           "linecolor": "white",
           "ticks": "",
           "title": {
            "standoff": 15
           },
           "zerolinecolor": "white",
           "zerolinewidth": 2
          },
          "yaxis": {
           "automargin": true,
           "gridcolor": "white",
           "linecolor": "white",
           "ticks": "",
           "title": {
            "standoff": 15
           },
           "zerolinecolor": "white",
           "zerolinewidth": 2
          }
         }
        },
        "title": {
         "font": {
          "size": 20
         },
         "text": "Histograms of Reciprocal and Log Rarity"
        },
        "xaxis": {
         "title": {
          "text": "Value"
         }
        },
        "yaxis": {
         "title": {
          "text": "Frequency"
         }
        }
       }
      }
     },
     "metadata": {},
     "output_type": "display_data"
    }
   ],
   "source": [
    "import plotly.graph_objects as go\n",
    "import torch\n",
    "def kurtosis(data):\n",
    "    # 计算均值和标准差\n",
    "    mean = data.mean()\n",
    "    std = data.std()\n",
    "\n",
    "    # 标准化数据\n",
    "    standardized_data = (data - mean) / std\n",
    "\n",
    "    # 计算峰度，去掉 3（标准正态分布的峰度为 3）\n",
    "    kurt = (standardized_data**4).mean() - 3\n",
    "    return kurt\n",
    "\n",
    "\n",
    "reciprocal_rarity=reciprocalrarity.cpu()\n",
    "exp_rarity=exprarity.cpu()\n",
    "\n",
    "# 创建图表对象\n",
    "fig = go.Figure()\n",
    "\n",
    "# Reciprocal Rarity Histogram\n",
    "fig.add_trace(go.Histogram(\n",
    "    x=reciprocal_rarity[1:],\n",
    "    nbinsx=1000,\n",
    "    name=\"Reciprocal Rarity\",\n",
    "    marker_color=\"skyblue\",\n",
    "    histnorm='probability',\n",
    "    opacity=0.7,\n",
    "    showlegend=True  # 不显示图例\n",
    "))\n",
    "\n",
    "# Log Rarity Histogram\n",
    "fig.add_trace(go.Histogram(\n",
    "    x=exp_rarity[1:],\n",
    "    nbinsx=500,\n",
    "    name=\"Exp Rarity\",\n",
    "    marker_color=\"lightgreen\",\n",
    "    opacity=0.7,\n",
    "    histnorm='probability',\n",
    "    showlegend=True  # 不显示图例\n",
    "))\n",
    "\n",
    "# 计算方差和峰度\n",
    "reciprocal_var = torch.var(reciprocal_rarity[1:])\n",
    "reciprocal_kurt = kurtosis(reciprocal_rarity[1:])\n",
    "exp_var = torch.var(exp_rarity[1:])\n",
    "exp_kurt = kurtosis(exp_rarity[1:])\n",
    "\n",
    "\n",
    "# 添加外部文本框显示方差和峰度\n",
    "fig.add_annotation(\n",
    "    x=0.5,  # x轴位置，控制文本框水平位置\n",
    "    y=1.15,  # y轴位置，调整文本框在图表的外部\n",
    "    text=f\"Reciprocal Rarity\\nVar: {reciprocal_var:.4e}, Kurtosis: {reciprocal_kurt:.4e}\",\n",
    "    showarrow=False,\n",
    "    font=dict(size=12, color=\"black\"),\n",
    "    align=\"center\",\n",
    "    bgcolor=\"white\",\n",
    "    opacity=0.8,\n",
    "    xref=\"paper\",  # 使用 'paper' 坐标系，让文本框不受图表范围限制\n",
    "    yref=\"paper\"   # 使用 'paper' 坐标系，使文本框在图表外\n",
    ")\n",
    "\n",
    "fig.add_annotation(\n",
    "    x=0.5,  # x轴位置，控制文本框水平位置\n",
    "    y=1.05,  # y轴位置，调整文本框在图表的外部\n",
    "    text=f\"Exp Rarity\\nVar: {exp_var:.4e}, Kurtosis: {exp_kurt:.4e}\",\n",
    "    showarrow=False,\n",
    "    font=dict(size=12, color=\"black\"),\n",
    "    align=\"center\",\n",
    "    bgcolor=\"white\",\n",
    "    opacity=0.8,\n",
    "    xref=\"paper\",  # 使用 'paper' 坐标系，放置在图表外\n",
    "    yref=\"paper\"   # 使用 'paper' 坐标系，放置在图表外\n",
    ")\n",
    "\n",
    "# 更新布局\n",
    "fig.update_layout(\n",
    "    title=\"Histograms of Reciprocal and Log Rarity\",\n",
    "    xaxis_title=\"Value\",\n",
    "    yaxis_title=\"Frequency\",\n",
    "    title_font_size=20,\n",
    "    barmode=\"overlay\",  # 使用 \"overlay\" 叠加直方图，\"group\" 可并排显示\n",
    "    showlegend=True    # 隐藏图例\n",
    ")\n",
    "\n",
    "# 显示图表\n",
    "fig.show()#5.96"
   ]
  },
  {
   "cell_type": "code",
   "execution_count": null,
   "metadata": {},
   "outputs": [],
   "source": [
    "import torch\n",
    "import numpy as np\n",
    "import pandas as pd\n",
    "\n",
    "\n",
    "# 2. 将数据转为 PyTorch Tensor 并移动到 GPU 上\n",
    "venue_id = torch.tensor(venue_id, dtype=torch.long).cuda()  \n",
    "venue_category = torch.tensor(venue_category, dtype=torch.long).cuda()\n",
    "x = torch.tensor(x, dtype=torch.float32).cuda()  \n",
    "y = torch.tensor(y, dtype=torch.float32).cuda()\n",
    "\n",
    "# 3. 设置网格的尺寸（例如：每个网格大小为500x500）\n",
    "grid_width = 500  # 网格宽度\n",
    "grid_height = 500  # 网格高度\n",
    "\n",
    "# 4. 计算网格的数量（基于坐标的最大最小值）\n",
    "x_min, x_max = x.min(), x.max()\n",
    "y_min, y_max = y.min(), y.max()\n",
    "\n",
    "# 计算网格行列数\n",
    "num_x_grids = int((x_max - x_min) // grid_width) + 1\n",
    "num_y_grids = int((y_max - y_min) // grid_height) + 1\n",
    "\n",
    "\n",
    "# 5. 分批次处理\n",
    "batch_size = 10000  # 每批处理的样本数量\n",
    "num_batches = len(venue_id) // batch_size + 1  # 批次数量\n",
    "\n",
    "# 创建稠密张量来暂存更新，最后将其转换为稀疏张量\n",
    "venue_density_matrix = torch.zeros((num_y_grids, num_x_grids), dtype=torch.int32).cuda()\n",
    "category_density_matrix = torch.zeros((num_y_grids, num_x_grids, len(torch.unique(venue_category))), dtype=torch.int32).cuda()\n",
    "\n",
    "for batch_idx in range(num_batches):\n",
    "    # 计算每个批次的索引范围\n",
    "    start_idx = batch_idx * batch_size\n",
    "    end_idx = min((batch_idx + 1) * batch_size, len(venue_id))\n",
    "    \n",
    "    # 获取当前批次数据\n",
    "    batch_venue_id = venue_id[start_idx:end_idx]\n",
    "    batch_venue_category = venue_category[start_idx:end_idx]\n",
    "    batch_x = x[start_idx:end_idx]\n",
    "    batch_y = y[start_idx:end_idx]\n",
    "\n",
    "    # 计算每个数据点所属的网格\n",
    "    grid_x = ((batch_x - x_min) / grid_width).floor().long()  # 计算 x 对应的网格位置\n",
    "    grid_y = ((batch_y - y_min) / grid_height).floor().long()  # 计算 y 对应的网格位置\n",
    "\n",
    "    # 确保网格索引不超出边界\n",
    "    grid_x = torch.clamp(grid_x, 0, num_x_grids - 1)\n",
    "    grid_y = torch.clamp(grid_y, 0, num_y_grids - 1)\n",
    "\n",
    "    # 使用 scatter_add_ 更新稠密张量的计数\n",
    "    venue_density_matrix.index_put_((grid_y, grid_x), torch.ones(len(grid_y), dtype=torch.int32).cuda(), accumulate=True)\n",
    "    \n",
    "    # 更新类别密度矩阵\n",
    "    for i in range(len(batch_venue_category)):\n",
    "        category_density_matrix[grid_y[i], grid_x[i], batch_venue_category[i]] += 1\n",
    "\n",
    "# 7. 将稠密张量转换为稀疏张量\n",
    "venue_density_matrix_sparse = venue_density_matrix.to_sparse()\n",
    "category_density_matrix_sparse = category_density_matrix.to_sparse()\n",
    "\n",
    "# 8. 打印结果\n",
    "print(\"Venue Density Matrix Sparse:\")\n",
    "print(venue_density_matrix_sparse)\n",
    "print(\"Category Density Matrix Sparse:\")\n",
    "print(category_density_matrix_sparse)\n"
   ]
  },
  {
   "cell_type": "code",
   "execution_count": null,
   "metadata": {},
   "outputs": [],
   "source": [
    "import plotly.graph_objects as go\n",
    "import plotly.colors as pc\n",
    "import torch\n",
    "\n",
    "# 假设 venue_density_matrix_sparse 是一个 PyTorch tensor\n",
    "# 你可以根据你实际的场景替换这个变量\n",
    "venue_density_matrix_sparse = torch.rand(num_y_grids, num_x_grids)  # 模拟密度矩阵\n",
    "\n",
    "# 将 x_min 和 y_min 移回 CPU\n",
    "xmin = x_min.cpu().item()\n",
    "ymin = y_min.cpu().item()\n",
    "\n",
    "# 创建空的图形对象\n",
    "fig = go.Figure()\n",
    "\n",
    "# 定义颜色范围，这里选择一个颜色调色板，如蓝色渐变\n",
    "color_scale = 'Blues'  # 可以选择其他颜色范围，如 'Viridis', 'Cividis', 'Inferno'\n",
    "\n",
    "# 使用 PyTorch 的 max 和 min 函数\n",
    "max_density = torch.max(venue_density_matrix_sparse).item()  # 获取最大密度\n",
    "min_density = torch.min(venue_density_matrix_sparse).item()  # 获取最小密度\n",
    "normalized_density = (venue_density_matrix_sparse - min_density) / (max_density - min_density)  # 归一化\n",
    "\n",
    "# 添加网格图层：根据密度值使用颜色\n",
    "for i in range(num_y_grids):\n",
    "    for j in range(num_x_grids):\n",
    "        # 计算网格的边界\n",
    "        grid_x_min = xmin + j * grid_width\n",
    "        grid_x_max = grid_x_min + grid_width\n",
    "        grid_y_min = ymin + i * grid_height\n",
    "        grid_y_max = grid_y_min + grid_height\n",
    "        \n",
    "        # 根据网格的密度值计算颜色\n",
    "        density = normalized_density[i, j].item()  # 转换为 Python 数字\n",
    "        # 使用颜色渐变进行映射\n",
    "        fillcolor = pc.sequential.Blues[int(density * (len(pc.sequential.Blues) - 1))]\n",
    "\n",
    "        # 绘制矩形网格，设置透明度\n",
    "        fig.add_trace(go.Scatter(\n",
    "            x=[grid_x_min, grid_x_min, grid_x_max, grid_x_max, grid_x_min],\n",
    "            y=[grid_y_min, grid_y_max, grid_y_max, grid_y_min, grid_y_min],\n",
    "            fill='toself',\n",
    "            fillcolor=fillcolor,\n",
    "            line=dict(width=1, color='black'),  # 添加黑色网格线\n",
    "            mode='lines',\n",
    "            name='Grid',  # 给网格设置名字，用于筛选\n",
    "            visible=True  # 默认显示\n",
    "        ))\n",
    "\n",
    "# 创建一个调色板来表示 category_id 的颜色\n",
    "category_colors = pc.qualitative.Set1\n",
    "marker_colors = [category_colors[c % len(category_colors)] for c in venue_category.cpu().numpy()]\n",
    "\n",
    "# 添加数据点图层\n",
    "fig.add_trace(go.Scattergl(\n",
    "    x=x.cpu().numpy(),\n",
    "    y=y.cpu().numpy(),\n",
    "    mode='markers',\n",
    "    marker=dict(\n",
    "        size=5,\n",
    "        color=marker_colors,  # 使用 category_id 作为颜色\n",
    "        showscale=True  # 显示颜色条\n",
    "    ),\n",
    "    name='Data Points',  # 给数据点设置名字，用于筛选\n",
    "    visible=True  # 默认显示\n",
    "))\n",
    "\n",
    "# 设置布局\n",
    "fig.update_layout(\n",
    "    title=\"Venue Points with Density-based Coloring and Grid Lines\",\n",
    "    xaxis_title=\"Longitude\",\n",
    "    yaxis_title=\"Latitude\",\n",
    "    showlegend=True,\n",
    "    updatemenus=[\n",
    "        {\n",
    "            'buttons': [\n",
    "                {\n",
    "                    'args': [None, {'visible': [True, False]}],  # 隐藏数据点，只显示网格\n",
    "                    'label': 'Show Grid Only',\n",
    "                    'method': 'relayout'\n",
    "                },\n",
    "                {\n",
    "                    'args': [None, {'visible': [False, True]}],  # 隐藏网格，只显示数据点\n",
    "                    'label': 'Show Data Points Only',\n",
    "                    'method': 'relayout'\n",
    "                },\n",
    "                {\n",
    "                    'args': [None, {'visible': [True, True]}],  # 显示所有\n",
    "                    'label': 'Show Both',\n",
    "                    'method': 'relayout'\n",
    "                }\n",
    "            ],\n",
    "            'direction': 'down',\n",
    "            'showactive': True,\n",
    "            'x': 0.17,\n",
    "            'xanchor': 'left',\n",
    "            'y': 1.15,\n",
    "            'yanchor': 'top'\n",
    "        }\n",
    "    ]\n",
    ")\n",
    "\n",
    "# 在浏览器中显示\n",
    "fig.show(renderer=\"browser\")\n"
   ]
  },
  {
   "cell_type": "markdown",
   "metadata": {},
   "source": [
    "地点：偏远中心稀有丰富\n",
    "街区：偏远中心密集稀疏\n",
    "用500m*500m作为基本地理块进行聚合\n",
    "街区密度阈值 街区偏远度阈值\n",
    "中心和密集相关\n",
    "丰富地点一定是便利店之类的常用地点\n",
    "重点是稀有地点区分\n",
    "偏远但密集的是乡镇 偏远密集街区的丰富地点是便民设施 稀有地点大概率是学校 政府等大场地 小概率是景点\n",
    "偏远稀疏的是无人区 偏远稀疏街区的丰富地点可能就是便利店 但是稀有地点很可能是景点\n",
    "中心稀疏是城郊 景点的概率较大\n",
    "中心密集的是市中心 这是推荐的重点"
   ]
  },
  {
   "cell_type": "code",
   "execution_count": null,
   "metadata": {},
   "outputs": [],
   "source": [
    "import torch\n",
    "import torch.nn as nn\n",
    "import torch.optim as optim\n",
    "import numpy as np\n",
    "import plotly.graph_objects as go\n",
    "import plotly.io as pio\n",
    "\n",
    "\n",
    "class DynamicGridModel(nn.Module):\n",
    "    def __init__(self, x, y, venue_category, num_categories, grid_size=50):\n",
    "        super(DynamicGridModel, self).__init__()\n",
    "        self.device = torch.device(\"cuda\" if torch.cuda.is_available() else \"cpu\")\n",
    "        \n",
    "        # 将坐标和类目信息移至设备上\n",
    "        self.x = torch.tensor(x, dtype=torch.float32).to(self.device)\n",
    "        self.y = torch.tensor(y, dtype=torch.float32).to(self.device)\n",
    "        self.venue_category = torch.tensor(venue_category, dtype=torch.long).to(self.device)\n",
    "        self.num_categories = num_categories  # 将类目总数保存为模型属性\n",
    "        # 计算全体类目的比例\n",
    "        category_counts = torch.bincount(self.venue_category)\n",
    "        self.category_proportions = category_counts.float() / category_counts.sum()\n",
    "        \n",
    "        # 初始化网格边界和网格大小\n",
    "        self.grid_size = grid_size\n",
    "        self.grid_boundaries = nn.Parameter(torch.rand((grid_size, 2), dtype=torch.float32).to(self.device))  # 每个网格的左下角坐标\n",
    "        self.grid_sizes = nn.Parameter(torch.rand((grid_size, 2), dtype=torch.float32).to(self.device))  # 每个网格的宽度和高度\n",
    "\n",
    "    def compute_grid_category_proportions(self):\n",
    "        grid_category_proportions = torch.zeros(self.grid_size, len(self.category_proportions)).to(self.device)\n",
    "        grid_item_count = torch.zeros(self.grid_size).to(self.device)\n",
    "        grid_area = torch.zeros(self.grid_size).to(self.device)\n",
    "        \n",
    "        for i in range(self.grid_size):\n",
    "            x_min, y_min = self.grid_boundaries[i, 0], self.grid_boundaries[i, 1]\n",
    "            x_max, y_max = x_min + self.grid_sizes[i, 0], y_min + self.grid_sizes[i, 1]\n",
    "\n",
    "            in_grid = (self.x >= x_min) & (self.x < x_max) & (self.y >= y_min) & (self.y < y_max)\n",
    "            grid_category_count = torch.bincount(self.venue_category[in_grid], minlength=len(self.category_proportions))\n",
    "            grid_item_count[i] = in_grid.sum().float()\n",
    "            grid_area[i] = self.grid_sizes[i, 0] * self.grid_sizes[i, 1]\n",
    "\n",
    "            if grid_category_count.sum() > 0:\n",
    "                grid_category_proportions[i] = grid_category_count.float() / grid_category_count.sum()\n",
    "\n",
    "        return grid_category_proportions, grid_item_count, grid_area\n",
    "\n",
    "    def compute_mse(self, predictions, target):\n",
    "        return ((predictions - target) ** 2).mean()\n",
    "\n",
    "    def compute_density_loss(self, grid_item_count, grid_area):\n",
    "        grid_density = grid_item_count / grid_area\n",
    "        target_density = grid_item_count.sum() / grid_area.sum()\n",
    "        return ((grid_density - target_density) ** 2).mean()\n",
    "\n",
    "    def forward(self):\n",
    "        grid_category_proportions, grid_item_count, grid_area = self.compute_grid_category_proportions()\n",
    "        category_loss = self.compute_mse(grid_category_proportions, self.category_proportions)\n",
    "        density_loss = self.compute_density_loss(grid_item_count, grid_area)\n",
    "        total_loss = category_loss + density_loss\n",
    "        return total_loss, category_loss, density_loss\n",
    "\n",
    "    def visualize_grid(self):\n",
    "        \"\"\"\n",
    "        使用 Plotly 可视化网格分布。\n",
    "        \"\"\"\n",
    "        grid_boundaries = self.grid_boundaries.detach().cpu().numpy()\n",
    "        grid_sizes = self.grid_sizes.detach().cpu().numpy()\n",
    "        grid_colors = []\n",
    "        grid_text = []\n",
    "\n",
    "        # 遍历每个网格，计算密度与类目比例\n",
    "        for i in range(self.grid_size):\n",
    "            x_min, y_min = grid_boundaries[i]\n",
    "            x_max, y_max = x_min + grid_sizes[i, 0], y_min + grid_sizes[i, 1]\n",
    "            grid_points = ((self.x >= x_min) & (self.x < x_max) &\n",
    "                           (self.y >= y_min) & (self.y < y_max))\n",
    "            category_counts = torch.bincount(self.venue_category[grid_points], minlength=len(self.category_proportions)).cpu().numpy()\n",
    "            density = grid_points.sum().item() / ((x_max - x_min) * (y_max - y_min) + 1e-6)\n",
    "\n",
    "            # 计算网格颜色，基于类目比例和密度\n",
    "            category_ratio = category_counts / (category_counts.sum() + 1e-6)\n",
    "            color = f\"rgba({category_ratio[0] * 255}, {category_ratio[1] * 255}, {category_ratio[2] * 255}, 0.5)\"\n",
    "            grid_colors.append(color)\n",
    "\n",
    "            # 添加文本信息（密度和类目比例）\n",
    "            grid_text.append(f\"Density: {density:.2f}<br>Category Ratios: {category_ratio}\")\n",
    "\n",
    "        # 使用 Plotly 绘制网格边界和中心点\n",
    "        fig = go.Figure()\n",
    "\n",
    "        # 绘制网格\n",
    "        for i in range(self.grid_size):\n",
    "            x_min, y_min = grid_boundaries[i]\n",
    "            x_max, y_max = x_min + grid_sizes[i, 0], y_min + grid_sizes[i, 1]\n",
    "            fig.add_trace(go.Scatter(\n",
    "                x=[x_min, x_min, x_max, x_max, x_min],\n",
    "                y=[y_min, y_max, y_max, y_min, y_min],\n",
    "                fill='toself',\n",
    "                fillcolor=grid_colors[i],\n",
    "                line=dict(color='black', width=1),\n",
    "                mode='lines',\n",
    "                hoverinfo=\"text\",\n",
    "                text=grid_text[i]\n",
    "            ))\n",
    "\n",
    "        # 绘制中心点\n",
    "        fig.add_trace(go.Scatter(\n",
    "            x=self.x.cpu(),\n",
    "            y=self.y.cpu(),\n",
    "            mode='markers',\n",
    "            marker=dict(\n",
    "                color=[f\"rgba({c * 255}, {c * 255}, 150, 0.5)\" for c in self.venue_category.cpu().numpy() / self.num_categories],\n",
    "                size=5,\n",
    "            ),\n",
    "            hoverinfo=\"skip\"\n",
    "        ))\n",
    "\n",
    "        fig.update_layout(\n",
    "            title=\"Dynamic Grid Visualization with Density and Category Ratios\",\n",
    "            xaxis_title=\"Longitude\",\n",
    "            yaxis_title=\"Latitude\",\n",
    "            showlegend=False\n",
    "        )\n",
    "\n",
    "        pio.renderers.default = 'browser'\n",
    "        fig.show()\n",
    "\n",
    "# 使用模型\n",
    "# 假设 dataset 是包含经纬度和类目信息的 DataFrame\n",
    "locations = dataset.item_feat.to_numpy()  # 获取 numpy 数组\n",
    "venue_id = locations[:, 0]\n",
    "venue_category = locations[:, 1]\n",
    "x = locations[:, 2]\n",
    "y = locations[:, 3]\n",
    "\n",
    "num_categories = len(np.unique(venue_category))\n",
    "\n",
    "device = torch.device(\"cuda\" if torch.cuda.is_available() else \"cpu\")\n",
    "model = DynamicGridModel(x, y, venue_category, num_categories, grid_size=50).to(device)\n",
    "\n",
    "optimizer = optim.Adam(model.parameters(), lr=0.01)\n",
    "num_epochs = 100\n",
    "\n",
    "# 训练模型\n",
    "for epoch in range(num_epochs):\n",
    "    optimizer.zero_grad()\n",
    "    total_loss, category_loss, density_loss = model()\n",
    "    total_loss.backward()\n",
    "    optimizer.step()\n",
    "    \n",
    "    print(f\"Epoch [{epoch+1}/{num_epochs}], Total Loss: {total_loss.item()}, Category Loss: {category_loss.item()}, Density Loss: {density_loss.item()}\")\n",
    "\n",
    "# 可视化结果\n",
    "model.visualize_grid()\n"
   ]
  },
  {
   "cell_type": "code",
   "execution_count": null,
   "metadata": {},
   "outputs": [],
   "source": [
    "import utils\n",
    "importlib.reload(utils)\n",
    "from utils import *\n",
    "# dataset splitting\n",
    "train_data, valid_data, test_data = data_preparation(config, dataset)\n"
   ]
  },
  {
   "cell_type": "code",
   "execution_count": null,
   "metadata": {},
   "outputs": [],
   "source": [
    "print(dataset.inter_feat)\n",
    "for batch_idx, interaction in enumerate(train_data):\n",
    "    print(interaction)\n",
    "    break"
   ]
  },
  {
   "cell_type": "code",
   "execution_count": null,
   "metadata": {},
   "outputs": [],
   "source": [
    "\n",
    "import importlib\n",
    "import mamba4poi\n",
    "import utils\n",
    "importlib.reload(mamba4poi)\n",
    "importlib.reload(utils)\n",
    "from utils import *\n",
    "from mamba4poi import Mamba4POI\n",
    "import os\n",
    "# 设置 CUDA_LAUNCH_BLOCKING 为 1\n",
    "os.environ['CUDA_LAUNCH_BLOCKING'] = '1'\n",
    "if __name__ == '__main__':\n",
    "    config = Config(model=Mamba4POI, config_file_list=['config.yaml'])\n",
    "    init_seed(config['seed'], config['reproducibility'])\n",
    "    \n",
    "    # logger initialization\n",
    "    init_logger(config)\n",
    "    logger = getLogger()\n",
    "    logger.info(sys.argv)\n",
    "    logger.info(config)\n",
    "\n",
    "    logger.info(dataset)\n",
    "\n",
    "    # model loading and initialization\n",
    "    init_seed(config[\"seed\"] + config[\"local_rank\"], config[\"reproducibility\"])\n",
    "    model = Mamba4POI(config, train_data.dataset).to(config['device'])\n",
    "    logger.info(model)\n",
    "    \n",
    "    transform = construct_transform(config)\n",
    "    flops = get_flops(model, dataset, config[\"device\"], logger, transform)\n",
    "    logger.info(set_color(\"FLOPs\", \"blue\") + f\": {flops}\")\n",
    "\n",
    "    # trainer loading and initialization\n",
    "    trainer = Trainer(config, model)\n",
    "\n",
    "    best_valid_score, best_valid_result = trainer.fit(\n",
    "    train_data,\n",
    "    valid_data,  # 可以保留验证数据集\n",
    "    verbose=True,    # 保留详细信息，打印结果\n",
    "    saved=True,      # 根据需要决定是否保存模型参数\n",
    "    show_progress=True,  # 不显示进度条\n",
    "    callback_fn=None  # 如果不需要回调函数，可以设置为 None\n",
    ")\n",
    "\n",
    "\n",
    "\n",
    "    # model evaluation\n",
    "    test_result = trainer.evaluate(\n",
    "        test_data, show_progress=config[\"show_progress\"]\n",
    "    )\n",
    "    \n",
    "    environment_tb = get_environment(config)\n",
    "    logger.info(\n",
    "        \"The running environment of this training is as follows:\\n\"\n",
    "        + environment_tb.draw()\n",
    "    )\n",
    "\n",
    "    logger.info(set_color(\"best valid \", \"yellow\") + f\": {best_valid_result}\")\n",
    "    logger.info(set_color(\"test result\", \"yellow\") + f\": {test_result}\")"
   ]
  }
 ],
 "metadata": {
  "kernelspec": {
   "display_name": "Pytorch",
   "language": "python",
   "name": "python3"
  },
  "language_info": {
   "codemirror_mode": {
    "name": "ipython",
    "version": 3
   },
   "file_extension": ".py",
   "mimetype": "text/x-python",
   "name": "python",
   "nbconvert_exporter": "python",
   "pygments_lexer": "ipython3",
   "version": "3.8.20"
  }
 },
 "nbformat": 4,
 "nbformat_minor": 2
}
