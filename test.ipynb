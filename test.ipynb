{
 "cells": [
  {
   "cell_type": "markdown",
   "metadata": {},
   "source": [
    "# MyTrain"
   ]
  },
  {
   "cell_type": "markdown",
   "metadata": {},
   "source": [
    "## DataSetInitialization"
   ]
  },
  {
   "cell_type": "code",
   "execution_count": 1,
   "metadata": {},
   "outputs": [],
   "source": [
    "import sys\n",
    "import logging\n",
    "from logging import getLogger\n",
    "from recbole.utils import init_logger, init_seed\n",
    "from mamba4poi import Mamba4POI\n",
    "from recbole.config import Config\n",
    "from utils import *\n",
    "from recbole.data.transform import construct_transform\n",
    "from recbole.utils import (\n",
    "    init_logger,\n",
    "    get_model,\n",
    "    get_trainer,\n",
    "    init_seed,\n",
    "    set_color,\n",
    "    get_flops,\n",
    "    get_environment,\n",
    ")\n",
    "import torch\n",
    "\n",
    "config = Config(model=Mamba4POI, config_file_list=['config.yaml'])\n",
    "dataset = create_dataset(config)"
   ]
  },
  {
   "cell_type": "markdown",
   "metadata": {},
   "source": [
    "### Venue Category Analysis"
   ]
  },
  {
   "cell_type": "markdown",
   "metadata": {},
   "source": [
    "# 负采样优化\n",
    "空间融合基本方法：基于流行度采样之上，候选负样本缩小到用户活动范围内，目的是排除活动范围外流行的伪负样本\n",
    "活动范围：用户交互过的地点位置取最大外切矩形\n",
    "分层采样：依据交互次数排行 找到频繁访问区域作为生活区 最少访问区域作为危险区 其余部分作为探索区\n",
    "假设1：用户熟知生活区所有地点，因此没有访问的地点作为负样本\n",
    "假设2：危险区可能是用户真的不感兴趣的区域 也有可能是不方便涉足的区域，可以根据危险区和生活区的距离进行从分段处理控制采样比例 危险区采样比例根据其与生活区距离\n",
    "探索区域：融合类目分布进行采样\n"
   ]
  },
  {
   "cell_type": "markdown",
   "metadata": {},
   "source": [
    "物品的特征可以这样观察 冷门-流行 丰富-稀有 再加上用户访问次数特征 构建出一个三维空间\n",
    "丰富稀有可以转化成 日常化程度 \n",
    "#### 假设1：相比更日常的地点人们对稀有的地点更感兴趣\n",
    "#### 假设2：用户更多访问的地方可能不是因为感兴趣而是因为日常生活需要\n",
    "#### 假设3：用户的频繁访问点是集中的，用户频繁访问区内的地点用户都熟知，未访问的地点大概率是不感兴趣\n",
    "#### 假设4：用户频繁访问区外的用户的偶尔访问点是集中的，用户偶尔访问区根据与频繁访问区的距离可以感知用户是对这块区域没兴趣还是不方便探索，这个距离是根据整体区域大小裁定的\n",
    "#### 假设5：除了偶尔访问区和频繁访问区，剩下的探索区是很未知的，\n",
    "#### 假设6：根据频繁访问区每个类目 用户访问占区域内总数比例 粗略推断用户对类目的兴趣 把这个权重作用在探索区\n",
    "#### 策略1：根据全体交互item划分出总区域\n",
    "#### 策略2：根据分位数划分出频繁访问item，在划分出频繁访问去地理包络，记录包络中心点位置，包络中未访问的项目直接划分成候选负样本\n",
    "#### 策略3：在频繁访问区地理包络外根据分位数划分出偶尔访问item，得到偶尔访问区地理包络，以中心位置到频繁访问区中心位置距离和总区域斜边两者倒数比来度量相近程度作为偶尔访问区采样权重\n",
    "\n"
   ]
  },
  {
   "cell_type": "code",
   "execution_count": null,
   "metadata": {},
   "outputs": [
    {
     "name": "stdout",
     "output_type": "stream",
     "text": [
      "tensor(398, device='cuda:0', dtype=torch.int32)\n"
     ]
    },
    {
     "name": "stderr",
     "output_type": "stream",
     "text": [
      "C:\\Users\\jec\\AppData\\Local\\Temp\\ipykernel_18712\\1896742451.py:6: DeprecationWarning:\n",
      "\n",
      "an integer is required (got type float).  Implicit conversion to integers using __int__ is deprecated, and may be removed in a future version of Python.\n",
      "\n"
     ]
    }
   ],
   "source": []
  },
  {
   "cell_type": "code",
   "execution_count": 131,
   "metadata": {},
   "outputs": [
    {
     "name": "stderr",
     "output_type": "stream",
     "text": [
      "C:\\Users\\jec\\AppData\\Local\\Temp\\ipykernel_18284\\3771621745.py:6: DeprecationWarning:\n",
      "\n",
      "an integer is required (got type float).  Implicit conversion to integers using __int__ is deprecated, and may be removed in a future version of Python.\n",
      "\n"
     ]
    }
   ],
   "source": [
    "device = torch.device('cuda' if torch.cuda.is_available() else 'cpu')\n",
    "torch.cuda.empty_cache()\n",
    "\n",
    "user_ids = torch.tensor(dataset.inter_feat[dataset.uid_field] ,dtype=torch.int32).to(device)\n",
    "item_ids = torch.tensor(dataset.inter_feat[dataset.iid_field], dtype=torch.int32).to(device)\n",
    "category_ids=torch.tensor(dataset.item_feat[\"venue_category_id\"],dtype=torch.int32).to(device)\n",
    "categories=category_ids[item_ids]#broadcast\n",
    "\n",
    "num_users = user_ids.max()+1  #start from 1 padding row 0 with 0\n",
    "num_items = item_ids.max()+1  #start from 1 padding column 0 with 0\n",
    "num_category_ids=category_ids.max()+1 #start from 1 padding column 0 with 0\n",
    "\n",
    "POI_unique_indices = user_ids * num_items + item_ids\n",
    "category_unique_indices=user_ids*num_category_ids+categories\n",
    "\n",
    "del user_ids,item_ids,categories\n",
    "torch.cuda.empty_cache()\n",
    "\n",
    "POI_counts = torch.bincount(POI_unique_indices, minlength=num_users * num_items)\n",
    "category_counts=torch.bincount(category_unique_indices, minlength=num_users * num_category_ids)\n",
    "category_ids_counts=torch.bincount(category_ids).to(dtype=torch.float64)\n",
    "category_ids_counts[0]=0#category0 for padding\n",
    "\n",
    "POI_interaction_matrix = POI_counts.view(num_users, num_items).clone()\n",
    "category_interaction_matrix=category_counts.view(num_users,num_category_ids).clone()\n",
    "\n",
    "reciprocal=1/category_ids_counts\n",
    "reciprocal[0]=0#modify inf\n",
    "reciprocalrarity=reciprocal/reciprocal.sum()\n",
    "\n",
    "#zoom control hyperparameters\n",
    "e1=torch.tensor(0.5,dtype=torch.float64).to(device) #derivative for start point\n",
    "e2=torch.tensor(1,dtype=torch.float64).to(device)  #second derivative for boost point\n",
    "boost=torch.tensor(3,dtype=torch.float64).to(device)\n",
    "a=torch.exp(boost).to(device)\n",
    "p1=torch.log(e1/torch.log(a)/torch.log(a))/torch.log(a)\n",
    "p2=torch.log(e2/torch.log(a)/torch.log(a))/torch.log(a)\n",
    "\n",
    "#p1-p2 goes slow after p2 it boost!\n",
    "#compress mins-max into d1-d2 while put mins after e2 which arouse mutaion to distinguish them\n",
    "dim=0#set dim=1 when caculating user-based category proportion\n",
    "\n",
    "quant=torch.tensor(0.9,dtype=torch.float64).to(device)\n",
    "quantile=torch.quantile(category_ids_counts,quant,dim=dim)\n",
    "\n",
    "C=(category_ids_counts.max(dim=dim).values-category_ids_counts)*(p2-p1)/(category_ids_counts.max(dim=dim).values-quantile)+p1\n",
    "#start from p1 boost after p2\n",
    "\n",
    "\n",
    "exp=torch.exp(torch.log(a)*C)\n",
    "exp[0]=0\n",
    "exprarity=exp/exp.sum(dim=dim)\n",
    "\n"
   ]
  },
  {
   "cell_type": "markdown",
   "metadata": {},
   "source": [
    "#### 现象1：活跃用户和非活跃用户的交互分布特征相似 大多数访问的地点去的次数很少 只有少数地点去了很多次 这些地点反映用户兴趣"
   ]
  },
  {
   "cell_type": "code",
   "execution_count": 9,
   "metadata": {},
   "outputs": [
    {
     "name": "stdout",
     "output_type": "stream",
     "text": [
      "111 111\n"
     ]
    },
    {
     "data": {
      "application/vnd.plotly.v1+json": {
       "config": {
        "plotlyServerURL": "https://plot.ly"
       },
       "data": [
        {
         "alignmentgroup": "True",
         "bingroup": "x",
         "hovertemplate": "User Type=Active User<br>Number of Interactions=%{x}<br>count=%{y}<extra></extra>",
         "legendgroup": "Active User",
         "marker": {
          "color": "#636efa",
          "pattern": {
           "shape": ""
          }
         },
         "name": "Active User",
         "nbinsx": 100,
         "offsetgroup": "Active User",
         "orientation": "v",
         "showlegend": true,
         "type": "histogram",
         "x": [
          1,
          7,
          4,
          5,
          6,
          1,
          1,
          2,
          2,
          1,
          1,
          1,
          1,
          5,
          5,
          1,
          3,
          1,
          8,
          1,
          1,
          1,
          3,
          28,
          1,
          1,
          1,
          1,
          1,
          1,
          1,
          4,
          1,
          1,
          3,
          1,
          1,
          1,
          1,
          1
         ],
         "xaxis": "x",
         "yaxis": "y"
        },
        {
         "alignmentgroup": "True",
         "bingroup": "x",
         "hovertemplate": "User Type=Inactive User<br>Number of Interactions=%{x}<br>count=%{y}<extra></extra>",
         "legendgroup": "Inactive User",
         "marker": {
          "color": "#EF553B",
          "pattern": {
           "shape": ""
          }
         },
         "name": "Inactive User",
         "nbinsx": 100,
         "offsetgroup": "Inactive User",
         "orientation": "v",
         "showlegend": true,
         "type": "histogram",
         "x": [
          3,
          5,
          1,
          1,
          1,
          1,
          1,
          1,
          1,
          2,
          1,
          2,
          1,
          26,
          1,
          4,
          8,
          3,
          1,
          1,
          1,
          3,
          1,
          1,
          1,
          1,
          1,
          1,
          1,
          1,
          1,
          1,
          1,
          1,
          1,
          1,
          2,
          1,
          2,
          2,
          1,
          1,
          1,
          1,
          1,
          1,
          1,
          1,
          1,
          1,
          1,
          1,
          1,
          2,
          1,
          1,
          1,
          1,
          1,
          1
         ],
         "xaxis": "x",
         "yaxis": "y"
        }
       ],
       "layout": {
        "barmode": "relative",
        "legend": {
         "title": {
          "text": "User Type"
         },
         "tracegroupgap": 0
        },
        "template": {
         "data": {
          "bar": [
           {
            "error_x": {
             "color": "#2a3f5f"
            },
            "error_y": {
             "color": "#2a3f5f"
            },
            "marker": {
             "line": {
              "color": "#E5ECF6",
              "width": 0.5
             },
             "pattern": {
              "fillmode": "overlay",
              "size": 10,
              "solidity": 0.2
             }
            },
            "type": "bar"
           }
          ],
          "barpolar": [
           {
            "marker": {
             "line": {
              "color": "#E5ECF6",
              "width": 0.5
             },
             "pattern": {
              "fillmode": "overlay",
              "size": 10,
              "solidity": 0.2
             }
            },
            "type": "barpolar"
           }
          ],
          "carpet": [
           {
            "aaxis": {
             "endlinecolor": "#2a3f5f",
             "gridcolor": "white",
             "linecolor": "white",
             "minorgridcolor": "white",
             "startlinecolor": "#2a3f5f"
            },
            "baxis": {
             "endlinecolor": "#2a3f5f",
             "gridcolor": "white",
             "linecolor": "white",
             "minorgridcolor": "white",
             "startlinecolor": "#2a3f5f"
            },
            "type": "carpet"
           }
          ],
          "choropleth": [
           {
            "colorbar": {
             "outlinewidth": 0,
             "ticks": ""
            },
            "type": "choropleth"
           }
          ],
          "contour": [
           {
            "colorbar": {
             "outlinewidth": 0,
             "ticks": ""
            },
            "colorscale": [
             [
              0,
              "#0d0887"
             ],
             [
              0.1111111111111111,
              "#46039f"
             ],
             [
              0.2222222222222222,
              "#7201a8"
             ],
             [
              0.3333333333333333,
              "#9c179e"
             ],
             [
              0.4444444444444444,
              "#bd3786"
             ],
             [
              0.5555555555555556,
              "#d8576b"
             ],
             [
              0.6666666666666666,
              "#ed7953"
             ],
             [
              0.7777777777777778,
              "#fb9f3a"
             ],
             [
              0.8888888888888888,
              "#fdca26"
             ],
             [
              1,
              "#f0f921"
             ]
            ],
            "type": "contour"
           }
          ],
          "contourcarpet": [
           {
            "colorbar": {
             "outlinewidth": 0,
             "ticks": ""
            },
            "type": "contourcarpet"
           }
          ],
          "heatmap": [
           {
            "colorbar": {
             "outlinewidth": 0,
             "ticks": ""
            },
            "colorscale": [
             [
              0,
              "#0d0887"
             ],
             [
              0.1111111111111111,
              "#46039f"
             ],
             [
              0.2222222222222222,
              "#7201a8"
             ],
             [
              0.3333333333333333,
              "#9c179e"
             ],
             [
              0.4444444444444444,
              "#bd3786"
             ],
             [
              0.5555555555555556,
              "#d8576b"
             ],
             [
              0.6666666666666666,
              "#ed7953"
             ],
             [
              0.7777777777777778,
              "#fb9f3a"
             ],
             [
              0.8888888888888888,
              "#fdca26"
             ],
             [
              1,
              "#f0f921"
             ]
            ],
            "type": "heatmap"
           }
          ],
          "heatmapgl": [
           {
            "colorbar": {
             "outlinewidth": 0,
             "ticks": ""
            },
            "colorscale": [
             [
              0,
              "#0d0887"
             ],
             [
              0.1111111111111111,
              "#46039f"
             ],
             [
              0.2222222222222222,
              "#7201a8"
             ],
             [
              0.3333333333333333,
              "#9c179e"
             ],
             [
              0.4444444444444444,
              "#bd3786"
             ],
             [
              0.5555555555555556,
              "#d8576b"
             ],
             [
              0.6666666666666666,
              "#ed7953"
             ],
             [
              0.7777777777777778,
              "#fb9f3a"
             ],
             [
              0.8888888888888888,
              "#fdca26"
             ],
             [
              1,
              "#f0f921"
             ]
            ],
            "type": "heatmapgl"
           }
          ],
          "histogram": [
           {
            "marker": {
             "pattern": {
              "fillmode": "overlay",
              "size": 10,
              "solidity": 0.2
             }
            },
            "type": "histogram"
           }
          ],
          "histogram2d": [
           {
            "colorbar": {
             "outlinewidth": 0,
             "ticks": ""
            },
            "colorscale": [
             [
              0,
              "#0d0887"
             ],
             [
              0.1111111111111111,
              "#46039f"
             ],
             [
              0.2222222222222222,
              "#7201a8"
             ],
             [
              0.3333333333333333,
              "#9c179e"
             ],
             [
              0.4444444444444444,
              "#bd3786"
             ],
             [
              0.5555555555555556,
              "#d8576b"
             ],
             [
              0.6666666666666666,
              "#ed7953"
             ],
             [
              0.7777777777777778,
              "#fb9f3a"
             ],
             [
              0.8888888888888888,
              "#fdca26"
             ],
             [
              1,
              "#f0f921"
             ]
            ],
            "type": "histogram2d"
           }
          ],
          "histogram2dcontour": [
           {
            "colorbar": {
             "outlinewidth": 0,
             "ticks": ""
            },
            "colorscale": [
             [
              0,
              "#0d0887"
             ],
             [
              0.1111111111111111,
              "#46039f"
             ],
             [
              0.2222222222222222,
              "#7201a8"
             ],
             [
              0.3333333333333333,
              "#9c179e"
             ],
             [
              0.4444444444444444,
              "#bd3786"
             ],
             [
              0.5555555555555556,
              "#d8576b"
             ],
             [
              0.6666666666666666,
              "#ed7953"
             ],
             [
              0.7777777777777778,
              "#fb9f3a"
             ],
             [
              0.8888888888888888,
              "#fdca26"
             ],
             [
              1,
              "#f0f921"
             ]
            ],
            "type": "histogram2dcontour"
           }
          ],
          "mesh3d": [
           {
            "colorbar": {
             "outlinewidth": 0,
             "ticks": ""
            },
            "type": "mesh3d"
           }
          ],
          "parcoords": [
           {
            "line": {
             "colorbar": {
              "outlinewidth": 0,
              "ticks": ""
             }
            },
            "type": "parcoords"
           }
          ],
          "pie": [
           {
            "automargin": true,
            "type": "pie"
           }
          ],
          "scatter": [
           {
            "fillpattern": {
             "fillmode": "overlay",
             "size": 10,
             "solidity": 0.2
            },
            "type": "scatter"
           }
          ],
          "scatter3d": [
           {
            "line": {
             "colorbar": {
              "outlinewidth": 0,
              "ticks": ""
             }
            },
            "marker": {
             "colorbar": {
              "outlinewidth": 0,
              "ticks": ""
             }
            },
            "type": "scatter3d"
           }
          ],
          "scattercarpet": [
           {
            "marker": {
             "colorbar": {
              "outlinewidth": 0,
              "ticks": ""
             }
            },
            "type": "scattercarpet"
           }
          ],
          "scattergeo": [
           {
            "marker": {
             "colorbar": {
              "outlinewidth": 0,
              "ticks": ""
             }
            },
            "type": "scattergeo"
           }
          ],
          "scattergl": [
           {
            "marker": {
             "colorbar": {
              "outlinewidth": 0,
              "ticks": ""
             }
            },
            "type": "scattergl"
           }
          ],
          "scattermapbox": [
           {
            "marker": {
             "colorbar": {
              "outlinewidth": 0,
              "ticks": ""
             }
            },
            "type": "scattermapbox"
           }
          ],
          "scatterpolar": [
           {
            "marker": {
             "colorbar": {
              "outlinewidth": 0,
              "ticks": ""
             }
            },
            "type": "scatterpolar"
           }
          ],
          "scatterpolargl": [
           {
            "marker": {
             "colorbar": {
              "outlinewidth": 0,
              "ticks": ""
             }
            },
            "type": "scatterpolargl"
           }
          ],
          "scatterternary": [
           {
            "marker": {
             "colorbar": {
              "outlinewidth": 0,
              "ticks": ""
             }
            },
            "type": "scatterternary"
           }
          ],
          "surface": [
           {
            "colorbar": {
             "outlinewidth": 0,
             "ticks": ""
            },
            "colorscale": [
             [
              0,
              "#0d0887"
             ],
             [
              0.1111111111111111,
              "#46039f"
             ],
             [
              0.2222222222222222,
              "#7201a8"
             ],
             [
              0.3333333333333333,
              "#9c179e"
             ],
             [
              0.4444444444444444,
              "#bd3786"
             ],
             [
              0.5555555555555556,
              "#d8576b"
             ],
             [
              0.6666666666666666,
              "#ed7953"
             ],
             [
              0.7777777777777778,
              "#fb9f3a"
             ],
             [
              0.8888888888888888,
              "#fdca26"
             ],
             [
              1,
              "#f0f921"
             ]
            ],
            "type": "surface"
           }
          ],
          "table": [
           {
            "cells": {
             "fill": {
              "color": "#EBF0F8"
             },
             "line": {
              "color": "white"
             }
            },
            "header": {
             "fill": {
              "color": "#C8D4E3"
             },
             "line": {
              "color": "white"
             }
            },
            "type": "table"
           }
          ]
         },
         "layout": {
          "annotationdefaults": {
           "arrowcolor": "#2a3f5f",
           "arrowhead": 0,
           "arrowwidth": 1
          },
          "autotypenumbers": "strict",
          "coloraxis": {
           "colorbar": {
            "outlinewidth": 0,
            "ticks": ""
           }
          },
          "colorscale": {
           "diverging": [
            [
             0,
             "#8e0152"
            ],
            [
             0.1,
             "#c51b7d"
            ],
            [
             0.2,
             "#de77ae"
            ],
            [
             0.3,
             "#f1b6da"
            ],
            [
             0.4,
             "#fde0ef"
            ],
            [
             0.5,
             "#f7f7f7"
            ],
            [
             0.6,
             "#e6f5d0"
            ],
            [
             0.7,
             "#b8e186"
            ],
            [
             0.8,
             "#7fbc41"
            ],
            [
             0.9,
             "#4d9221"
            ],
            [
             1,
             "#276419"
            ]
           ],
           "sequential": [
            [
             0,
             "#0d0887"
            ],
            [
             0.1111111111111111,
             "#46039f"
            ],
            [
             0.2222222222222222,
             "#7201a8"
            ],
            [
             0.3333333333333333,
             "#9c179e"
            ],
            [
             0.4444444444444444,
             "#bd3786"
            ],
            [
             0.5555555555555556,
             "#d8576b"
            ],
            [
             0.6666666666666666,
             "#ed7953"
            ],
            [
             0.7777777777777778,
             "#fb9f3a"
            ],
            [
             0.8888888888888888,
             "#fdca26"
            ],
            [
             1,
             "#f0f921"
            ]
           ],
           "sequentialminus": [
            [
             0,
             "#0d0887"
            ],
            [
             0.1111111111111111,
             "#46039f"
            ],
            [
             0.2222222222222222,
             "#7201a8"
            ],
            [
             0.3333333333333333,
             "#9c179e"
            ],
            [
             0.4444444444444444,
             "#bd3786"
            ],
            [
             0.5555555555555556,
             "#d8576b"
            ],
            [
             0.6666666666666666,
             "#ed7953"
            ],
            [
             0.7777777777777778,
             "#fb9f3a"
            ],
            [
             0.8888888888888888,
             "#fdca26"
            ],
            [
             1,
             "#f0f921"
            ]
           ]
          },
          "colorway": [
           "#636efa",
           "#EF553B",
           "#00cc96",
           "#ab63fa",
           "#FFA15A",
           "#19d3f3",
           "#FF6692",
           "#B6E880",
           "#FF97FF",
           "#FECB52"
          ],
          "font": {
           "color": "#2a3f5f"
          },
          "geo": {
           "bgcolor": "white",
           "lakecolor": "white",
           "landcolor": "#E5ECF6",
           "showlakes": true,
           "showland": true,
           "subunitcolor": "white"
          },
          "hoverlabel": {
           "align": "left"
          },
          "hovermode": "closest",
          "mapbox": {
           "style": "light"
          },
          "paper_bgcolor": "white",
          "plot_bgcolor": "#E5ECF6",
          "polar": {
           "angularaxis": {
            "gridcolor": "white",
            "linecolor": "white",
            "ticks": ""
           },
           "bgcolor": "#E5ECF6",
           "radialaxis": {
            "gridcolor": "white",
            "linecolor": "white",
            "ticks": ""
           }
          },
          "scene": {
           "xaxis": {
            "backgroundcolor": "#E5ECF6",
            "gridcolor": "white",
            "gridwidth": 2,
            "linecolor": "white",
            "showbackground": true,
            "ticks": "",
            "zerolinecolor": "white"
           },
           "yaxis": {
            "backgroundcolor": "#E5ECF6",
            "gridcolor": "white",
            "gridwidth": 2,
            "linecolor": "white",
            "showbackground": true,
            "ticks": "",
            "zerolinecolor": "white"
           },
           "zaxis": {
            "backgroundcolor": "#E5ECF6",
            "gridcolor": "white",
            "gridwidth": 2,
            "linecolor": "white",
            "showbackground": true,
            "ticks": "",
            "zerolinecolor": "white"
           }
          },
          "shapedefaults": {
           "line": {
            "color": "#2a3f5f"
           }
          },
          "ternary": {
           "aaxis": {
            "gridcolor": "white",
            "linecolor": "white",
            "ticks": ""
           },
           "baxis": {
            "gridcolor": "white",
            "linecolor": "white",
            "ticks": ""
           },
           "bgcolor": "#E5ECF6",
           "caxis": {
            "gridcolor": "white",
            "linecolor": "white",
            "ticks": ""
           }
          },
          "title": {
           "x": 0.05
          },
          "xaxis": {
           "automargin": true,
           "gridcolor": "white",
           "linecolor": "white",
           "ticks": "",
           "title": {
            "standoff": 15
           },
           "zerolinecolor": "white",
           "zerolinewidth": 2
          },
          "yaxis": {
           "automargin": true,
           "gridcolor": "white",
           "linecolor": "white",
           "ticks": "",
           "title": {
            "standoff": 15
           },
           "zerolinecolor": "white",
           "zerolinewidth": 2
          }
         }
        },
        "title": {
         "text": "Comparison of Interactions: Active vs. Inactive User"
        },
        "xaxis": {
         "anchor": "y",
         "domain": [
          0,
          1
         ],
         "title": {
          "text": "Number of Interactions"
         }
        },
        "yaxis": {
         "anchor": "x",
         "domain": [
          0,
          1
         ],
         "title": {
          "text": "count"
         }
        }
       }
      }
     },
     "metadata": {},
     "output_type": "display_data"
    }
   ],
   "source": [
    "import torch\n",
    "import plotly.express as px\n",
    "import numpy as np\n",
    "\n",
    "# 假设 interaction_matrix 是给定的张量\n",
    "# Step 1: Identify the most active user (column with max interactions excluding the first row and column)\n",
    "active_user_idx = category_interaction_matrix[1:, 1:].sum(1).argmax()\n",
    "active_user = category_interaction_matrix[active_user_idx].cpu().numpy()\n",
    "\n",
    "# Step 2: Identify the least active user (column with min interactions excluding the first row and column)\n",
    "inactive_user_idx = POI_interaction_matrix[1:, 1:].sum(1).argmax()\n",
    "inactive_user = POI_interaction_matrix[inactive_user_idx].cpu().numpy()\n",
    "\n",
    "# Step 3: Filter out zeros\n",
    "active_user = active_user[active_user > 0]\n",
    "inactive_user = inactive_user[inactive_user > 0]\n",
    "\n",
    "# Step 4: Create DataFrames for Plotly\n",
    "active_df = pd.DataFrame({\"Interactions\": active_user, \"User Type\": \"Active User\"})\n",
    "inactive_df = pd.DataFrame({\"Interactions\": inactive_user, \"User Type\": \"Inactive User\"})\n",
    "\n",
    "# Combine both for easier plotting\n",
    "combined_df = pd.concat([active_df, inactive_df])\n",
    "\n",
    "print(active_user.sum(),inactive_user.sum())\n",
    "# Step 5: Plot histograms using Plotly\n",
    "fig = px.histogram(\n",
    "    combined_df,\n",
    "    x=\"Interactions\",\n",
    "    color=\"User Type\",\n",
    "    title=\"Comparison of Interactions: Active vs. Inactive User\",\n",
    "    labels={\"Interactions\": \"Number of Interactions\", \"User Type\": \"User Type\"},\n",
    "    nbins=100,  # Adjust the number of bins as needed\n",
    ")\n",
    "\n",
    "fig.show()\n"
   ]
  },
  {
   "cell_type": "markdown",
   "metadata": {},
   "source": [
    "问题：如何区分大量的少交互地点进行兴趣度量 实际上访问次数极多的地点不具有参考价值 它们可能是日常所需，不能很好地反映兴趣\n",
    "方案：把地点访问次数转化成类目访问次数 \n",
    "首先把userid-itemid交互序列转化成userid-categoryid交互序列进行归并 这样地分布更加平滑，访问总次数是一样的，只不过把大量只访问一次的地点归并成访问多次的类目。 \n",
    "这样我们就可以区分访问次数极少的地点 \n",
    "\n",
    "基于类目的兴趣度量：\n",
    "假设：偶尔访问类目和频繁访问类目不能反映兴趣\n",
    "定义用户兴趣类目：排除极端访问次数类目后的类目\n",
    "\n",
    "问题：用户对访问次数相同的类目兴趣度一致吗？应该怎么区分？\n",
    "方案：基于类目稀有度的加权，同样的访问次数，用户很可能对更稀有的类目感兴趣，引入类目稀有度矩阵\n",
    "\n",
    "后续模型修改：\n",
    "引入兴趣广度概念：不同用户以同样次数访问同个地点，反映的兴趣度是不同的，应该依赖用户访问总类目数量进行加权度量，得到更合理的用户-地点相似度"
   ]
  },
  {
   "cell_type": "markdown",
   "metadata": {},
   "source": [
    "问题：如何把类目数量权重映射到稀有度上？\n",
    "直接映射：倒数加权，这样的得到的稀有度是突变的 我希望稀有度"
   ]
  },
  {
   "cell_type": "code",
   "execution_count": 133,
   "metadata": {},
   "outputs": [
    {
     "data": {
      "application/vnd.plotly.v1+json": {
       "config": {
        "plotlyServerURL": "https://plot.ly"
       },
       "data": [
        {
         "histnorm": "probability",
         "marker": {
          "color": "skyblue"
         },
         "name": "Reciprocal Rarity",
         "nbinsx": 1000,
         "opacity": 0.7,
         "showlegend": true,
         "type": "histogram",
         "x": [
          0.0003439762166278866,
          0.0002790029312648414,
          0.000019803047171794733,
          0.0001630536611288034,
          0.00010730881971724669,
          0.0000370904930780439,
          0.00002947214062656775,
          0.00004011224251411457,
          0.00003753402662755714,
          0.0005342609322092707,
          0.00010333441898697829,
          0.0017935902724168372,
          0.00007363713728397573,
          0.00010166098710054948,
          0.00014106889783053775,
          0.000041299776009598227,
          0.00017559625044640366,
          0.00019928780804631525,
          0.0003439762166278866,
          0.000025492653618107333,
          0.0003303982080767858,
          0.00003671091200853176,
          0.00006768265178931463,
          0.00023467536274612822,
          0.00005978634241389458,
          0.0005978634241389458,
          0.00005012028705356431,
          0.0000680494954304491,
          0.00008599405415697165,
          0.00023914536965557832,
          0.000029822166049686134,
          0.0004255976917599275,
          0.00006139428805338807,
          0.0000680494954304491,
          0.00008936036944425523,
          0.00006994502455107444,
          0.0001719881083139433,
          0.000058806238439896305,
          0.0001136211032300259,
          0.0007846957441823663,
          0.0031387829767294652,
          0.00013721455635975805,
          0.00013646882507519414,
          0.0005978634241389458,
          0.00029197981178878744,
          0.00003571872519749036,
          0.0003487536640810517,
          0.00032192645915174,
          0.00007822512091537608,
          0.001046260992243155,
          0.00039234787209118315,
          0.000048757793813273247,
          0.00036391686686718436,
          0.00014946585603473644,
          0.00005530895113179675,
          0.00209252198448631,
          0.0022827512558032475,
          0.00009808696802279579,
          0.00003827784117962763,
          0.00004150456828733177,
          0.00064385291830348,
          0.00038631175098208806,
          0.00023914536965557832,
          0.0004405309441023811,
          0.00007363713728397573,
          0.00019928780804631525,
          0.000042415986172019805,
          0.000418504396897262,
          0.0025110263813835723,
          0.00007921218868717893,
          0.0003985756160926305,
          0.0005022052762767144,
          0.0011413756279016237,
          0.00010084443298729204,
          0.00008179239027308053,
          0.0003804585426338746,
          0.00017808697740309023,
          0.000270002836707911,
          0.00016852526049554177,
          0.00013796848249360288,
          0.0011957268482778915,
          0.00014684364803412703,
          0.00014431186099905587,
          0.00012130562228906146,
          0.0002437889690663662,
          0.001046260992243155,
          0.00005826047288592975,
          0.0017935902724168372,
          0.0005022052762767144,
          0.0006975073281621034,
          0.000027383057594150188,
          0.00022419878405210465,
          0.0035871805448336744,
          0.00019771861270736788,
          0.00031785144068146486,
          0.00019315587549104403,
          0.00014106889783053775,
          0.00022827512558032474,
          0.000306222729437021,
          0.0025110263813835723,
          0.0001916814031590513,
          0.0003587180544833675,
          0.00028534390697540593,
          0.0019315587549104403,
          0.000064385291830348,
          0.00064385291830348,
          0.00025886869911170845,
          0.00014431186099905587,
          0.0007846957441823663,
          0.00009770530666862149,
          0.0009657793774552201,
          0.0004405309441023811,
          0.0001902292713169373,
          0.0005124543635476677,
          0.0022827512558032475,
          0.00012618223022028,
          0.0007609170852677492,
          0.0002437889690663662,
          0.00008688672599943157,
          0.00023250244272070113,
          0.0013215928323071433,
          0.0005839596235775749,
          0.000117888562506271,
          0.00005567685989764018,
          0.0002790029312648414,
          0.0003747800569229212,
          0.00023688928126260116,
          0.0001136211032300259,
          0.00028862372199811175,
          0.0005458753003007766,
          0.0005124543635476677,
          0.0010044105525534289,
          0.0031387829767294652,
          0.00022026547205119054,
          0.0005124543635476677,
          0.00009584070157952565,
          0.001046260992243155,
          0.0010917506006015531,
          0.00041164366907927414,
          0.0031387829767294652,
          0.00019465320785919165,
          0.0008967951362084186,
          0.00019465320785919165,
          0.0001902292713169373,
          0.0001768328437594065,
          0.0006277565953458931,
          0.0003487536640810517,
          0.0005580058625296827,
          0.00012014480293701301,
          0.0002511026381383572,
          0.00043293558299716765,
          0.0005706878139508119,
          0.0005342609322092707,
          0.0001873900284614606,
          0.00031000325696093484,
          0.0005839596235775749,
          0.0007846957441823663,
          0.000353665687518813,
          0.0004405309441023811,
          0.00012618223022028,
          0.001674017587589048,
          0.00040500425506186647,
          0.00031785144068146486,
          0.0006277565953458931,
          0.0019315587549104403,
          0.00013356523305231766,
          0.0001620017020247466,
          0.0001806493799556527,
          0.0005124543635476677,
          0.00015500162848046742,
          0.0006607964161535716,
          0.00064385291830348,
          0.0005124543635476677,
          0.0008100085101237329,
          0.00013215928323071432,
          0.00007946286017036622,
          0.000612445458874042,
          0.00014684364803412703,
          0.0003303982080767858,
          0.001046260992243155,
          0.0035871805448336744,
          0.0013215928323071433,
          0.00009732660392959582,
          0.00023914536965557832,
          0.0006607964161535716,
          0.00016096322957587,
          0.0004923581139967788,
          0.0005231304961215775,
          0.0005580058625296827,
          0.00023250244272070113,
          0.000612445458874042,
          0.00028862372199811175,
          0.0008658711659943353,
          0.0009657793774552201,
          0.0019315587549104403,
          0.000353665687518813,
          0.00014186589725330917,
          0.00006750070917697775,
          0.0005978634241389458,
          0.00045655025116064947,
          0.0017935902724168372,
          0.0002954148683980673,
          0.0003747800569229212,
          0.0004483975681042093,
          0.0017935902724168372,
          0.0005706878139508119,
          0.0005022052762767144,
          0.00209252198448631,
          0.025110263813835722,
          0.0003804585426338746,
          0.0004405309441023811,
          0.0031387829767294652,
          0.0003439762166278866,
          0.0017935902724168372,
          0.0005124543635476677,
          0.0015693914883647326,
          0.0005580058625296827,
          0.00019617393604559158,
          0.0010044105525534289,
          0.0008658711659943353,
          0.00033932788937615844,
          0.0027900293126484135,
          0.000353665687518813,
          0.0006607964161535716,
          0.0022827512558032475,
          0.0005458753003007766,
          0.0009657793774552201,
          0.00020250212753093324,
          0.0006786557787523169,
          0.00837008793794524,
          0.00038631175098208806,
          0.000418504396897262,
          0.0014770743419903365,
          0.0017935902724168372,
          0.0002486164734043141,
          0.0007609170852677492,
          0.0062775659534589304,
          0.0005231304961215775,
          0.0004737785625252023,
          0.0027900293126484135,
          0.001674017587589048,
          0.0005706878139508119,
          0.0022827512558032475,
          0.0007609170852677492,
          0.0012555131906917861,
          0.0025110263813835723,
          0.0010917506006015531,
          0.0022827512558032475,
          0.0003747800569229212,
          0.0007385371709951683,
          0.00209252198448631,
          0.0008658711659943353,
          0.0062775659534589304,
          0.0003804585426338746,
          0.012555131906917861,
          0.0008967951362084186,
          0.00017559625044640366,
          0.001674017587589048,
          0.0004483975681042093,
          0.0031387829767294652,
          0.0005342609322092707,
          0.0007385371709951683,
          0.000837008793794524,
          0.00048288968872761006,
          0.00048288968872761006,
          0.0008658711659943353,
          0.00022221472401624532,
          0.0050220527627671445,
          0.0017935902724168372,
          0.00418504396897262,
          0.0009300097708828045,
          0.00021279884587996375,
          0.012555131906917861,
          0.0010044105525534289,
          0.0013950146563242068,
          0.0019315587549104403,
          0.0006786557787523169,
          0.0007609170852677492,
          0.00032192645915174,
          0.00418504396897262,
          0.0031387829767294652,
          0.000717436108966735,
          0.001674017587589048,
          0.0008967951362084186,
          0.001674017587589048,
          0.0022827512558032475,
          0.00040500425506186647,
          0.0013950146563242068,
          0.0025110263813835723,
          0.0035871805448336744,
          0.0009300097708828045,
          0.0011957268482778915,
          0.001046260992243155,
          0.00046500488544140225,
          0.0011957268482778915,
          0.0035871805448336744,
          0.0025110263813835723,
          0.0050220527627671445,
          0.0025110263813835723,
          0.0009657793774552201,
          0.0012555131906917861,
          0.025110263813835722,
          0.0008658711659943353,
          0.0010917506006015531,
          0.0031387829767294652,
          0.0007846957441823663,
          0.0006607964161535716,
          0.00418504396897262,
          0.0013215928323071433,
          0.0017935902724168372,
          0.025110263813835722,
          0.0031387829767294652,
          0.0050220527627671445,
          0.0008967951362084186,
          0.000612445458874042,
          0.0017935902724168372,
          0.0035871805448336744,
          0.0035871805448336744,
          0.0013950146563242068,
          0.0014770743419903365,
          0.00209252198448631,
          0.0062775659534589304,
          0.00837008793794524,
          0.0027900293126484135,
          0.025110263813835722,
          0.0050220527627671445,
          0.0022827512558032475,
          0.0017935902724168372,
          0.0035871805448336744,
          0.00837008793794524,
          0.0008658711659943353,
          0.001674017587589048,
          0.0027900293126484135,
          0.0050220527627671445,
          0.0009657793774552201,
          0.0062775659534589304,
          0.0050220527627671445,
          0.001046260992243155,
          0.00837008793794524,
          0.0027900293126484135,
          0.0050220527627671445,
          0.0031387829767294652,
          0.0012555131906917861,
          0.00418504396897262,
          0.0035871805448336744,
          0.012555131906917861,
          0.00418504396897262,
          0.0027900293126484135,
          0.001046260992243155,
          0.0062775659534589304,
          0.0025110263813835723,
          0.0017935902724168372,
          0.00837008793794524,
          0.025110263813835722,
          0.0062775659534589304,
          0.0035871805448336744,
          0.0005580058625296827,
          0.00837008793794524,
          0.012555131906917861,
          0.0035871805448336744,
          0.0022827512558032475,
          0.00837008793794524,
          0.0050220527627671445,
          0.0062775659534589304,
          0.0025110263813835723,
          0.00837008793794524,
          0.0050220527627671445,
          0.0025110263813835723,
          0.0062775659534589304,
          0.00418504396897262,
          0.012555131906917861,
          0.00837008793794524,
          0.00837008793794524,
          0.0031387829767294652,
          0.0031387829767294652,
          0.0027900293126484135,
          0.012555131906917861,
          0.00837008793794524,
          0.0017935902724168372,
          0.0031387829767294652,
          0.00837008793794524,
          0.00837008793794524,
          0.012555131906917861,
          0.0050220527627671445,
          0.012555131906917861,
          0.0062775659534589304,
          0.0050220527627671445,
          0.025110263813835722,
          0.025110263813835722,
          0.025110263813835722,
          0.025110263813835722,
          0.0050220527627671445,
          0.025110263813835722,
          0.025110263813835722,
          0.012555131906917861,
          0.025110263813835722,
          0.025110263813835722,
          0.00837008793794524
         ]
        },
        {
         "histnorm": "probability",
         "marker": {
          "color": "lightgreen"
         },
         "name": "Exp Rarity",
         "nbinsx": 500,
         "opacity": 0.7,
         "showlegend": true,
         "type": "histogram",
         "x": [
          0.0025389406235039763,
          0.0025095434353312796,
          0.0011197395519413707,
          0.002401892044569839,
          0.0022737983251060363,
          0.0016786142531152943,
          0.0014889668692117594,
          0.0017382986347282776,
          0.0016878391665596088,
          0.0025845684907997474,
          0.002259822190046392,
          0.0026436635384902247,
          0.0021130870114177067,
          0.0022536381806120367,
          0.002362724154986304,
          0.0017598665468396958,
          0.0024200603464917883,
          0.002448409315628362,
          0.0025389406235039763,
          0.0013592989197233841,
          0.002533727975698323,
          0.0016705838225551542,
          0.0020701022742655216,
          0.002480486623244759,
          0.002001766229800124,
          0.002593436637039344,
          0.00189371359768546,
          0.0020729405209379743,
          0.002185223310762666,
          0.0024838875339108684,
          0.001499202256164938,
          0.00256340846539672,
          0.0020169079150071643,
          0.0020729405209379743,
          0.0022017526951563456,
          0.002087190232467121,
          0.002415091769386082,
          0.0019921898517393463,
          0.002294138814177755,
          0.002611264318814898,
          0.002654552365071553,
          0.002354644920263158,
          0.0023530323915380933,
          0.002593436637039344,
          0.002516429651767229,
          0.0016489800651823463,
          0.002540680554794918,
          0.0025302588240640675,
          0.0021422382325469837,
          0.0026256146600422458,
          0.0025546429992124703,
          0.0018756380215438576,
          0.0025459075061669036,
          0.0023789658837245057,
          0.001955679589320072,
          0.00264728817546323,
          0.002649102357130177,
          0.002239785961952173,
          0.0017029378996984087,
          0.0017634871267052587,
          0.002598772123691749,
          0.00255289350603706,
          0.0024838875339108684,
          0.0025669230673743583,
          0.0021130870114177067,
          0.002448409315628362,
          0.0017792625761955708,
          0.0025616529693773594,
          0.0026509177820524493,
          0.0021481165592254535,
          0.0025563936913123053,
          0.0025792621653396696,
          0.002629214550813175,
          0.0022505525247514717,
          0.0021628830423882687,
          0.002551145210965013,
          0.0024233784087493646,
          0.002504391142299977,
          0.002410133393165859,
          0.0023562585540511626,
          0.002631016346658737,
          0.0023740816768317886,
          0.00236920749760577,
          0.0023162474941782504,
          0.0024872931074496774,
          0.0026256146600422458,
          0.0019867382189106887,
          0.0026436635384902247,
          0.0025792621653396696,
          0.002604118587060303,
          0.0014241190044074975,
          0.0024720047047717434,
          0.0026563715248741405,
          0.0024467325743421525,
          0.0025285260298747855,
          0.002441709237023196,
          0.002362724154986304,
          0.002475393986168526,
          0.00252333476406134,
          0.0026509177820524493,
          0.0024400370841439747,
          0.002544163995308971,
          0.0025129841848020897,
          0.0026454752362001905,
          0.0020433319999061486,
          0.002598772123691749,
          0.002497537869277207,
          0.00236920749760577,
          0.002611264318814898,
          0.002238252091953106,
          0.0026220196982009686,
          0.0025669230673743583,
          0.0024383660764032557,
          0.0025810297289082973,
          0.002649102357130177,
          0.0023289765548363196,
          0.0026094760497274478,
          0.0024872931074496774,
          0.0021897189786500484,
          0.0024787879144935144,
          0.002634623643498078,
          0.00259166057686234,
          0.0023067463754151,
          0.0019597030160721173,
          0.0025095434353312796,
          0.002549398113175832,
          0.002482186496117953,
          0.002294138814177755,
          0.0025147063281938265,
          0.0025863396907833533,
          0.0025810297289082973,
          0.0026238165634274056,
          0.002654552365071553,
          0.0024686200639406444,
          0.0025810297289082973,
          0.002230598484153695,
          0.0026256146600422458,
          0.0026274139888893522,
          0.0025598986755722836,
          0.002654552365071553,
          0.002443382535825676,
          0.00261842965854071,
          0.002443382535825676,
          0.0024383660764032557,
          0.0024217188093498187,
          0.0025969924096196652,
          0.002540680554794918,
          0.0025881121045670157,
          0.0023130761143549867,
          0.002492410224631522,
          0.0025651651644542387,
          0.0025898857329825498,
          0.0025845684907997474,
          0.0024350274932009542,
          0.0025250640006858065,
          0.00259166057686234,
          0.002611264318814898,
          0.002542421678457539,
          0.0025669230673743583,
          0.0023289765548363196,
          0.002641853081483082,
          0.002558145583158181,
          0.0025285260298747855,
          0.0025969924096196652,
          0.0026454752362001905,
          0.002346593312139409,
          0.0024002471596519283,
          0.002426701020289014,
          0.0025810297289082973,
          0.002388764463072303,
          0.00260055305739858,
          0.002598772123691749,
          0.0025810297289082973,
          0.0026130538133998303,
          0.002343380383166046,
          0.002149588659511449,
          0.0025952139143470866,
          0.0023740816768317886,
          0.002533727975698323,
          0.0026256146600422458,
          0.0026563715248741405,
          0.002634623643498078,
          0.0022367192723924357,
          0.0024838875339108684,
          0.00260055305739858,
          0.002398603401198632,
          0.002577495812249531,
          0.002582798503784955,
          0.0025881121045670157,
          0.0024787879144935144,
          0.0025952139143470866,
          0.0025147063281938265,
          0.0026166364824220414,
          0.0026220196982009686,
          0.0026454752362001905,
          0.002542421678457539,
          0.0023643433254588496,
          0.0020686846085477086,
          0.002593436637039344,
          0.0025704424881029812,
          0.0026436635384902247,
          0.002518154156331074,
          0.002549398113175832,
          0.0025686821749820823,
          0.0026436635384902247,
          0.0025898857329825498,
          0.0025792621653396696,
          0.00264728817546323,
          0.002667312693615474,
          0.002551145210965013,
          0.0025669230673743583,
          0.002654552365071553,
          0.0025389406235039763,
          0.0026436635384902247,
          0.0025810297289082973,
          0.002640043864329093,
          0.0025881121045670157,
          0.0024450569813367165,
          0.0026238165634274056,
          0.0026166364824220414,
          0.0025372018837681435,
          0.0026527344510820466,
          0.002542421678457539,
          0.00260055305739858,
          0.002649102357130177,
          0.0025863396907833533,
          0.0026220196982009686,
          0.002451766246191298,
          0.0026023352115759684,
          0.0026636606392991162,
          0.00255289350603706,
          0.0025616529693773594,
          0.0026382358861791683,
          0.0026436635384902247,
          0.002490703350254294,
          0.0026094760497274478,
          0.002661836487700829,
          0.002582798503784955,
          0.00257396673418941,
          0.0026527344510820466,
          0.002641853081483082,
          0.0025898857329825498,
          0.002649102357130177,
          0.0026094760497274478,
          0.0026328193772716443,
          0.0026509177820524493,
          0.0026274139888893522,
          0.002649102357130177,
          0.002549398113175832,
          0.002607689005298224,
          0.00264728817546323,
          0.0026166364824220414,
          0.002661836487700829,
          0.002551145210965013,
          0.0026654860409851032,
          0.00261842965854071,
          0.0024200603464917883,
          0.002641853081483082,
          0.0025686821749820823,
          0.002654552365071553,
          0.0025845684907997474,
          0.002607689005298224,
          0.0026148445343220756,
          0.002575730668808912,
          0.002575730668808912,
          0.0026166364824220414,
          0.0024703118046828006,
          0.0026600135853341467,
          0.0026436635384902247,
          0.002658191931343558,
          0.002620224063519642,
          0.0024618646785689595,
          0.0026654860409851032,
          0.0026238165634274056,
          0.0026364291461848056,
          0.0026454752362001905,
          0.0026023352115759684,
          0.0026094760497274478,
          0.0025302588240640675,
          0.002658191931343558,
          0.002654552365071553,
          0.002605903184688545,
          0.002641853081483082,
          0.00261842965854071,
          0.002641853081483082,
          0.002649102357130177,
          0.002558145583158181,
          0.0026364291461848056,
          0.0026509177820524493,
          0.0026563715248741405,
          0.002620224063519642,
          0.002631016346658737,
          0.0026256146600422458,
          0.0025722040075631886,
          0.002631016346658737,
          0.0026563715248741405,
          0.0026509177820524493,
          0.0026600135853341467,
          0.0026509177820524493,
          0.0026220196982009686,
          0.0026328193772716443,
          0.002667312693615474,
          0.0026166364824220414,
          0.0026274139888893522,
          0.002654552365071553,
          0.002611264318814898,
          0.00260055305739858,
          0.002658191931343558,
          0.002634623643498078,
          0.0026436635384902247,
          0.002667312693615474,
          0.002654552365071553,
          0.0026600135853341467,
          0.00261842965854071,
          0.0025952139143470866,
          0.0026436635384902247,
          0.0026563715248741405,
          0.0026563715248741405,
          0.0026364291461848056,
          0.0026382358861791683,
          0.00264728817546323,
          0.002661836487700829,
          0.0026636606392991162,
          0.0026527344510820466,
          0.002667312693615474,
          0.0026600135853341467,
          0.002649102357130177,
          0.0026436635384902247,
          0.0026563715248741405,
          0.0026636606392991162,
          0.0026166364824220414,
          0.002641853081483082,
          0.0026527344510820466,
          0.0026600135853341467,
          0.0026220196982009686,
          0.002661836487700829,
          0.0026600135853341467,
          0.0026256146600422458,
          0.0026636606392991162,
          0.0026527344510820466,
          0.0026600135853341467,
          0.002654552365071553,
          0.0026328193772716443,
          0.002658191931343558,
          0.0026563715248741405,
          0.0026654860409851032,
          0.002658191931343558,
          0.0026527344510820466,
          0.0026256146600422458,
          0.002661836487700829,
          0.0026509177820524493,
          0.0026436635384902247,
          0.0026636606392991162,
          0.002667312693615474,
          0.002661836487700829,
          0.0026563715248741405,
          0.0025881121045670157,
          0.0026636606392991162,
          0.0026654860409851032,
          0.0026563715248741405,
          0.002649102357130177,
          0.0026636606392991162,
          0.0026600135853341467,
          0.002661836487700829,
          0.0026509177820524493,
          0.0026636606392991162,
          0.0026600135853341467,
          0.0026509177820524493,
          0.002661836487700829,
          0.002658191931343558,
          0.0026654860409851032,
          0.0026636606392991162,
          0.0026636606392991162,
          0.002654552365071553,
          0.002654552365071553,
          0.0026527344510820466,
          0.0026654860409851032,
          0.0026636606392991162,
          0.0026436635384902247,
          0.002654552365071553,
          0.0026636606392991162,
          0.0026636606392991162,
          0.0026654860409851032,
          0.0026600135853341467,
          0.0026654860409851032,
          0.002661836487700829,
          0.0026600135853341467,
          0.002667312693615474,
          0.002667312693615474,
          0.002667312693615474,
          0.002667312693615474,
          0.0026600135853341467,
          0.002667312693615474,
          0.002667312693615474,
          0.0026654860409851032,
          0.002667312693615474,
          0.002667312693615474,
          0.0026636606392991162
         ]
        }
       ],
       "layout": {
        "annotations": [
         {
          "align": "center",
          "bgcolor": "white",
          "font": {
           "color": "black",
           "size": 12
          },
          "opacity": 0.8,
          "showarrow": false,
          "text": "Reciprocal Rarity\nVar: 0.0000, Kurtosis: 12.6352",
          "x": 0.5,
          "xref": "paper",
          "y": 1.15,
          "yref": "paper"
         },
         {
          "align": "center",
          "bgcolor": "white",
          "font": {
           "color": "black",
           "size": 12
          },
          "opacity": 0.8,
          "showarrow": false,
          "text": "Exp Rarity\nVar: 0.0000, Kurtosis: 8.2721",
          "x": 0.5,
          "xref": "paper",
          "y": 1.05,
          "yref": "paper"
         }
        ],
        "barmode": "overlay",
        "showlegend": true,
        "template": {
         "data": {
          "bar": [
           {
            "error_x": {
             "color": "#2a3f5f"
            },
            "error_y": {
             "color": "#2a3f5f"
            },
            "marker": {
             "line": {
              "color": "#E5ECF6",
              "width": 0.5
             },
             "pattern": {
              "fillmode": "overlay",
              "size": 10,
              "solidity": 0.2
             }
            },
            "type": "bar"
           }
          ],
          "barpolar": [
           {
            "marker": {
             "line": {
              "color": "#E5ECF6",
              "width": 0.5
             },
             "pattern": {
              "fillmode": "overlay",
              "size": 10,
              "solidity": 0.2
             }
            },
            "type": "barpolar"
           }
          ],
          "carpet": [
           {
            "aaxis": {
             "endlinecolor": "#2a3f5f",
             "gridcolor": "white",
             "linecolor": "white",
             "minorgridcolor": "white",
             "startlinecolor": "#2a3f5f"
            },
            "baxis": {
             "endlinecolor": "#2a3f5f",
             "gridcolor": "white",
             "linecolor": "white",
             "minorgridcolor": "white",
             "startlinecolor": "#2a3f5f"
            },
            "type": "carpet"
           }
          ],
          "choropleth": [
           {
            "colorbar": {
             "outlinewidth": 0,
             "ticks": ""
            },
            "type": "choropleth"
           }
          ],
          "contour": [
           {
            "colorbar": {
             "outlinewidth": 0,
             "ticks": ""
            },
            "colorscale": [
             [
              0,
              "#0d0887"
             ],
             [
              0.1111111111111111,
              "#46039f"
             ],
             [
              0.2222222222222222,
              "#7201a8"
             ],
             [
              0.3333333333333333,
              "#9c179e"
             ],
             [
              0.4444444444444444,
              "#bd3786"
             ],
             [
              0.5555555555555556,
              "#d8576b"
             ],
             [
              0.6666666666666666,
              "#ed7953"
             ],
             [
              0.7777777777777778,
              "#fb9f3a"
             ],
             [
              0.8888888888888888,
              "#fdca26"
             ],
             [
              1,
              "#f0f921"
             ]
            ],
            "type": "contour"
           }
          ],
          "contourcarpet": [
           {
            "colorbar": {
             "outlinewidth": 0,
             "ticks": ""
            },
            "type": "contourcarpet"
           }
          ],
          "heatmap": [
           {
            "colorbar": {
             "outlinewidth": 0,
             "ticks": ""
            },
            "colorscale": [
             [
              0,
              "#0d0887"
             ],
             [
              0.1111111111111111,
              "#46039f"
             ],
             [
              0.2222222222222222,
              "#7201a8"
             ],
             [
              0.3333333333333333,
              "#9c179e"
             ],
             [
              0.4444444444444444,
              "#bd3786"
             ],
             [
              0.5555555555555556,
              "#d8576b"
             ],
             [
              0.6666666666666666,
              "#ed7953"
             ],
             [
              0.7777777777777778,
              "#fb9f3a"
             ],
             [
              0.8888888888888888,
              "#fdca26"
             ],
             [
              1,
              "#f0f921"
             ]
            ],
            "type": "heatmap"
           }
          ],
          "heatmapgl": [
           {
            "colorbar": {
             "outlinewidth": 0,
             "ticks": ""
            },
            "colorscale": [
             [
              0,
              "#0d0887"
             ],
             [
              0.1111111111111111,
              "#46039f"
             ],
             [
              0.2222222222222222,
              "#7201a8"
             ],
             [
              0.3333333333333333,
              "#9c179e"
             ],
             [
              0.4444444444444444,
              "#bd3786"
             ],
             [
              0.5555555555555556,
              "#d8576b"
             ],
             [
              0.6666666666666666,
              "#ed7953"
             ],
             [
              0.7777777777777778,
              "#fb9f3a"
             ],
             [
              0.8888888888888888,
              "#fdca26"
             ],
             [
              1,
              "#f0f921"
             ]
            ],
            "type": "heatmapgl"
           }
          ],
          "histogram": [
           {
            "marker": {
             "pattern": {
              "fillmode": "overlay",
              "size": 10,
              "solidity": 0.2
             }
            },
            "type": "histogram"
           }
          ],
          "histogram2d": [
           {
            "colorbar": {
             "outlinewidth": 0,
             "ticks": ""
            },
            "colorscale": [
             [
              0,
              "#0d0887"
             ],
             [
              0.1111111111111111,
              "#46039f"
             ],
             [
              0.2222222222222222,
              "#7201a8"
             ],
             [
              0.3333333333333333,
              "#9c179e"
             ],
             [
              0.4444444444444444,
              "#bd3786"
             ],
             [
              0.5555555555555556,
              "#d8576b"
             ],
             [
              0.6666666666666666,
              "#ed7953"
             ],
             [
              0.7777777777777778,
              "#fb9f3a"
             ],
             [
              0.8888888888888888,
              "#fdca26"
             ],
             [
              1,
              "#f0f921"
             ]
            ],
            "type": "histogram2d"
           }
          ],
          "histogram2dcontour": [
           {
            "colorbar": {
             "outlinewidth": 0,
             "ticks": ""
            },
            "colorscale": [
             [
              0,
              "#0d0887"
             ],
             [
              0.1111111111111111,
              "#46039f"
             ],
             [
              0.2222222222222222,
              "#7201a8"
             ],
             [
              0.3333333333333333,
              "#9c179e"
             ],
             [
              0.4444444444444444,
              "#bd3786"
             ],
             [
              0.5555555555555556,
              "#d8576b"
             ],
             [
              0.6666666666666666,
              "#ed7953"
             ],
             [
              0.7777777777777778,
              "#fb9f3a"
             ],
             [
              0.8888888888888888,
              "#fdca26"
             ],
             [
              1,
              "#f0f921"
             ]
            ],
            "type": "histogram2dcontour"
           }
          ],
          "mesh3d": [
           {
            "colorbar": {
             "outlinewidth": 0,
             "ticks": ""
            },
            "type": "mesh3d"
           }
          ],
          "parcoords": [
           {
            "line": {
             "colorbar": {
              "outlinewidth": 0,
              "ticks": ""
             }
            },
            "type": "parcoords"
           }
          ],
          "pie": [
           {
            "automargin": true,
            "type": "pie"
           }
          ],
          "scatter": [
           {
            "fillpattern": {
             "fillmode": "overlay",
             "size": 10,
             "solidity": 0.2
            },
            "type": "scatter"
           }
          ],
          "scatter3d": [
           {
            "line": {
             "colorbar": {
              "outlinewidth": 0,
              "ticks": ""
             }
            },
            "marker": {
             "colorbar": {
              "outlinewidth": 0,
              "ticks": ""
             }
            },
            "type": "scatter3d"
           }
          ],
          "scattercarpet": [
           {
            "marker": {
             "colorbar": {
              "outlinewidth": 0,
              "ticks": ""
             }
            },
            "type": "scattercarpet"
           }
          ],
          "scattergeo": [
           {
            "marker": {
             "colorbar": {
              "outlinewidth": 0,
              "ticks": ""
             }
            },
            "type": "scattergeo"
           }
          ],
          "scattergl": [
           {
            "marker": {
             "colorbar": {
              "outlinewidth": 0,
              "ticks": ""
             }
            },
            "type": "scattergl"
           }
          ],
          "scattermapbox": [
           {
            "marker": {
             "colorbar": {
              "outlinewidth": 0,
              "ticks": ""
             }
            },
            "type": "scattermapbox"
           }
          ],
          "scatterpolar": [
           {
            "marker": {
             "colorbar": {
              "outlinewidth": 0,
              "ticks": ""
             }
            },
            "type": "scatterpolar"
           }
          ],
          "scatterpolargl": [
           {
            "marker": {
             "colorbar": {
              "outlinewidth": 0,
              "ticks": ""
             }
            },
            "type": "scatterpolargl"
           }
          ],
          "scatterternary": [
           {
            "marker": {
             "colorbar": {
              "outlinewidth": 0,
              "ticks": ""
             }
            },
            "type": "scatterternary"
           }
          ],
          "surface": [
           {
            "colorbar": {
             "outlinewidth": 0,
             "ticks": ""
            },
            "colorscale": [
             [
              0,
              "#0d0887"
             ],
             [
              0.1111111111111111,
              "#46039f"
             ],
             [
              0.2222222222222222,
              "#7201a8"
             ],
             [
              0.3333333333333333,
              "#9c179e"
             ],
             [
              0.4444444444444444,
              "#bd3786"
             ],
             [
              0.5555555555555556,
              "#d8576b"
             ],
             [
              0.6666666666666666,
              "#ed7953"
             ],
             [
              0.7777777777777778,
              "#fb9f3a"
             ],
             [
              0.8888888888888888,
              "#fdca26"
             ],
             [
              1,
              "#f0f921"
             ]
            ],
            "type": "surface"
           }
          ],
          "table": [
           {
            "cells": {
             "fill": {
              "color": "#EBF0F8"
             },
             "line": {
              "color": "white"
             }
            },
            "header": {
             "fill": {
              "color": "#C8D4E3"
             },
             "line": {
              "color": "white"
             }
            },
            "type": "table"
           }
          ]
         },
         "layout": {
          "annotationdefaults": {
           "arrowcolor": "#2a3f5f",
           "arrowhead": 0,
           "arrowwidth": 1
          },
          "autotypenumbers": "strict",
          "coloraxis": {
           "colorbar": {
            "outlinewidth": 0,
            "ticks": ""
           }
          },
          "colorscale": {
           "diverging": [
            [
             0,
             "#8e0152"
            ],
            [
             0.1,
             "#c51b7d"
            ],
            [
             0.2,
             "#de77ae"
            ],
            [
             0.3,
             "#f1b6da"
            ],
            [
             0.4,
             "#fde0ef"
            ],
            [
             0.5,
             "#f7f7f7"
            ],
            [
             0.6,
             "#e6f5d0"
            ],
            [
             0.7,
             "#b8e186"
            ],
            [
             0.8,
             "#7fbc41"
            ],
            [
             0.9,
             "#4d9221"
            ],
            [
             1,
             "#276419"
            ]
           ],
           "sequential": [
            [
             0,
             "#0d0887"
            ],
            [
             0.1111111111111111,
             "#46039f"
            ],
            [
             0.2222222222222222,
             "#7201a8"
            ],
            [
             0.3333333333333333,
             "#9c179e"
            ],
            [
             0.4444444444444444,
             "#bd3786"
            ],
            [
             0.5555555555555556,
             "#d8576b"
            ],
            [
             0.6666666666666666,
             "#ed7953"
            ],
            [
             0.7777777777777778,
             "#fb9f3a"
            ],
            [
             0.8888888888888888,
             "#fdca26"
            ],
            [
             1,
             "#f0f921"
            ]
           ],
           "sequentialminus": [
            [
             0,
             "#0d0887"
            ],
            [
             0.1111111111111111,
             "#46039f"
            ],
            [
             0.2222222222222222,
             "#7201a8"
            ],
            [
             0.3333333333333333,
             "#9c179e"
            ],
            [
             0.4444444444444444,
             "#bd3786"
            ],
            [
             0.5555555555555556,
             "#d8576b"
            ],
            [
             0.6666666666666666,
             "#ed7953"
            ],
            [
             0.7777777777777778,
             "#fb9f3a"
            ],
            [
             0.8888888888888888,
             "#fdca26"
            ],
            [
             1,
             "#f0f921"
            ]
           ]
          },
          "colorway": [
           "#636efa",
           "#EF553B",
           "#00cc96",
           "#ab63fa",
           "#FFA15A",
           "#19d3f3",
           "#FF6692",
           "#B6E880",
           "#FF97FF",
           "#FECB52"
          ],
          "font": {
           "color": "#2a3f5f"
          },
          "geo": {
           "bgcolor": "white",
           "lakecolor": "white",
           "landcolor": "#E5ECF6",
           "showlakes": true,
           "showland": true,
           "subunitcolor": "white"
          },
          "hoverlabel": {
           "align": "left"
          },
          "hovermode": "closest",
          "mapbox": {
           "style": "light"
          },
          "paper_bgcolor": "white",
          "plot_bgcolor": "#E5ECF6",
          "polar": {
           "angularaxis": {
            "gridcolor": "white",
            "linecolor": "white",
            "ticks": ""
           },
           "bgcolor": "#E5ECF6",
           "radialaxis": {
            "gridcolor": "white",
            "linecolor": "white",
            "ticks": ""
           }
          },
          "scene": {
           "xaxis": {
            "backgroundcolor": "#E5ECF6",
            "gridcolor": "white",
            "gridwidth": 2,
            "linecolor": "white",
            "showbackground": true,
            "ticks": "",
            "zerolinecolor": "white"
           },
           "yaxis": {
            "backgroundcolor": "#E5ECF6",
            "gridcolor": "white",
            "gridwidth": 2,
            "linecolor": "white",
            "showbackground": true,
            "ticks": "",
            "zerolinecolor": "white"
           },
           "zaxis": {
            "backgroundcolor": "#E5ECF6",
            "gridcolor": "white",
            "gridwidth": 2,
            "linecolor": "white",
            "showbackground": true,
            "ticks": "",
            "zerolinecolor": "white"
           }
          },
          "shapedefaults": {
           "line": {
            "color": "#2a3f5f"
           }
          },
          "ternary": {
           "aaxis": {
            "gridcolor": "white",
            "linecolor": "white",
            "ticks": ""
           },
           "baxis": {
            "gridcolor": "white",
            "linecolor": "white",
            "ticks": ""
           },
           "bgcolor": "#E5ECF6",
           "caxis": {
            "gridcolor": "white",
            "linecolor": "white",
            "ticks": ""
           }
          },
          "title": {
           "x": 0.05
          },
          "xaxis": {
           "automargin": true,
           "gridcolor": "white",
           "linecolor": "white",
           "ticks": "",
           "title": {
            "standoff": 15
           },
           "zerolinecolor": "white",
           "zerolinewidth": 2
          },
          "yaxis": {
           "automargin": true,
           "gridcolor": "white",
           "linecolor": "white",
           "ticks": "",
           "title": {
            "standoff": 15
           },
           "zerolinecolor": "white",
           "zerolinewidth": 2
          }
         }
        },
        "title": {
         "font": {
          "size": 20
         },
         "text": "Histograms of Reciprocal and Log Rarity"
        },
        "xaxis": {
         "title": {
          "text": "Value"
         }
        },
        "yaxis": {
         "title": {
          "text": "Frequency"
         }
        }
       }
      }
     },
     "metadata": {},
     "output_type": "display_data"
    }
   ],
   "source": [
    "import plotly.graph_objects as go\n",
    "import torch\n",
    "def kurtosis(data):\n",
    "    # 计算均值和标准差\n",
    "    mean = data.mean()\n",
    "    std = data.std()\n",
    "\n",
    "    # 标准化数据\n",
    "    standardized_data = (data - mean) / std\n",
    "\n",
    "    # 计算峰度，去掉 3（标准正态分布的峰度为 3）\n",
    "    kurt = (standardized_data**4).mean() - 3\n",
    "    return kurt\n",
    "\n",
    "\n",
    "reciprocal_rarity=reciprocalrarity.cpu()\n",
    "exp_rarity=exprarity.cpu()\n",
    "\n",
    "# 创建图表对象\n",
    "fig = go.Figure()\n",
    "\n",
    "# Reciprocal Rarity Histogram\n",
    "fig.add_trace(go.Histogram(\n",
    "    x=reciprocal_rarity[1:],\n",
    "    nbinsx=1000,\n",
    "    name=\"Reciprocal Rarity\",\n",
    "    marker_color=\"skyblue\",\n",
    "    histnorm='probability',\n",
    "    opacity=0.7,\n",
    "    showlegend=True  # 不显示图例\n",
    "))\n",
    "\n",
    "# Log Rarity Histogram\n",
    "fig.add_trace(go.Histogram(\n",
    "    x=exp_rarity[1:],\n",
    "    nbinsx=500,\n",
    "    name=\"Exp Rarity\",\n",
    "    marker_color=\"lightgreen\",\n",
    "    opacity=0.7,\n",
    "    histnorm='probability',\n",
    "    showlegend=True  # 不显示图例\n",
    "))\n",
    "\n",
    "# 计算方差和峰度\n",
    "reciprocal_var = torch.var(reciprocal_rarity[1:])\n",
    "reciprocal_kurt = kurtosis(reciprocal_rarity[1:])\n",
    "exp_var = torch.var(exp_rarity[1:])\n",
    "exp_kurt = kurtosis(exp_rarity[1:])\n",
    "reciprocal_var_str = f\"{reciprocal_var:.4e}\"\n",
    "reciprocal_kurt_str = f\"{reciprocal_kurt:.4e}\"\n",
    "exp_var_str = f\"{exp_var:.4e}\"\n",
    "exp_kurt_str = f\"{exp_kurt:.4e}\"\n",
    "\n",
    "# 添加外部文本框显示方差和峰度\n",
    "fig.add_annotation(\n",
    "    x=0.5,  # x轴位置，控制文本框水平位置\n",
    "    y=1.15,  # y轴位置，调整文本框在图表的外部\n",
    "    text=f\"Reciprocal Rarity\\nVar: {reciprocal_var:.4f}, Kurtosis: {reciprocal_kurt:.4f}\",\n",
    "    showarrow=False,\n",
    "    font=dict(size=12, color=\"black\"),\n",
    "    align=\"center\",\n",
    "    bgcolor=\"white\",\n",
    "    opacity=0.8,\n",
    "    xref=\"paper\",  # 使用 'paper' 坐标系，让文本框不受图表范围限制\n",
    "    yref=\"paper\"   # 使用 'paper' 坐标系，使文本框在图表外\n",
    ")\n",
    "\n",
    "fig.add_annotation(\n",
    "    x=0.5,  # x轴位置，控制文本框水平位置\n",
    "    y=1.05,  # y轴位置，调整文本框在图表的外部\n",
    "    text=f\"Exp Rarity\\nVar: {exp_var:.4f}, Kurtosis: {exp_kurt:.4f}\",\n",
    "    showarrow=False,\n",
    "    font=dict(size=12, color=\"black\"),\n",
    "    align=\"center\",\n",
    "    bgcolor=\"white\",\n",
    "    opacity=0.8,\n",
    "    xref=\"paper\",  # 使用 'paper' 坐标系，放置在图表外\n",
    "    yref=\"paper\"   # 使用 'paper' 坐标系，放置在图表外\n",
    ")\n",
    "\n",
    "# 更新布局\n",
    "fig.update_layout(\n",
    "    title=\"Histograms of Reciprocal and Log Rarity\",\n",
    "    xaxis_title=\"Value\",\n",
    "    yaxis_title=\"Frequency\",\n",
    "    title_font_size=20,\n",
    "    barmode=\"overlay\",  # 使用 \"overlay\" 叠加直方图，\"group\" 可并排显示\n",
    "    showlegend=True    # 隐藏图例\n",
    ")\n",
    "\n",
    "# 显示图表\n",
    "fig.show()"
   ]
  },
  {
   "cell_type": "code",
   "execution_count": null,
   "metadata": {},
   "outputs": [
    {
     "name": "stdout",
     "output_type": "stream",
     "text": [
      "Venue Density Matrix Sparse:\n",
      "tensor(indices=tensor([[ 0,  0,  0,  ..., 96, 96, 97],\n",
      "                       [20, 24, 25,  ..., 45, 47, 41]]),\n",
      "       values=tensor([1, 5, 1,  ..., 4, 1, 2]),\n",
      "       device='cuda:0', size=(98, 69), nnz=3227, dtype=torch.int32,\n",
      "       layout=torch.sparse_coo)\n",
      "Category Density Matrix Sparse:\n",
      "tensor(indices=tensor([[ 0,  0,  0,  ..., 96, 97, 97],\n",
      "                       [20, 24, 24,  ..., 47, 41, 41],\n",
      "                       [27, 36, 63,  ..., 35, 15, 67]]),\n",
      "       values=tensor([1, 1, 1,  ..., 1, 1, 1]),\n",
      "       device='cuda:0', size=(98, 69, 399), nnz=25802, dtype=torch.int32,\n",
      "       layout=torch.sparse_coo)\n"
     ]
    }
   ],
   "source": [
    "import torch\n",
    "import numpy as np\n",
    "import pandas as pd\n",
    "\n",
    "\n",
    "# 2. 将数据转为 PyTorch Tensor 并移动到 GPU 上\n",
    "venue_id = torch.tensor(venue_id, dtype=torch.long).cuda()  \n",
    "venue_category = torch.tensor(venue_category, dtype=torch.long).cuda()\n",
    "x = torch.tensor(x, dtype=torch.float32).cuda()  \n",
    "y = torch.tensor(y, dtype=torch.float32).cuda()\n",
    "\n",
    "# 3. 设置网格的尺寸（例如：每个网格大小为500x500）\n",
    "grid_width = 500  # 网格宽度\n",
    "grid_height = 500  # 网格高度\n",
    "\n",
    "# 4. 计算网格的数量（基于坐标的最大最小值）\n",
    "x_min, x_max = x.min(), x.max()\n",
    "y_min, y_max = y.min(), y.max()\n",
    "\n",
    "# 计算网格行列数\n",
    "num_x_grids = int((x_max - x_min) // grid_width) + 1\n",
    "num_y_grids = int((y_max - y_min) // grid_height) + 1\n",
    "\n",
    "\n",
    "# 5. 分批次处理\n",
    "batch_size = 10000  # 每批处理的样本数量\n",
    "num_batches = len(venue_id) // batch_size + 1  # 批次数量\n",
    "\n",
    "# 创建稠密张量来暂存更新，最后将其转换为稀疏张量\n",
    "venue_density_matrix = torch.zeros((num_y_grids, num_x_grids), dtype=torch.int32).cuda()\n",
    "category_density_matrix = torch.zeros((num_y_grids, num_x_grids, len(torch.unique(venue_category))), dtype=torch.int32).cuda()\n",
    "\n",
    "for batch_idx in range(num_batches):\n",
    "    # 计算每个批次的索引范围\n",
    "    start_idx = batch_idx * batch_size\n",
    "    end_idx = min((batch_idx + 1) * batch_size, len(venue_id))\n",
    "    \n",
    "    # 获取当前批次数据\n",
    "    batch_venue_id = venue_id[start_idx:end_idx]\n",
    "    batch_venue_category = venue_category[start_idx:end_idx]\n",
    "    batch_x = x[start_idx:end_idx]\n",
    "    batch_y = y[start_idx:end_idx]\n",
    "\n",
    "    # 计算每个数据点所属的网格\n",
    "    grid_x = ((batch_x - x_min) / grid_width).floor().long()  # 计算 x 对应的网格位置\n",
    "    grid_y = ((batch_y - y_min) / grid_height).floor().long()  # 计算 y 对应的网格位置\n",
    "\n",
    "    # 确保网格索引不超出边界\n",
    "    grid_x = torch.clamp(grid_x, 0, num_x_grids - 1)\n",
    "    grid_y = torch.clamp(grid_y, 0, num_y_grids - 1)\n",
    "\n",
    "    # 使用 scatter_add_ 更新稠密张量的计数\n",
    "    venue_density_matrix.index_put_((grid_y, grid_x), torch.ones(len(grid_y), dtype=torch.int32).cuda(), accumulate=True)\n",
    "    \n",
    "    # 更新类别密度矩阵\n",
    "    for i in range(len(batch_venue_category)):\n",
    "        category_density_matrix[grid_y[i], grid_x[i], batch_venue_category[i]] += 1\n",
    "\n",
    "# 7. 将稠密张量转换为稀疏张量\n",
    "venue_density_matrix_sparse = venue_density_matrix.to_sparse()\n",
    "category_density_matrix_sparse = category_density_matrix.to_sparse()\n",
    "\n",
    "# 8. 打印结果\n",
    "print(\"Venue Density Matrix Sparse:\")\n",
    "print(venue_density_matrix_sparse)\n",
    "print(\"Category Density Matrix Sparse:\")\n",
    "print(category_density_matrix_sparse)\n"
   ]
  },
  {
   "cell_type": "code",
   "execution_count": 44,
   "metadata": {},
   "outputs": [
    {
     "name": "stdout",
     "output_type": "stream",
     "text": [
      "正在现有浏览器会话中打开。\n"
     ]
    }
   ],
   "source": [
    "import plotly.graph_objects as go\n",
    "import plotly.colors as pc\n",
    "import torch\n",
    "\n",
    "# 假设 venue_density_matrix_sparse 是一个 PyTorch tensor\n",
    "# 你可以根据你实际的场景替换这个变量\n",
    "venue_density_matrix_sparse = torch.rand(num_y_grids, num_x_grids)  # 模拟密度矩阵\n",
    "\n",
    "# 将 x_min 和 y_min 移回 CPU\n",
    "xmin = x_min.cpu().item()\n",
    "ymin = y_min.cpu().item()\n",
    "\n",
    "# 创建空的图形对象\n",
    "fig = go.Figure()\n",
    "\n",
    "# 定义颜色范围，这里选择一个颜色调色板，如蓝色渐变\n",
    "color_scale = 'Blues'  # 可以选择其他颜色范围，如 'Viridis', 'Cividis', 'Inferno'\n",
    "\n",
    "# 使用 PyTorch 的 max 和 min 函数\n",
    "max_density = torch.max(venue_density_matrix_sparse).item()  # 获取最大密度\n",
    "min_density = torch.min(venue_density_matrix_sparse).item()  # 获取最小密度\n",
    "normalized_density = (venue_density_matrix_sparse - min_density) / (max_density - min_density)  # 归一化\n",
    "\n",
    "# 添加网格图层：根据密度值使用颜色\n",
    "for i in range(num_y_grids):\n",
    "    for j in range(num_x_grids):\n",
    "        # 计算网格的边界\n",
    "        grid_x_min = xmin + j * grid_width\n",
    "        grid_x_max = grid_x_min + grid_width\n",
    "        grid_y_min = ymin + i * grid_height\n",
    "        grid_y_max = grid_y_min + grid_height\n",
    "        \n",
    "        # 根据网格的密度值计算颜色\n",
    "        density = normalized_density[i, j].item()  # 转换为 Python 数字\n",
    "        # 使用颜色渐变进行映射\n",
    "        fillcolor = pc.sequential.Blues[int(density * (len(pc.sequential.Blues) - 1))]\n",
    "\n",
    "        # 绘制矩形网格，设置透明度\n",
    "        fig.add_trace(go.Scatter(\n",
    "            x=[grid_x_min, grid_x_min, grid_x_max, grid_x_max, grid_x_min],\n",
    "            y=[grid_y_min, grid_y_max, grid_y_max, grid_y_min, grid_y_min],\n",
    "            fill='toself',\n",
    "            fillcolor=fillcolor,\n",
    "            line=dict(width=1, color='black'),  # 添加黑色网格线\n",
    "            mode='lines',\n",
    "            name='Grid',  # 给网格设置名字，用于筛选\n",
    "            visible=True  # 默认显示\n",
    "        ))\n",
    "\n",
    "# 创建一个调色板来表示 category_id 的颜色\n",
    "category_colors = pc.qualitative.Set1\n",
    "marker_colors = [category_colors[c % len(category_colors)] for c in venue_category.cpu().numpy()]\n",
    "\n",
    "# 添加数据点图层\n",
    "fig.add_trace(go.Scattergl(\n",
    "    x=x.cpu().numpy(),\n",
    "    y=y.cpu().numpy(),\n",
    "    mode='markers',\n",
    "    marker=dict(\n",
    "        size=5,\n",
    "        color=marker_colors,  # 使用 category_id 作为颜色\n",
    "        showscale=True  # 显示颜色条\n",
    "    ),\n",
    "    name='Data Points',  # 给数据点设置名字，用于筛选\n",
    "    visible=True  # 默认显示\n",
    "))\n",
    "\n",
    "# 设置布局\n",
    "fig.update_layout(\n",
    "    title=\"Venue Points with Density-based Coloring and Grid Lines\",\n",
    "    xaxis_title=\"Longitude\",\n",
    "    yaxis_title=\"Latitude\",\n",
    "    showlegend=True,\n",
    "    updatemenus=[\n",
    "        {\n",
    "            'buttons': [\n",
    "                {\n",
    "                    'args': [None, {'visible': [True, False]}],  # 隐藏数据点，只显示网格\n",
    "                    'label': 'Show Grid Only',\n",
    "                    'method': 'relayout'\n",
    "                },\n",
    "                {\n",
    "                    'args': [None, {'visible': [False, True]}],  # 隐藏网格，只显示数据点\n",
    "                    'label': 'Show Data Points Only',\n",
    "                    'method': 'relayout'\n",
    "                },\n",
    "                {\n",
    "                    'args': [None, {'visible': [True, True]}],  # 显示所有\n",
    "                    'label': 'Show Both',\n",
    "                    'method': 'relayout'\n",
    "                }\n",
    "            ],\n",
    "            'direction': 'down',\n",
    "            'showactive': True,\n",
    "            'x': 0.17,\n",
    "            'xanchor': 'left',\n",
    "            'y': 1.15,\n",
    "            'yanchor': 'top'\n",
    "        }\n",
    "    ]\n",
    ")\n",
    "\n",
    "# 在浏览器中显示\n",
    "fig.show(renderer=\"browser\")\n"
   ]
  },
  {
   "cell_type": "markdown",
   "metadata": {},
   "source": [
    "地点：偏远中心稀有丰富\n",
    "街区：偏远中心密集稀疏\n",
    "用500m*500m作为基本地理块进行聚合\n",
    "街区密度阈值 街区偏远度阈值\n",
    "中心和密集相关\n",
    "丰富地点一定是便利店之类的常用地点\n",
    "重点是稀有地点区分\n",
    "偏远但密集的是乡镇 偏远密集街区的丰富地点是便民设施 稀有地点大概率是学校 政府等大场地 小概率是景点\n",
    "偏远稀疏的是无人区 偏远稀疏街区的丰富地点可能就是便利店 但是稀有地点很可能是景点\n",
    "中心稀疏是城郊 景点的概率较大\n",
    "中心密集的是市中心 这是推荐的重点"
   ]
  },
  {
   "cell_type": "code",
   "execution_count": null,
   "metadata": {},
   "outputs": [
    {
     "name": "stdout",
     "output_type": "stream",
     "text": [
      "Epoch [1/100], Total Loss: 2.4291703084600158e-05, Category Loss: 2.4291703084600158e-05, Density Loss: 0.0\n",
      "Epoch [2/100], Total Loss: 2.4291703084600158e-05, Category Loss: 2.4291703084600158e-05, Density Loss: 0.0\n",
      "Epoch [3/100], Total Loss: 2.4291703084600158e-05, Category Loss: 2.4291703084600158e-05, Density Loss: 0.0\n",
      "Epoch [4/100], Total Loss: 2.4291703084600158e-05, Category Loss: 2.4291703084600158e-05, Density Loss: 0.0\n",
      "Epoch [5/100], Total Loss: 2.4291703084600158e-05, Category Loss: 2.4291703084600158e-05, Density Loss: 0.0\n",
      "Epoch [6/100], Total Loss: 2.4291703084600158e-05, Category Loss: 2.4291703084600158e-05, Density Loss: 0.0\n",
      "Epoch [7/100], Total Loss: 2.4291703084600158e-05, Category Loss: 2.4291703084600158e-05, Density Loss: 0.0\n",
      "Epoch [8/100], Total Loss: 2.4291703084600158e-05, Category Loss: 2.4291703084600158e-05, Density Loss: 0.0\n",
      "Epoch [9/100], Total Loss: 2.4291703084600158e-05, Category Loss: 2.4291703084600158e-05, Density Loss: 0.0\n",
      "Epoch [10/100], Total Loss: 2.4291703084600158e-05, Category Loss: 2.4291703084600158e-05, Density Loss: 0.0\n",
      "Epoch [11/100], Total Loss: 2.4291703084600158e-05, Category Loss: 2.4291703084600158e-05, Density Loss: 0.0\n",
      "Epoch [12/100], Total Loss: 2.4291703084600158e-05, Category Loss: 2.4291703084600158e-05, Density Loss: 0.0\n",
      "Epoch [13/100], Total Loss: 2.4291703084600158e-05, Category Loss: 2.4291703084600158e-05, Density Loss: 0.0\n",
      "Epoch [14/100], Total Loss: 2.4291703084600158e-05, Category Loss: 2.4291703084600158e-05, Density Loss: 0.0\n",
      "Epoch [15/100], Total Loss: 2.4291703084600158e-05, Category Loss: 2.4291703084600158e-05, Density Loss: 0.0\n",
      "Epoch [16/100], Total Loss: 2.4291703084600158e-05, Category Loss: 2.4291703084600158e-05, Density Loss: 0.0\n",
      "Epoch [17/100], Total Loss: 2.4291703084600158e-05, Category Loss: 2.4291703084600158e-05, Density Loss: 0.0\n",
      "Epoch [18/100], Total Loss: 2.4291703084600158e-05, Category Loss: 2.4291703084600158e-05, Density Loss: 0.0\n",
      "Epoch [19/100], Total Loss: 2.4291703084600158e-05, Category Loss: 2.4291703084600158e-05, Density Loss: 0.0\n",
      "Epoch [20/100], Total Loss: 2.4291703084600158e-05, Category Loss: 2.4291703084600158e-05, Density Loss: 0.0\n",
      "Epoch [21/100], Total Loss: 2.4291703084600158e-05, Category Loss: 2.4291703084600158e-05, Density Loss: 0.0\n",
      "Epoch [22/100], Total Loss: 2.4291703084600158e-05, Category Loss: 2.4291703084600158e-05, Density Loss: 0.0\n",
      "Epoch [23/100], Total Loss: 2.4291703084600158e-05, Category Loss: 2.4291703084600158e-05, Density Loss: 0.0\n",
      "Epoch [24/100], Total Loss: 2.4291703084600158e-05, Category Loss: 2.4291703084600158e-05, Density Loss: 0.0\n",
      "Epoch [25/100], Total Loss: 2.4291703084600158e-05, Category Loss: 2.4291703084600158e-05, Density Loss: 0.0\n",
      "Epoch [26/100], Total Loss: 2.4291703084600158e-05, Category Loss: 2.4291703084600158e-05, Density Loss: 0.0\n",
      "Epoch [27/100], Total Loss: 2.4291703084600158e-05, Category Loss: 2.4291703084600158e-05, Density Loss: 0.0\n",
      "Epoch [28/100], Total Loss: 2.4291703084600158e-05, Category Loss: 2.4291703084600158e-05, Density Loss: 0.0\n",
      "Epoch [29/100], Total Loss: 2.4291703084600158e-05, Category Loss: 2.4291703084600158e-05, Density Loss: 0.0\n",
      "Epoch [30/100], Total Loss: 2.4291703084600158e-05, Category Loss: 2.4291703084600158e-05, Density Loss: 0.0\n",
      "Epoch [31/100], Total Loss: 2.4291703084600158e-05, Category Loss: 2.4291703084600158e-05, Density Loss: 0.0\n",
      "Epoch [32/100], Total Loss: 2.4291703084600158e-05, Category Loss: 2.4291703084600158e-05, Density Loss: 0.0\n",
      "Epoch [33/100], Total Loss: 2.4291703084600158e-05, Category Loss: 2.4291703084600158e-05, Density Loss: 0.0\n",
      "Epoch [34/100], Total Loss: 2.4291703084600158e-05, Category Loss: 2.4291703084600158e-05, Density Loss: 0.0\n",
      "Epoch [35/100], Total Loss: 2.4291703084600158e-05, Category Loss: 2.4291703084600158e-05, Density Loss: 0.0\n",
      "Epoch [36/100], Total Loss: 2.4291703084600158e-05, Category Loss: 2.4291703084600158e-05, Density Loss: 0.0\n",
      "Epoch [37/100], Total Loss: 2.4291703084600158e-05, Category Loss: 2.4291703084600158e-05, Density Loss: 0.0\n",
      "Epoch [38/100], Total Loss: 2.4291703084600158e-05, Category Loss: 2.4291703084600158e-05, Density Loss: 0.0\n",
      "Epoch [39/100], Total Loss: 2.4291703084600158e-05, Category Loss: 2.4291703084600158e-05, Density Loss: 0.0\n",
      "Epoch [40/100], Total Loss: 2.4291703084600158e-05, Category Loss: 2.4291703084600158e-05, Density Loss: 0.0\n",
      "Epoch [41/100], Total Loss: 2.4291703084600158e-05, Category Loss: 2.4291703084600158e-05, Density Loss: 0.0\n",
      "Epoch [42/100], Total Loss: 2.4291703084600158e-05, Category Loss: 2.4291703084600158e-05, Density Loss: 0.0\n",
      "Epoch [43/100], Total Loss: 2.4291703084600158e-05, Category Loss: 2.4291703084600158e-05, Density Loss: 0.0\n",
      "Epoch [44/100], Total Loss: 2.4291703084600158e-05, Category Loss: 2.4291703084600158e-05, Density Loss: 0.0\n",
      "Epoch [45/100], Total Loss: 2.4291703084600158e-05, Category Loss: 2.4291703084600158e-05, Density Loss: 0.0\n",
      "Epoch [46/100], Total Loss: 2.4291703084600158e-05, Category Loss: 2.4291703084600158e-05, Density Loss: 0.0\n",
      "Epoch [47/100], Total Loss: 2.4291703084600158e-05, Category Loss: 2.4291703084600158e-05, Density Loss: 0.0\n",
      "Epoch [48/100], Total Loss: 2.4291703084600158e-05, Category Loss: 2.4291703084600158e-05, Density Loss: 0.0\n",
      "Epoch [49/100], Total Loss: 2.4291703084600158e-05, Category Loss: 2.4291703084600158e-05, Density Loss: 0.0\n",
      "Epoch [50/100], Total Loss: 2.4291703084600158e-05, Category Loss: 2.4291703084600158e-05, Density Loss: 0.0\n",
      "Epoch [51/100], Total Loss: 2.4291703084600158e-05, Category Loss: 2.4291703084600158e-05, Density Loss: 0.0\n",
      "Epoch [52/100], Total Loss: 2.4291703084600158e-05, Category Loss: 2.4291703084600158e-05, Density Loss: 0.0\n",
      "Epoch [53/100], Total Loss: 2.4291703084600158e-05, Category Loss: 2.4291703084600158e-05, Density Loss: 0.0\n",
      "Epoch [54/100], Total Loss: 2.4291703084600158e-05, Category Loss: 2.4291703084600158e-05, Density Loss: 0.0\n",
      "Epoch [55/100], Total Loss: 2.4291703084600158e-05, Category Loss: 2.4291703084600158e-05, Density Loss: 0.0\n",
      "Epoch [56/100], Total Loss: 2.4291703084600158e-05, Category Loss: 2.4291703084600158e-05, Density Loss: 0.0\n",
      "Epoch [57/100], Total Loss: 2.4291703084600158e-05, Category Loss: 2.4291703084600158e-05, Density Loss: 0.0\n",
      "Epoch [58/100], Total Loss: 2.4291703084600158e-05, Category Loss: 2.4291703084600158e-05, Density Loss: 0.0\n",
      "Epoch [59/100], Total Loss: 2.4291703084600158e-05, Category Loss: 2.4291703084600158e-05, Density Loss: 0.0\n",
      "Epoch [60/100], Total Loss: 2.4291703084600158e-05, Category Loss: 2.4291703084600158e-05, Density Loss: 0.0\n",
      "Epoch [61/100], Total Loss: 2.4291703084600158e-05, Category Loss: 2.4291703084600158e-05, Density Loss: 0.0\n",
      "Epoch [62/100], Total Loss: 2.4291703084600158e-05, Category Loss: 2.4291703084600158e-05, Density Loss: 0.0\n",
      "Epoch [63/100], Total Loss: 2.4291703084600158e-05, Category Loss: 2.4291703084600158e-05, Density Loss: 0.0\n",
      "Epoch [64/100], Total Loss: 2.4291703084600158e-05, Category Loss: 2.4291703084600158e-05, Density Loss: 0.0\n",
      "Epoch [65/100], Total Loss: 2.4291703084600158e-05, Category Loss: 2.4291703084600158e-05, Density Loss: 0.0\n",
      "Epoch [66/100], Total Loss: 2.4291703084600158e-05, Category Loss: 2.4291703084600158e-05, Density Loss: 0.0\n",
      "Epoch [67/100], Total Loss: 2.4291703084600158e-05, Category Loss: 2.4291703084600158e-05, Density Loss: 0.0\n",
      "Epoch [68/100], Total Loss: 2.4291703084600158e-05, Category Loss: 2.4291703084600158e-05, Density Loss: 0.0\n",
      "Epoch [69/100], Total Loss: 2.4291703084600158e-05, Category Loss: 2.4291703084600158e-05, Density Loss: 0.0\n",
      "Epoch [70/100], Total Loss: 2.4291703084600158e-05, Category Loss: 2.4291703084600158e-05, Density Loss: 0.0\n",
      "Epoch [71/100], Total Loss: 2.4291703084600158e-05, Category Loss: 2.4291703084600158e-05, Density Loss: 0.0\n",
      "Epoch [72/100], Total Loss: 2.4291703084600158e-05, Category Loss: 2.4291703084600158e-05, Density Loss: 0.0\n",
      "Epoch [73/100], Total Loss: 2.4291703084600158e-05, Category Loss: 2.4291703084600158e-05, Density Loss: 0.0\n",
      "Epoch [74/100], Total Loss: 2.4291703084600158e-05, Category Loss: 2.4291703084600158e-05, Density Loss: 0.0\n",
      "Epoch [75/100], Total Loss: 2.4291703084600158e-05, Category Loss: 2.4291703084600158e-05, Density Loss: 0.0\n",
      "Epoch [76/100], Total Loss: 2.4291703084600158e-05, Category Loss: 2.4291703084600158e-05, Density Loss: 0.0\n",
      "Epoch [77/100], Total Loss: 2.4291703084600158e-05, Category Loss: 2.4291703084600158e-05, Density Loss: 0.0\n",
      "Epoch [78/100], Total Loss: 2.4291703084600158e-05, Category Loss: 2.4291703084600158e-05, Density Loss: 0.0\n",
      "Epoch [79/100], Total Loss: 2.4291703084600158e-05, Category Loss: 2.4291703084600158e-05, Density Loss: 0.0\n",
      "Epoch [80/100], Total Loss: 2.4291703084600158e-05, Category Loss: 2.4291703084600158e-05, Density Loss: 0.0\n",
      "Epoch [81/100], Total Loss: 2.4291703084600158e-05, Category Loss: 2.4291703084600158e-05, Density Loss: 0.0\n",
      "Epoch [82/100], Total Loss: 2.4291703084600158e-05, Category Loss: 2.4291703084600158e-05, Density Loss: 0.0\n",
      "Epoch [83/100], Total Loss: 2.4291703084600158e-05, Category Loss: 2.4291703084600158e-05, Density Loss: 0.0\n",
      "Epoch [84/100], Total Loss: 2.4291703084600158e-05, Category Loss: 2.4291703084600158e-05, Density Loss: 0.0\n",
      "Epoch [85/100], Total Loss: 2.4291703084600158e-05, Category Loss: 2.4291703084600158e-05, Density Loss: 0.0\n",
      "Epoch [86/100], Total Loss: 2.4291703084600158e-05, Category Loss: 2.4291703084600158e-05, Density Loss: 0.0\n",
      "Epoch [87/100], Total Loss: 2.4291703084600158e-05, Category Loss: 2.4291703084600158e-05, Density Loss: 0.0\n",
      "Epoch [88/100], Total Loss: 2.4291703084600158e-05, Category Loss: 2.4291703084600158e-05, Density Loss: 0.0\n",
      "Epoch [89/100], Total Loss: 2.4291703084600158e-05, Category Loss: 2.4291703084600158e-05, Density Loss: 0.0\n",
      "Epoch [90/100], Total Loss: 2.4291703084600158e-05, Category Loss: 2.4291703084600158e-05, Density Loss: 0.0\n",
      "Epoch [91/100], Total Loss: 2.4291703084600158e-05, Category Loss: 2.4291703084600158e-05, Density Loss: 0.0\n",
      "Epoch [92/100], Total Loss: 2.4291703084600158e-05, Category Loss: 2.4291703084600158e-05, Density Loss: 0.0\n",
      "Epoch [93/100], Total Loss: 2.4291703084600158e-05, Category Loss: 2.4291703084600158e-05, Density Loss: 0.0\n",
      "Epoch [94/100], Total Loss: 2.4291703084600158e-05, Category Loss: 2.4291703084600158e-05, Density Loss: 0.0\n",
      "Epoch [95/100], Total Loss: 2.4291703084600158e-05, Category Loss: 2.4291703084600158e-05, Density Loss: 0.0\n",
      "Epoch [96/100], Total Loss: 2.4291703084600158e-05, Category Loss: 2.4291703084600158e-05, Density Loss: 0.0\n",
      "Epoch [97/100], Total Loss: 2.4291703084600158e-05, Category Loss: 2.4291703084600158e-05, Density Loss: 0.0\n",
      "Epoch [98/100], Total Loss: 2.4291703084600158e-05, Category Loss: 2.4291703084600158e-05, Density Loss: 0.0\n",
      "Epoch [99/100], Total Loss: 2.4291703084600158e-05, Category Loss: 2.4291703084600158e-05, Density Loss: 0.0\n",
      "Epoch [100/100], Total Loss: 2.4291703084600158e-05, Category Loss: 2.4291703084600158e-05, Density Loss: 0.0\n",
      "正在现有浏览器会话中打开。\n"
     ]
    }
   ],
   "source": [
    "import torch\n",
    "import torch.nn as nn\n",
    "import torch.optim as optim\n",
    "import numpy as np\n",
    "import plotly.graph_objects as go\n",
    "import plotly.io as pio\n",
    "\n",
    "\n",
    "class DynamicGridModel(nn.Module):\n",
    "    def __init__(self, x, y, venue_category, num_categories, grid_size=50):\n",
    "        super(DynamicGridModel, self).__init__()\n",
    "        self.device = torch.device(\"cuda\" if torch.cuda.is_available() else \"cpu\")\n",
    "        \n",
    "        # 将坐标和类目信息移至设备上\n",
    "        self.x = torch.tensor(x, dtype=torch.float32).to(self.device)\n",
    "        self.y = torch.tensor(y, dtype=torch.float32).to(self.device)\n",
    "        self.venue_category = torch.tensor(venue_category, dtype=torch.long).to(self.device)\n",
    "        self.num_categories = num_categories  # 将类目总数保存为模型属性\n",
    "        # 计算全体类目的比例\n",
    "        category_counts = torch.bincount(self.venue_category)\n",
    "        self.category_proportions = category_counts.float() / category_counts.sum()\n",
    "        \n",
    "        # 初始化网格边界和网格大小\n",
    "        self.grid_size = grid_size\n",
    "        self.grid_boundaries = nn.Parameter(torch.rand((grid_size, 2), dtype=torch.float32).to(self.device))  # 每个网格的左下角坐标\n",
    "        self.grid_sizes = nn.Parameter(torch.rand((grid_size, 2), dtype=torch.float32).to(self.device))  # 每个网格的宽度和高度\n",
    "\n",
    "    def compute_grid_category_proportions(self):\n",
    "        grid_category_proportions = torch.zeros(self.grid_size, len(self.category_proportions)).to(self.device)\n",
    "        grid_item_count = torch.zeros(self.grid_size).to(self.device)\n",
    "        grid_area = torch.zeros(self.grid_size).to(self.device)\n",
    "        \n",
    "        for i in range(self.grid_size):\n",
    "            x_min, y_min = self.grid_boundaries[i, 0], self.grid_boundaries[i, 1]\n",
    "            x_max, y_max = x_min + self.grid_sizes[i, 0], y_min + self.grid_sizes[i, 1]\n",
    "\n",
    "            in_grid = (self.x >= x_min) & (self.x < x_max) & (self.y >= y_min) & (self.y < y_max)\n",
    "            grid_category_count = torch.bincount(self.venue_category[in_grid], minlength=len(self.category_proportions))\n",
    "            grid_item_count[i] = in_grid.sum().float()\n",
    "            grid_area[i] = self.grid_sizes[i, 0] * self.grid_sizes[i, 1]\n",
    "\n",
    "            if grid_category_count.sum() > 0:\n",
    "                grid_category_proportions[i] = grid_category_count.float() / grid_category_count.sum()\n",
    "\n",
    "        return grid_category_proportions, grid_item_count, grid_area\n",
    "\n",
    "    def compute_mse(self, predictions, target):\n",
    "        return ((predictions - target) ** 2).mean()\n",
    "\n",
    "    def compute_density_loss(self, grid_item_count, grid_area):\n",
    "        grid_density = grid_item_count / grid_area\n",
    "        target_density = grid_item_count.sum() / grid_area.sum()\n",
    "        return ((grid_density - target_density) ** 2).mean()\n",
    "\n",
    "    def forward(self):\n",
    "        grid_category_proportions, grid_item_count, grid_area = self.compute_grid_category_proportions()\n",
    "        category_loss = self.compute_mse(grid_category_proportions, self.category_proportions)\n",
    "        density_loss = self.compute_density_loss(grid_item_count, grid_area)\n",
    "        total_loss = category_loss + density_loss\n",
    "        return total_loss, category_loss, density_loss\n",
    "\n",
    "    def visualize_grid(self):\n",
    "        \"\"\"\n",
    "        使用 Plotly 可视化网格分布。\n",
    "        \"\"\"\n",
    "        grid_boundaries = self.grid_boundaries.detach().cpu().numpy()\n",
    "        grid_sizes = self.grid_sizes.detach().cpu().numpy()\n",
    "        grid_colors = []\n",
    "        grid_text = []\n",
    "\n",
    "        # 遍历每个网格，计算密度与类目比例\n",
    "        for i in range(self.grid_size):\n",
    "            x_min, y_min = grid_boundaries[i]\n",
    "            x_max, y_max = x_min + grid_sizes[i, 0], y_min + grid_sizes[i, 1]\n",
    "            grid_points = ((self.x >= x_min) & (self.x < x_max) &\n",
    "                           (self.y >= y_min) & (self.y < y_max))\n",
    "            category_counts = torch.bincount(self.venue_category[grid_points], minlength=len(self.category_proportions)).cpu().numpy()\n",
    "            density = grid_points.sum().item() / ((x_max - x_min) * (y_max - y_min) + 1e-6)\n",
    "\n",
    "            # 计算网格颜色，基于类目比例和密度\n",
    "            category_ratio = category_counts / (category_counts.sum() + 1e-6)\n",
    "            color = f\"rgba({category_ratio[0] * 255}, {category_ratio[1] * 255}, {category_ratio[2] * 255}, 0.5)\"\n",
    "            grid_colors.append(color)\n",
    "\n",
    "            # 添加文本信息（密度和类目比例）\n",
    "            grid_text.append(f\"Density: {density:.2f}<br>Category Ratios: {category_ratio}\")\n",
    "\n",
    "        # 使用 Plotly 绘制网格边界和中心点\n",
    "        fig = go.Figure()\n",
    "\n",
    "        # 绘制网格\n",
    "        for i in range(self.grid_size):\n",
    "            x_min, y_min = grid_boundaries[i]\n",
    "            x_max, y_max = x_min + grid_sizes[i, 0], y_min + grid_sizes[i, 1]\n",
    "            fig.add_trace(go.Scatter(\n",
    "                x=[x_min, x_min, x_max, x_max, x_min],\n",
    "                y=[y_min, y_max, y_max, y_min, y_min],\n",
    "                fill='toself',\n",
    "                fillcolor=grid_colors[i],\n",
    "                line=dict(color='black', width=1),\n",
    "                mode='lines',\n",
    "                hoverinfo=\"text\",\n",
    "                text=grid_text[i]\n",
    "            ))\n",
    "\n",
    "        # 绘制中心点\n",
    "        fig.add_trace(go.Scatter(\n",
    "            x=self.x.cpu(),\n",
    "            y=self.y.cpu(),\n",
    "            mode='markers',\n",
    "            marker=dict(\n",
    "                color=[f\"rgba({c * 255}, {c * 255}, 150, 0.5)\" for c in self.venue_category.cpu().numpy() / self.num_categories],\n",
    "                size=5,\n",
    "            ),\n",
    "            hoverinfo=\"skip\"\n",
    "        ))\n",
    "\n",
    "        fig.update_layout(\n",
    "            title=\"Dynamic Grid Visualization with Density and Category Ratios\",\n",
    "            xaxis_title=\"Longitude\",\n",
    "            yaxis_title=\"Latitude\",\n",
    "            showlegend=False\n",
    "        )\n",
    "\n",
    "        pio.renderers.default = 'browser'\n",
    "        fig.show()\n",
    "\n",
    "# 使用模型\n",
    "# 假设 dataset 是包含经纬度和类目信息的 DataFrame\n",
    "locations = dataset.item_feat.to_numpy()  # 获取 numpy 数组\n",
    "venue_id = locations[:, 0]\n",
    "venue_category = locations[:, 1]\n",
    "x = locations[:, 2]\n",
    "y = locations[:, 3]\n",
    "\n",
    "num_categories = len(np.unique(venue_category))\n",
    "\n",
    "device = torch.device(\"cuda\" if torch.cuda.is_available() else \"cpu\")\n",
    "model = DynamicGridModel(x, y, venue_category, num_categories, grid_size=50).to(device)\n",
    "\n",
    "optimizer = optim.Adam(model.parameters(), lr=0.01)\n",
    "num_epochs = 100\n",
    "\n",
    "# 训练模型\n",
    "for epoch in range(num_epochs):\n",
    "    optimizer.zero_grad()\n",
    "    total_loss, category_loss, density_loss = model()\n",
    "    total_loss.backward()\n",
    "    optimizer.step()\n",
    "    \n",
    "    print(f\"Epoch [{epoch+1}/{num_epochs}], Total Loss: {total_loss.item()}, Category Loss: {category_loss.item()}, Density Loss: {density_loss.item()}\")\n",
    "\n",
    "# 可视化结果\n",
    "model.visualize_grid()\n"
   ]
  },
  {
   "cell_type": "code",
   "execution_count": null,
   "metadata": {},
   "outputs": [],
   "source": [
    "import utils\n",
    "importlib.reload(utils)\n",
    "from utils import *\n",
    "# dataset splitting\n",
    "train_data, valid_data, test_data = data_preparation(config, dataset)\n"
   ]
  },
  {
   "cell_type": "code",
   "execution_count": null,
   "metadata": {},
   "outputs": [],
   "source": [
    "print(dataset.inter_feat)\n",
    "for batch_idx, interaction in enumerate(train_data):\n",
    "    print(interaction)\n",
    "    break"
   ]
  },
  {
   "cell_type": "code",
   "execution_count": null,
   "metadata": {},
   "outputs": [],
   "source": [
    "\n",
    "import importlib\n",
    "import mamba4poi\n",
    "import utils\n",
    "importlib.reload(mamba4poi)\n",
    "importlib.reload(utils)\n",
    "from utils import *\n",
    "from mamba4poi import Mamba4POI\n",
    "import os\n",
    "# 设置 CUDA_LAUNCH_BLOCKING 为 1\n",
    "os.environ['CUDA_LAUNCH_BLOCKING'] = '1'\n",
    "if __name__ == '__main__':\n",
    "    config = Config(model=Mamba4POI, config_file_list=['config.yaml'])\n",
    "    init_seed(config['seed'], config['reproducibility'])\n",
    "    \n",
    "    # logger initialization\n",
    "    init_logger(config)\n",
    "    logger = getLogger()\n",
    "    logger.info(sys.argv)\n",
    "    logger.info(config)\n",
    "\n",
    "    logger.info(dataset)\n",
    "\n",
    "    # model loading and initialization\n",
    "    init_seed(config[\"seed\"] + config[\"local_rank\"], config[\"reproducibility\"])\n",
    "    model = Mamba4POI(config, train_data.dataset).to(config['device'])\n",
    "    logger.info(model)\n",
    "    \n",
    "    transform = construct_transform(config)\n",
    "    flops = get_flops(model, dataset, config[\"device\"], logger, transform)\n",
    "    logger.info(set_color(\"FLOPs\", \"blue\") + f\": {flops}\")\n",
    "\n",
    "    # trainer loading and initialization\n",
    "    trainer = Trainer(config, model)\n",
    "\n",
    "    best_valid_score, best_valid_result = trainer.fit(\n",
    "    train_data,\n",
    "    valid_data,  # 可以保留验证数据集\n",
    "    verbose=True,    # 保留详细信息，打印结果\n",
    "    saved=True,      # 根据需要决定是否保存模型参数\n",
    "    show_progress=True,  # 不显示进度条\n",
    "    callback_fn=None  # 如果不需要回调函数，可以设置为 None\n",
    ")\n",
    "\n",
    "\n",
    "\n",
    "    # model evaluation\n",
    "    test_result = trainer.evaluate(\n",
    "        test_data, show_progress=config[\"show_progress\"]\n",
    "    )\n",
    "    \n",
    "    environment_tb = get_environment(config)\n",
    "    logger.info(\n",
    "        \"The running environment of this training is as follows:\\n\"\n",
    "        + environment_tb.draw()\n",
    "    )\n",
    "\n",
    "    logger.info(set_color(\"best valid \", \"yellow\") + f\": {best_valid_result}\")\n",
    "    logger.info(set_color(\"test result\", \"yellow\") + f\": {test_result}\")"
   ]
  }
 ],
 "metadata": {
  "kernelspec": {
   "display_name": "Pytorch",
   "language": "python",
   "name": "python3"
  },
  "language_info": {
   "codemirror_mode": {
    "name": "ipython",
    "version": 3
   },
   "file_extension": ".py",
   "mimetype": "text/x-python",
   "name": "python",
   "nbconvert_exporter": "python",
   "pygments_lexer": "ipython3",
   "version": "3.8.20"
  }
 },
 "nbformat": 4,
 "nbformat_minor": 2
}
